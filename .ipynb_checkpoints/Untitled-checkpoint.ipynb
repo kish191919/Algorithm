{
 "cells": [
  {
   "cell_type": "code",
   "execution_count": 1,
   "id": "7deea48e",
   "metadata": {},
   "outputs": [
    {
     "name": "stderr",
     "output_type": "stream",
     "text": [
      "22/01/20 21:02:15 WARN Utils: Your hostname, sunghwanui-MacBookPro.local resolves to a loopback address: 127.0.0.1; using 192.168.1.8 instead (on interface en0)\n",
      "22/01/20 21:02:15 WARN Utils: Set SPARK_LOCAL_IP if you need to bind to another address\n",
      "22/01/20 21:02:16 WARN NativeCodeLoader: Unable to load native-hadoop library for your platform... using builtin-java classes where applicable\n",
      "Using Spark's default log4j profile: org/apache/spark/log4j-defaults.properties\n",
      "Setting default log level to \"WARN\".\n",
      "To adjust logging level use sc.setLogLevel(newLevel). For SparkR, use setLogLevel(newLevel).\n"
     ]
    }
   ],
   "source": [
    "from pyspark.sql import SparkSession\n",
    "spark = SparkSession.builder.appName(\"data\").getOrCreate()"
   ]
  },
  {
   "cell_type": "code",
   "execution_count": 22,
   "id": "bac4633e",
   "metadata": {},
   "outputs": [
    {
     "name": "stdout",
     "output_type": "stream",
     "text": [
      "+-------+----------+------+\n",
      "|   Name|Department|Salary|\n",
      "+-------+----------+------+\n",
      "|  danny|  big data| 30000|\n",
      "|hyunjoo|     admin| 40000|\n",
      "| eileen|  big data| 70000|\n",
      "| hailey|        it|  3400|\n",
      "|   john|        it| 40000|\n",
      "|    kim|  big data|200000|\n",
      "|  nadal|        it| 30000|\n",
      "+-------+----------+------+\n",
      "\n"
     ]
    }
   ],
   "source": [
    "df = spark.read.csv(\"test3.csv\", header=True, inferSchema = True)\n",
    "df.show()"
   ]
  },
  {
   "cell_type": "code",
   "execution_count": 23,
   "id": "5c9f1ddb",
   "metadata": {},
   "outputs": [
    {
     "name": "stdout",
     "output_type": "stream",
     "text": [
      "root\n",
      " |-- Name: string (nullable = true)\n",
      " |-- Department: string (nullable = true)\n",
      " |-- Salary: integer (nullable = true)\n",
      "\n"
     ]
    }
   ],
   "source": [
    "df.printSchema()"
   ]
  },
  {
   "cell_type": "code",
   "execution_count": 24,
   "id": "47b70ff5",
   "metadata": {},
   "outputs": [
    {
     "data": {
      "text/plain": [
       "[('Name', 'string'), ('Department', 'string'), ('Salary', 'int')]"
      ]
     },
     "execution_count": 24,
     "metadata": {},
     "output_type": "execute_result"
    }
   ],
   "source": [
    "df.dtypes"
   ]
  },
  {
   "cell_type": "code",
   "execution_count": 25,
   "id": "f553acdb",
   "metadata": {},
   "outputs": [
    {
     "data": {
      "text/plain": [
       "['Name', 'Department', 'Salary']"
      ]
     },
     "execution_count": 25,
     "metadata": {},
     "output_type": "execute_result"
    }
   ],
   "source": [
    "df.columns"
   ]
  },
  {
   "cell_type": "code",
   "execution_count": 26,
   "id": "9531f700",
   "metadata": {},
   "outputs": [
    {
     "name": "stdout",
     "output_type": "stream",
     "text": [
      "+-------+-----+----------+------------------+\n",
      "|summary| Name|Department|            Salary|\n",
      "+-------+-----+----------+------------------+\n",
      "|  count|    7|         7|                 7|\n",
      "|   mean| null|      null|59057.142857142855|\n",
      "| stddev| null|      null|65188.620099494285|\n",
      "|    min|danny|     admin|              3400|\n",
      "|    max|nadal|        it|            200000|\n",
      "+-------+-----+----------+------------------+\n",
      "\n"
     ]
    }
   ],
   "source": [
    "df.describe().show()"
   ]
  },
  {
   "cell_type": "code",
   "execution_count": 27,
   "id": "9bd461b1",
   "metadata": {},
   "outputs": [
    {
     "data": {
      "text/plain": [
       "[Row(Name='danny', Department='big data', Salary=30000),\n",
       " Row(Name='hyunjoo', Department='admin', Salary=40000),\n",
       " Row(Name='eileen', Department='big data', Salary=70000),\n",
       " Row(Name='hailey', Department='it', Salary=3400),\n",
       " Row(Name='john', Department='it', Salary=40000)]"
      ]
     },
     "execution_count": 27,
     "metadata": {},
     "output_type": "execute_result"
    }
   ],
   "source": [
    "df.head(5)"
   ]
  },
  {
   "cell_type": "code",
   "execution_count": 28,
   "id": "cfb044cb",
   "metadata": {},
   "outputs": [
    {
     "name": "stdout",
     "output_type": "stream",
     "text": [
      "danny\n",
      "hyunjoo\n",
      "eileen\n",
      "hailey\n",
      "john\n",
      "kim\n",
      "nadal\n"
     ]
    }
   ],
   "source": [
    "for i in df.head(10):\n",
    "    print(i[\"Name\"])"
   ]
  },
  {
   "cell_type": "code",
   "execution_count": 29,
   "id": "a014cd5a",
   "metadata": {},
   "outputs": [],
   "source": [
    "df = df.withColumn(\"Salary_2\", df[\"Salary\"]*2)\n"
   ]
  },
  {
   "cell_type": "code",
   "execution_count": 30,
   "id": "b78cbe9a",
   "metadata": {},
   "outputs": [
    {
     "name": "stdout",
     "output_type": "stream",
     "text": [
      "+-------+----------+------+--------+\n",
      "|   Name|Department|Salary|Salary_2|\n",
      "+-------+----------+------+--------+\n",
      "|  danny|  big data| 30000|   60000|\n",
      "|hyunjoo|     admin| 40000|   80000|\n",
      "| eileen|  big data| 70000|  140000|\n",
      "| hailey|        it|  3400|    6800|\n",
      "|   john|        it| 40000|   80000|\n",
      "|    kim|  big data|200000|  400000|\n",
      "|  nadal|        it| 30000|   60000|\n",
      "+-------+----------+------+--------+\n",
      "\n"
     ]
    }
   ],
   "source": [
    "df.show()"
   ]
  },
  {
   "cell_type": "code",
   "execution_count": 31,
   "id": "50b7117c",
   "metadata": {},
   "outputs": [
    {
     "name": "stdout",
     "output_type": "stream",
     "text": [
      "+-------+----------+------+--------+\n",
      "|   Name|Department|Salary|Salary_3|\n",
      "+-------+----------+------+--------+\n",
      "|  danny|  big data| 30000|   60000|\n",
      "|hyunjoo|     admin| 40000|   80000|\n",
      "| eileen|  big data| 70000|  140000|\n",
      "| hailey|        it|  3400|    6800|\n",
      "|   john|        it| 40000|   80000|\n",
      "|    kim|  big data|200000|  400000|\n",
      "|  nadal|        it| 30000|   60000|\n",
      "+-------+----------+------+--------+\n",
      "\n"
     ]
    }
   ],
   "source": [
    "df = df.withColumnRenamed(\"Salary_2\", \"Salary_3\")\n",
    "df.show()"
   ]
  },
  {
   "cell_type": "code",
   "execution_count": 32,
   "id": "96b941aa",
   "metadata": {},
   "outputs": [
    {
     "name": "stdout",
     "output_type": "stream",
     "text": [
      "+-------+----------+------+\n",
      "|   Name|Department|Salary|\n",
      "+-------+----------+------+\n",
      "|  danny|  big data| 30000|\n",
      "|hyunjoo|     admin| 40000|\n",
      "| eileen|  big data| 70000|\n",
      "| hailey|        it|  3400|\n",
      "|   john|        it| 40000|\n",
      "|    kim|  big data|200000|\n",
      "|  nadal|        it| 30000|\n",
      "+-------+----------+------+\n",
      "\n"
     ]
    }
   ],
   "source": [
    "df=df.drop(\"Salary_3\")\n",
    "df.show()"
   ]
  },
  {
   "cell_type": "code",
   "execution_count": 33,
   "id": "321e5a5a",
   "metadata": {},
   "outputs": [
    {
     "name": "stdout",
     "output_type": "stream",
     "text": [
      "+----------+-----------+\n",
      "|Department|sum(Salary)|\n",
      "+----------+-----------+\n",
      "|  big data|     300000|\n",
      "|        it|      73400|\n",
      "|     admin|      40000|\n",
      "+----------+-----------+\n",
      "\n"
     ]
    }
   ],
   "source": [
    "df.groupBy(\"Department\").sum(\"Salary\").show()"
   ]
  },
  {
   "cell_type": "code",
   "execution_count": 36,
   "id": "5af146b3",
   "metadata": {},
   "outputs": [
    {
     "name": "stdout",
     "output_type": "stream",
     "text": [
      "+-----------+\n",
      "|sum(Salary)|\n",
      "+-----------+\n",
      "|     413400|\n",
      "+-----------+\n",
      "\n"
     ]
    }
   ],
   "source": [
    "df.agg({\"Salary\":\"sum\"}).show()"
   ]
  },
  {
   "cell_type": "code",
   "execution_count": 37,
   "id": "52928945",
   "metadata": {},
   "outputs": [
    {
     "name": "stdout",
     "output_type": "stream",
     "text": [
      "+------------------+\n",
      "|       avg(Salary)|\n",
      "+------------------+\n",
      "|59057.142857142855|\n",
      "+------------------+\n",
      "\n"
     ]
    }
   ],
   "source": [
    "df.agg({\"Salary\":\"mean\"}).show()"
   ]
  },
  {
   "cell_type": "code",
   "execution_count": 41,
   "id": "36b90b38",
   "metadata": {},
   "outputs": [
    {
     "name": "stdout",
     "output_type": "stream",
     "text": [
      "+-------+----+----------+------+\n",
      "|   Name| age|experience|Salary|\n",
      "+-------+----+----------+------+\n",
      "|  danny|  30|        10| 30000|\n",
      "|hyunjoo|  33|      null| 40000|\n",
      "| eileen|  23|         5| 70000|\n",
      "| hailey|  44|         4|  3400|\n",
      "|   null|null|      null| 40000|\n",
      "|    kim|  36|         6|200000|\n",
      "|   null|  87|         7| 30000|\n",
      "|   null|  49|      null|  null|\n",
      "+-------+----+----------+------+\n",
      "\n"
     ]
    }
   ],
   "source": [
    "df_1 = spark.read.csv(\"test2.csv\", header=True, inferSchema=True)\n",
    "df_1.show()"
   ]
  },
  {
   "cell_type": "code",
   "execution_count": 44,
   "id": "1400407e",
   "metadata": {},
   "outputs": [
    {
     "name": "stdout",
     "output_type": "stream",
     "text": [
      "+------+---+----------+------+\n",
      "|  Name|age|experience|Salary|\n",
      "+------+---+----------+------+\n",
      "| danny| 30|        10| 30000|\n",
      "|eileen| 23|         5| 70000|\n",
      "|hailey| 44|         4|  3400|\n",
      "|   kim| 36|         6|200000|\n",
      "+------+---+----------+------+\n",
      "\n"
     ]
    }
   ],
   "source": [
    "df_1.na.drop(how=\"any\").show()"
   ]
  },
  {
   "cell_type": "code",
   "execution_count": 47,
   "id": "ce6ee2b0",
   "metadata": {},
   "outputs": [
    {
     "name": "stdout",
     "output_type": "stream",
     "text": [
      "+------+---+----------+------+\n",
      "|  Name|age|experience|Salary|\n",
      "+------+---+----------+------+\n",
      "| danny| 30|        10| 30000|\n",
      "|eileen| 23|         5| 70000|\n",
      "|hailey| 44|         4|  3400|\n",
      "|   kim| 36|         6|200000|\n",
      "|  null| 87|         7| 30000|\n",
      "+------+---+----------+------+\n",
      "\n"
     ]
    }
   ],
   "source": [
    "df_1.na.drop(how=\"any\",subset=\"experience\").show()"
   ]
  },
  {
   "cell_type": "code",
   "execution_count": 48,
   "id": "29f43e0c",
   "metadata": {},
   "outputs": [
    {
     "name": "stdout",
     "output_type": "stream",
     "text": [
      "+-------+----+----------+------+\n",
      "|   Name| age|experience|Salary|\n",
      "+-------+----+----------+------+\n",
      "|  danny|  30|        10| 30000|\n",
      "|hyunjoo|  33|      null| 40000|\n",
      "| eileen|  23|         5| 70000|\n",
      "| hailey|  44|         4|  3400|\n",
      "|missing|null|      null| 40000|\n",
      "|    kim|  36|         6|200000|\n",
      "|missing|  87|         7| 30000|\n",
      "|missing|  49|      null|  null|\n",
      "+-------+----+----------+------+\n",
      "\n"
     ]
    }
   ],
   "source": [
    "df_1.na.fill(\"missing\").show()"
   ]
  },
  {
   "cell_type": "code",
   "execution_count": 51,
   "id": "bf342c86",
   "metadata": {},
   "outputs": [],
   "source": [
    "from pyspark.ml.feature import Imputer"
   ]
  },
  {
   "cell_type": "code",
   "execution_count": 73,
   "id": "b21dc768",
   "metadata": {},
   "outputs": [],
   "source": [
    "imputer = Imputer(inputCols =[\"experience\", \"age\",\"Salary\"],\n",
    "                 outputCols = [\"{}_imputed\".format(c) for c in [\"experience\", \"age\",\"Salary\"]]).setStrategy(\"mean\")"
   ]
  },
  {
   "cell_type": "code",
   "execution_count": 74,
   "id": "a4d56605",
   "metadata": {},
   "outputs": [
    {
     "name": "stdout",
     "output_type": "stream",
     "text": [
      "+-------+----+----------+------+------------------+-----------+--------------+\n",
      "|   Name| age|experience|Salary|experience_imputed|age_imputed|Salary_imputed|\n",
      "+-------+----+----------+------+------------------+-----------+--------------+\n",
      "|  danny|  30|        10| 30000|                10|         30|         30000|\n",
      "|hyunjoo|  33|      null| 40000|                 6|         33|         40000|\n",
      "| eileen|  23|         5| 70000|                 5|         23|         70000|\n",
      "| hailey|  44|         4|  3400|                 4|         44|          3400|\n",
      "|   null|null|      null| 40000|                 6|         43|         40000|\n",
      "|    kim|  36|         6|200000|                 6|         36|        200000|\n",
      "|   null|  87|         7| 30000|                 7|         87|         30000|\n",
      "|   null|  49|      null|  null|                 6|         49|         59057|\n",
      "+-------+----+----------+------+------------------+-----------+--------------+\n",
      "\n"
     ]
    }
   ],
   "source": [
    "df = imputer.fit(df_1).transform(df_1)\n",
    "df.show()"
   ]
  },
  {
   "cell_type": "code",
   "execution_count": 75,
   "id": "68ef6b2c",
   "metadata": {},
   "outputs": [
    {
     "name": "stdout",
     "output_type": "stream",
     "text": [
      "+-------+------------------+-----------+--------------+\n",
      "|   Name|experience_imputed|age_imputed|Salary_imputed|\n",
      "+-------+------------------+-----------+--------------+\n",
      "|  danny|                10|         30|         30000|\n",
      "|hyunjoo|                 6|         33|         40000|\n",
      "| eileen|                 5|         23|         70000|\n",
      "| hailey|                 4|         44|          3400|\n",
      "|   null|                 6|         43|         40000|\n",
      "|    kim|                 6|         36|        200000|\n",
      "|   null|                 7|         87|         30000|\n",
      "|   null|                 6|         49|         59057|\n",
      "+-------+------------------+-----------+--------------+\n",
      "\n"
     ]
    }
   ],
   "source": [
    "df=df.drop(\"age\", \"experience\", \"Salary\")\n",
    "df.show()"
   ]
  },
  {
   "cell_type": "code",
   "execution_count": 77,
   "id": "e45239ae",
   "metadata": {},
   "outputs": [
    {
     "name": "stdout",
     "output_type": "stream",
     "text": [
      "+-------+---+---+------+\n",
      "|   Name|exp|age|Salary|\n",
      "+-------+---+---+------+\n",
      "|  danny| 10| 30| 30000|\n",
      "|hyunjoo|  6| 33| 40000|\n",
      "| eileen|  5| 23| 70000|\n",
      "| hailey|  4| 44|  3400|\n",
      "|   null|  6| 43| 40000|\n",
      "|    kim|  6| 36|200000|\n",
      "|   null|  7| 87| 30000|\n",
      "|   null|  6| 49| 59057|\n",
      "+-------+---+---+------+\n",
      "\n"
     ]
    }
   ],
   "source": [
    "df = df.withColumnRenamed(\"experience_imputed\",\"exp\").withColumnRenamed(\"age_imputed\",\"age\").withColumnRenamed(\"Salary_imputed\",\"Salary\")\n",
    "df.show()"
   ]
  },
  {
   "cell_type": "code",
   "execution_count": 78,
   "id": "2e9f2a5e",
   "metadata": {},
   "outputs": [],
   "source": [
    "from pyspark.ml.feature import VectorAssembler"
   ]
  },
  {
   "cell_type": "code",
   "execution_count": 79,
   "id": "76ebfef4",
   "metadata": {},
   "outputs": [],
   "source": [
    "vector = VectorAssembler(inputCols=[\"exp\",\"age\"],\n",
    "                        outputCol=\"Indenpendent\")"
   ]
  },
  {
   "cell_type": "code",
   "execution_count": 80,
   "id": "d8a1a5cc",
   "metadata": {},
   "outputs": [
    {
     "name": "stdout",
     "output_type": "stream",
     "text": [
      "+-------+---+---+------+------------+\n",
      "|   Name|exp|age|Salary|Indenpendent|\n",
      "+-------+---+---+------+------------+\n",
      "|  danny| 10| 30| 30000| [10.0,30.0]|\n",
      "|hyunjoo|  6| 33| 40000|  [6.0,33.0]|\n",
      "| eileen|  5| 23| 70000|  [5.0,23.0]|\n",
      "| hailey|  4| 44|  3400|  [4.0,44.0]|\n",
      "|   null|  6| 43| 40000|  [6.0,43.0]|\n",
      "|    kim|  6| 36|200000|  [6.0,36.0]|\n",
      "|   null|  7| 87| 30000|  [7.0,87.0]|\n",
      "|   null|  6| 49| 59057|  [6.0,49.0]|\n",
      "+-------+---+---+------+------------+\n",
      "\n"
     ]
    }
   ],
   "source": [
    "df = vector.transform(df)\n",
    "df.show()"
   ]
  },
  {
   "cell_type": "code",
   "execution_count": 81,
   "id": "661d73bf",
   "metadata": {},
   "outputs": [
    {
     "data": {
      "text/plain": [
       "['Name', 'exp', 'age', 'Salary', 'Indenpendent']"
      ]
     },
     "execution_count": 81,
     "metadata": {},
     "output_type": "execute_result"
    }
   ],
   "source": [
    "df.columns"
   ]
  },
  {
   "cell_type": "code",
   "execution_count": 88,
   "id": "026ac8f4",
   "metadata": {},
   "outputs": [
    {
     "name": "stdout",
     "output_type": "stream",
     "text": [
      "+------+------------+\n",
      "|Salary|Indenpendent|\n",
      "+------+------------+\n",
      "| 30000| [10.0,30.0]|\n",
      "| 40000|  [6.0,33.0]|\n",
      "| 70000|  [5.0,23.0]|\n",
      "|  3400|  [4.0,44.0]|\n",
      "| 40000|  [6.0,43.0]|\n",
      "|200000|  [6.0,36.0]|\n",
      "| 30000|  [7.0,87.0]|\n",
      "| 59057|  [6.0,49.0]|\n",
      "+------+------------+\n",
      "\n"
     ]
    }
   ],
   "source": [
    "finalized_df = df.select([\"Salary\", \"Indenpendent\"])\n",
    "finalized_df.show()"
   ]
  },
  {
   "cell_type": "code",
   "execution_count": 89,
   "id": "246b638f",
   "metadata": {},
   "outputs": [],
   "source": [
    "from pyspark.ml.regression import LinearRegression"
   ]
  },
  {
   "cell_type": "code",
   "execution_count": 90,
   "id": "8511276b",
   "metadata": {},
   "outputs": [
    {
     "name": "stdout",
     "output_type": "stream",
     "text": [
      "+------+------------+\n",
      "|Salary|Indenpendent|\n",
      "+------+------------+\n",
      "|  3400|  [4.0,44.0]|\n",
      "| 30000|  [7.0,87.0]|\n",
      "| 30000| [10.0,30.0]|\n",
      "| 40000|  [6.0,43.0]|\n",
      "| 70000|  [5.0,23.0]|\n",
      "+------+------------+\n",
      "\n",
      "+------+------------+\n",
      "|Salary|Indenpendent|\n",
      "+------+------------+\n",
      "| 40000|  [6.0,33.0]|\n",
      "| 59057|  [6.0,49.0]|\n",
      "|200000|  [6.0,36.0]|\n",
      "+------+------------+\n",
      "\n"
     ]
    }
   ],
   "source": [
    "train, test = finalized_df.randomSplit([0.6,0.4])\n",
    "train.show()\n",
    "test.show()\n",
    "                                        "
   ]
  },
  {
   "cell_type": "code",
   "execution_count": 91,
   "id": "363461e2",
   "metadata": {},
   "outputs": [
    {
     "data": {
      "text/plain": [
       "LinearRegression_67bb85118dbd"
      ]
     },
     "execution_count": 91,
     "metadata": {},
     "output_type": "execute_result"
    }
   ],
   "source": [
    "re = LinearRegression(featuresCol=\"Indenpendent\", labelCol=\"Salary\")\n",
    "re"
   ]
  },
  {
   "cell_type": "code",
   "execution_count": 92,
   "id": "47b209ef",
   "metadata": {},
   "outputs": [
    {
     "name": "stderr",
     "output_type": "stream",
     "text": [
      "22/01/20 21:44:50 WARN Instrumentation: [8078b666] regParam is zero, which might cause numerical instability and overfitting.\n",
      "22/01/20 21:44:50 WARN BLAS: Failed to load implementation from: com.github.fommil.netlib.NativeSystemBLAS\n",
      "22/01/20 21:44:50 WARN BLAS: Failed to load implementation from: com.github.fommil.netlib.NativeRefBLAS\n",
      "22/01/20 21:44:50 WARN LAPACK: Failed to load implementation from: com.github.fommil.netlib.NativeSystemLAPACK\n",
      "22/01/20 21:44:50 WARN LAPACK: Failed to load implementation from: com.github.fommil.netlib.NativeRefLAPACK\n"
     ]
    },
    {
     "data": {
      "text/plain": [
       "LinearRegressionModel: uid=LinearRegression_67bb85118dbd, numFeatures=2"
      ]
     },
     "execution_count": 92,
     "metadata": {},
     "output_type": "execute_result"
    }
   ],
   "source": [
    "reg = re.fit(train)\n",
    "reg"
   ]
  },
  {
   "cell_type": "code",
   "execution_count": 95,
   "id": "98b9037f",
   "metadata": {},
   "outputs": [
    {
     "data": {
      "text/plain": [
       "DenseVector([268.678, -356.9179])"
      ]
     },
     "execution_count": 95,
     "metadata": {},
     "output_type": "execute_result"
    }
   ],
   "source": [
    "reg.coefficients"
   ]
  },
  {
   "cell_type": "code",
   "execution_count": 96,
   "id": "a95d8aab",
   "metadata": {},
   "outputs": [
    {
     "data": {
      "text/plain": [
       "49164.535450832234"
      ]
     },
     "execution_count": 96,
     "metadata": {},
     "output_type": "execute_result"
    }
   ],
   "source": [
    "reg.intercept"
   ]
  },
  {
   "cell_type": "code",
   "execution_count": 99,
   "id": "92d2c590",
   "metadata": {},
   "outputs": [],
   "source": [
    "result = reg.evaluate(test)"
   ]
  },
  {
   "cell_type": "code",
   "execution_count": 100,
   "id": "365fc103",
   "metadata": {},
   "outputs": [
    {
     "data": {
      "text/plain": [
       "<pyspark.ml.regression.LinearRegressionSummary at 0x7fd54f1cb220>"
      ]
     },
     "execution_count": 100,
     "metadata": {},
     "output_type": "execute_result"
    }
   ],
   "source": [
    "result"
   ]
  },
  {
   "cell_type": "code",
   "execution_count": 102,
   "id": "6ce91223",
   "metadata": {},
   "outputs": [
    {
     "name": "stdout",
     "output_type": "stream",
     "text": [
      "+------+------------+------------------+\n",
      "|Salary|Indenpendent|        prediction|\n",
      "+------+------------+------------------+\n",
      "| 40000|  [6.0,33.0]| 38998.31128452114|\n",
      "| 59057|  [6.0,49.0]|33287.624215082615|\n",
      "|200000|  [6.0,36.0]| 37927.55745900142|\n",
      "+------+------------+------------------+\n",
      "\n"
     ]
    }
   ],
   "source": [
    "result.predictions.show()"
   ]
  },
  {
   "cell_type": "code",
   "execution_count": 103,
   "id": "60c6857b",
   "metadata": {},
   "outputs": [
    {
     "data": {
      "text/plain": [
       "62947.835680464945"
      ]
     },
     "execution_count": 103,
     "metadata": {},
     "output_type": "execute_result"
    }
   ],
   "source": [
    "result.meanAbsoluteError"
   ]
  },
  {
   "cell_type": "code",
   "execution_count": 104,
   "id": "3c726442",
   "metadata": {},
   "outputs": [
    {
     "data": {
      "text/plain": [
       "8977513579.944096"
      ]
     },
     "execution_count": 104,
     "metadata": {},
     "output_type": "execute_result"
    }
   ],
   "source": [
    "result.meanSquaredError"
   ]
  },
  {
   "cell_type": "code",
   "execution_count": 105,
   "id": "d5a74e4d",
   "metadata": {},
   "outputs": [
    {
     "name": "stdout",
     "output_type": "stream",
     "text": [
      "+----------+----+------+------+---+------+----+\n",
      "|total_bill| tip|   sex|smoker|day|  time|size|\n",
      "+----------+----+------+------+---+------+----+\n",
      "|     16.99|1.01|Female|    No|Sun|Dinner|   2|\n",
      "|     10.34|1.66|  Male|    No|Sun|Dinner|   3|\n",
      "|     21.01| 3.5|  Male|    No|Sun|Dinner|   3|\n",
      "|     23.68|3.31|  Male|    No|Sun|Dinner|   2|\n",
      "|     24.59|3.61|Female|    No|Sun|Dinner|   4|\n",
      "|     25.29|4.71|  Male|    No|Sun|Dinner|   4|\n",
      "|      8.77| 2.0|  Male|    No|Sun|Dinner|   2|\n",
      "|     26.88|3.12|  Male|    No|Sun|Dinner|   4|\n",
      "|     15.04|1.96|  Male|    No|Sun|Dinner|   2|\n",
      "|     14.78|3.23|  Male|    No|Sun|Dinner|   2|\n",
      "|     10.27|1.71|  Male|    No|Sun|Dinner|   2|\n",
      "|     35.26| 5.0|Female|    No|Sun|Dinner|   4|\n",
      "|     15.42|1.57|  Male|    No|Sun|Dinner|   2|\n",
      "|     18.43| 3.0|  Male|    No|Sun|Dinner|   4|\n",
      "|     14.83|3.02|Female|    No|Sun|Dinner|   2|\n",
      "|     21.58|3.92|  Male|    No|Sun|Dinner|   2|\n",
      "|     10.33|1.67|Female|    No|Sun|Dinner|   3|\n",
      "|     16.29|3.71|  Male|    No|Sun|Dinner|   3|\n",
      "|     16.97| 3.5|Female|    No|Sun|Dinner|   3|\n",
      "|     20.65|3.35|  Male|    No|Sat|Dinner|   3|\n",
      "+----------+----+------+------+---+------+----+\n",
      "only showing top 20 rows\n",
      "\n"
     ]
    }
   ],
   "source": [
    "df = spark.read.csv(\"tips.csv\", header=True, inferSchema=True)\n",
    "df.show()"
   ]
  },
  {
   "cell_type": "code",
   "execution_count": 106,
   "id": "def7bf46",
   "metadata": {},
   "outputs": [
    {
     "name": "stdout",
     "output_type": "stream",
     "text": [
      "root\n",
      " |-- total_bill: double (nullable = true)\n",
      " |-- tip: double (nullable = true)\n",
      " |-- sex: string (nullable = true)\n",
      " |-- smoker: string (nullable = true)\n",
      " |-- day: string (nullable = true)\n",
      " |-- time: string (nullable = true)\n",
      " |-- size: integer (nullable = true)\n",
      "\n"
     ]
    }
   ],
   "source": [
    "df.printSchema()"
   ]
  },
  {
   "cell_type": "code",
   "execution_count": 107,
   "id": "ef4fd3c1",
   "metadata": {},
   "outputs": [],
   "source": [
    "from pyspark.ml.feature import StringIndexer"
   ]
  },
  {
   "cell_type": "code",
   "execution_count": 108,
   "id": "38d6cb7d",
   "metadata": {},
   "outputs": [
    {
     "name": "stdout",
     "output_type": "stream",
     "text": [
      "+----------+----+------+------+---+------+----+---------+\n",
      "|total_bill| tip|   sex|smoker|day|  time|size|sex_index|\n",
      "+----------+----+------+------+---+------+----+---------+\n",
      "|     16.99|1.01|Female|    No|Sun|Dinner|   2|      1.0|\n",
      "|     10.34|1.66|  Male|    No|Sun|Dinner|   3|      0.0|\n",
      "|     21.01| 3.5|  Male|    No|Sun|Dinner|   3|      0.0|\n",
      "|     23.68|3.31|  Male|    No|Sun|Dinner|   2|      0.0|\n",
      "|     24.59|3.61|Female|    No|Sun|Dinner|   4|      1.0|\n",
      "|     25.29|4.71|  Male|    No|Sun|Dinner|   4|      0.0|\n",
      "|      8.77| 2.0|  Male|    No|Sun|Dinner|   2|      0.0|\n",
      "|     26.88|3.12|  Male|    No|Sun|Dinner|   4|      0.0|\n",
      "|     15.04|1.96|  Male|    No|Sun|Dinner|   2|      0.0|\n",
      "|     14.78|3.23|  Male|    No|Sun|Dinner|   2|      0.0|\n",
      "|     10.27|1.71|  Male|    No|Sun|Dinner|   2|      0.0|\n",
      "|     35.26| 5.0|Female|    No|Sun|Dinner|   4|      1.0|\n",
      "|     15.42|1.57|  Male|    No|Sun|Dinner|   2|      0.0|\n",
      "|     18.43| 3.0|  Male|    No|Sun|Dinner|   4|      0.0|\n",
      "|     14.83|3.02|Female|    No|Sun|Dinner|   2|      1.0|\n",
      "|     21.58|3.92|  Male|    No|Sun|Dinner|   2|      0.0|\n",
      "|     10.33|1.67|Female|    No|Sun|Dinner|   3|      1.0|\n",
      "|     16.29|3.71|  Male|    No|Sun|Dinner|   3|      0.0|\n",
      "|     16.97| 3.5|Female|    No|Sun|Dinner|   3|      1.0|\n",
      "|     20.65|3.35|  Male|    No|Sat|Dinner|   3|      0.0|\n",
      "+----------+----+------+------+---+------+----+---------+\n",
      "only showing top 20 rows\n",
      "\n"
     ]
    }
   ],
   "source": [
    "index = StringIndexer(inputCol=\"sex\", outputCol=\"sex_index\")\n",
    "df_r = index.fit(df).transform(df)\n",
    "df_r.show()"
   ]
  },
  {
   "cell_type": "code",
   "execution_count": 110,
   "id": "61e555c8",
   "metadata": {},
   "outputs": [
    {
     "name": "stdout",
     "output_type": "stream",
     "text": [
      "+----------+----+------+------+---+------+----+----------+-------+--------+\n",
      "|total_bill| tip|   sex|smoker|day|  time|size|smoker_inx|day_inx|time_inx|\n",
      "+----------+----+------+------+---+------+----+----------+-------+--------+\n",
      "|     16.99|1.01|Female|    No|Sun|Dinner|   2|       0.0|    1.0|     0.0|\n",
      "|     10.34|1.66|  Male|    No|Sun|Dinner|   3|       0.0|    1.0|     0.0|\n",
      "|     21.01| 3.5|  Male|    No|Sun|Dinner|   3|       0.0|    1.0|     0.0|\n",
      "|     23.68|3.31|  Male|    No|Sun|Dinner|   2|       0.0|    1.0|     0.0|\n",
      "|     24.59|3.61|Female|    No|Sun|Dinner|   4|       0.0|    1.0|     0.0|\n",
      "|     25.29|4.71|  Male|    No|Sun|Dinner|   4|       0.0|    1.0|     0.0|\n",
      "|      8.77| 2.0|  Male|    No|Sun|Dinner|   2|       0.0|    1.0|     0.0|\n",
      "|     26.88|3.12|  Male|    No|Sun|Dinner|   4|       0.0|    1.0|     0.0|\n",
      "|     15.04|1.96|  Male|    No|Sun|Dinner|   2|       0.0|    1.0|     0.0|\n",
      "|     14.78|3.23|  Male|    No|Sun|Dinner|   2|       0.0|    1.0|     0.0|\n",
      "|     10.27|1.71|  Male|    No|Sun|Dinner|   2|       0.0|    1.0|     0.0|\n",
      "|     35.26| 5.0|Female|    No|Sun|Dinner|   4|       0.0|    1.0|     0.0|\n",
      "|     15.42|1.57|  Male|    No|Sun|Dinner|   2|       0.0|    1.0|     0.0|\n",
      "|     18.43| 3.0|  Male|    No|Sun|Dinner|   4|       0.0|    1.0|     0.0|\n",
      "|     14.83|3.02|Female|    No|Sun|Dinner|   2|       0.0|    1.0|     0.0|\n",
      "|     21.58|3.92|  Male|    No|Sun|Dinner|   2|       0.0|    1.0|     0.0|\n",
      "|     10.33|1.67|Female|    No|Sun|Dinner|   3|       0.0|    1.0|     0.0|\n",
      "|     16.29|3.71|  Male|    No|Sun|Dinner|   3|       0.0|    1.0|     0.0|\n",
      "|     16.97| 3.5|Female|    No|Sun|Dinner|   3|       0.0|    1.0|     0.0|\n",
      "|     20.65|3.35|  Male|    No|Sat|Dinner|   3|       0.0|    0.0|     0.0|\n",
      "+----------+----+------+------+---+------+----+----------+-------+--------+\n",
      "only showing top 20 rows\n",
      "\n"
     ]
    }
   ],
   "source": [
    "index = StringIndexer(inputCols=[\"smoker\",\"day\",\"time\"], outputCols=[\"smoker_inx\",\"day_inx\",\"time_inx\"])\n",
    "df_r = index.fit(df).transform(df)\n",
    "df_r.show()"
   ]
  },
  {
   "cell_type": "code",
   "execution_count": 113,
   "id": "54bd9ec9",
   "metadata": {},
   "outputs": [],
   "source": [
    "from pyspark.ml.feature import VectorAssembler"
   ]
  },
  {
   "cell_type": "code",
   "execution_count": 115,
   "id": "df215681",
   "metadata": {},
   "outputs": [],
   "source": [
    "vector = VectorAssembler(inputCols=[\"total_bill\", \"tip\",\"size\",\"smoker_inx\", \"day_inx\", \"time_inx\"],\n",
    "                        outputCol=\"independence\")"
   ]
  },
  {
   "cell_type": "code",
   "execution_count": 119,
   "id": "d26c778f",
   "metadata": {},
   "outputs": [
    {
     "name": "stdout",
     "output_type": "stream",
     "text": [
      "+----------+----+------+------+---+------+----+----------+-------+--------+--------------------+\n",
      "|total_bill| tip|   sex|smoker|day|  time|size|smoker_inx|day_inx|time_inx|        independence|\n",
      "+----------+----+------+------+---+------+----+----------+-------+--------+--------------------+\n",
      "|     16.99|1.01|Female|    No|Sun|Dinner|   2|       0.0|    1.0|     0.0|[16.99,1.01,2.0,0...|\n",
      "|     10.34|1.66|  Male|    No|Sun|Dinner|   3|       0.0|    1.0|     0.0|[10.34,1.66,3.0,0...|\n",
      "|     21.01| 3.5|  Male|    No|Sun|Dinner|   3|       0.0|    1.0|     0.0|[21.01,3.5,3.0,0....|\n",
      "|     23.68|3.31|  Male|    No|Sun|Dinner|   2|       0.0|    1.0|     0.0|[23.68,3.31,2.0,0...|\n",
      "|     24.59|3.61|Female|    No|Sun|Dinner|   4|       0.0|    1.0|     0.0|[24.59,3.61,4.0,0...|\n",
      "|     25.29|4.71|  Male|    No|Sun|Dinner|   4|       0.0|    1.0|     0.0|[25.29,4.71,4.0,0...|\n",
      "|      8.77| 2.0|  Male|    No|Sun|Dinner|   2|       0.0|    1.0|     0.0|[8.77,2.0,2.0,0.0...|\n",
      "|     26.88|3.12|  Male|    No|Sun|Dinner|   4|       0.0|    1.0|     0.0|[26.88,3.12,4.0,0...|\n",
      "|     15.04|1.96|  Male|    No|Sun|Dinner|   2|       0.0|    1.0|     0.0|[15.04,1.96,2.0,0...|\n",
      "|     14.78|3.23|  Male|    No|Sun|Dinner|   2|       0.0|    1.0|     0.0|[14.78,3.23,2.0,0...|\n",
      "|     10.27|1.71|  Male|    No|Sun|Dinner|   2|       0.0|    1.0|     0.0|[10.27,1.71,2.0,0...|\n",
      "|     35.26| 5.0|Female|    No|Sun|Dinner|   4|       0.0|    1.0|     0.0|[35.26,5.0,4.0,0....|\n",
      "|     15.42|1.57|  Male|    No|Sun|Dinner|   2|       0.0|    1.0|     0.0|[15.42,1.57,2.0,0...|\n",
      "|     18.43| 3.0|  Male|    No|Sun|Dinner|   4|       0.0|    1.0|     0.0|[18.43,3.0,4.0,0....|\n",
      "|     14.83|3.02|Female|    No|Sun|Dinner|   2|       0.0|    1.0|     0.0|[14.83,3.02,2.0,0...|\n",
      "|     21.58|3.92|  Male|    No|Sun|Dinner|   2|       0.0|    1.0|     0.0|[21.58,3.92,2.0,0...|\n",
      "|     10.33|1.67|Female|    No|Sun|Dinner|   3|       0.0|    1.0|     0.0|[10.33,1.67,3.0,0...|\n",
      "|     16.29|3.71|  Male|    No|Sun|Dinner|   3|       0.0|    1.0|     0.0|[16.29,3.71,3.0,0...|\n",
      "|     16.97| 3.5|Female|    No|Sun|Dinner|   3|       0.0|    1.0|     0.0|[16.97,3.5,3.0,0....|\n",
      "|     20.65|3.35|  Male|    No|Sat|Dinner|   3|       0.0|    0.0|     0.0|[20.65,3.35,3.0,0...|\n",
      "+----------+----+------+------+---+------+----+----------+-------+--------+--------------------+\n",
      "only showing top 20 rows\n",
      "\n"
     ]
    }
   ],
   "source": [
    "df_r = vector.transform(df_r)\n",
    "df_r.show()"
   ]
  },
  {
   "cell_type": "code",
   "execution_count": 123,
   "id": "117015f8",
   "metadata": {},
   "outputs": [
    {
     "name": "stdout",
     "output_type": "stream",
     "text": [
      "+----------+--------------------+\n",
      "|total_bill|        independence|\n",
      "+----------+--------------------+\n",
      "|     16.99|[16.99,1.01,2.0,0...|\n",
      "|     10.34|[10.34,1.66,3.0,0...|\n",
      "|     21.01|[21.01,3.5,3.0,0....|\n",
      "|     23.68|[23.68,3.31,2.0,0...|\n",
      "|     24.59|[24.59,3.61,4.0,0...|\n",
      "|     25.29|[25.29,4.71,4.0,0...|\n",
      "|      8.77|[8.77,2.0,2.0,0.0...|\n",
      "|     26.88|[26.88,3.12,4.0,0...|\n",
      "|     15.04|[15.04,1.96,2.0,0...|\n",
      "|     14.78|[14.78,3.23,2.0,0...|\n",
      "|     10.27|[10.27,1.71,2.0,0...|\n",
      "|     35.26|[35.26,5.0,4.0,0....|\n",
      "|     15.42|[15.42,1.57,2.0,0...|\n",
      "|     18.43|[18.43,3.0,4.0,0....|\n",
      "|     14.83|[14.83,3.02,2.0,0...|\n",
      "|     21.58|[21.58,3.92,2.0,0...|\n",
      "|     10.33|[10.33,1.67,3.0,0...|\n",
      "|     16.29|[16.29,3.71,3.0,0...|\n",
      "|     16.97|[16.97,3.5,3.0,0....|\n",
      "|     20.65|[20.65,3.35,3.0,0...|\n",
      "+----------+--------------------+\n",
      "only showing top 20 rows\n",
      "\n"
     ]
    }
   ],
   "source": [
    "df = df_r.select(\"total_bill\", \"independence\")\n",
    "df.show()"
   ]
  },
  {
   "cell_type": "code",
   "execution_count": 125,
   "id": "6cc6f034",
   "metadata": {},
   "outputs": [],
   "source": [
    "from pyspark.ml.regression import LinearRegression"
   ]
  },
  {
   "cell_type": "code",
   "execution_count": 126,
   "id": "7438fc88",
   "metadata": {},
   "outputs": [
    {
     "name": "stdout",
     "output_type": "stream",
     "text": [
      "+----------+--------------------+\n",
      "|total_bill|        independence|\n",
      "+----------+--------------------+\n",
      "|      3.07|[3.07,1.0,1.0,1.0...|\n",
      "|      5.75|[5.75,1.0,2.0,1.0...|\n",
      "|      7.25|[7.25,1.0,1.0,0.0...|\n",
      "|      7.25|[7.25,5.15,2.0,1....|\n",
      "|      7.51|[7.51,2.0,2.0,0.0...|\n",
      "|      7.56|[7.56,1.44,2.0,0....|\n",
      "|      8.35|[8.35,1.5,2.0,0.0...|\n",
      "|      8.51|[8.51,1.25,2.0,0....|\n",
      "|      8.52|[8.52,1.48,2.0,0....|\n",
      "|      9.55|[9.55,1.45,2.0,0....|\n",
      "|       9.6|[9.6,4.0,2.0,1.0,...|\n",
      "|      9.68|[9.68,1.32,2.0,0....|\n",
      "|      9.94|[9.94,1.56,2.0,0....|\n",
      "|     10.07|[10.07,1.25,2.0,0...|\n",
      "|     10.09|[10.09,2.0,2.0,1....|\n",
      "|     10.27|[10.27,1.71,2.0,0...|\n",
      "|     10.33|[10.33,1.67,3.0,0...|\n",
      "|     10.33|[10.33,2.0,2.0,0....|\n",
      "|     10.34|[10.34,1.66,3.0,0...|\n",
      "|     10.51|[10.51,1.25,2.0,0...|\n",
      "+----------+--------------------+\n",
      "only showing top 20 rows\n",
      "\n",
      "+----------+--------------------+\n",
      "|total_bill|        independence|\n",
      "+----------+--------------------+\n",
      "|      7.74|[7.74,1.44,2.0,1....|\n",
      "|      8.58|[8.58,1.92,1.0,1....|\n",
      "|      8.77|[8.77,2.0,2.0,0.0...|\n",
      "|      9.78|[9.78,1.73,2.0,0....|\n",
      "|     10.07|[10.07,1.83,1.0,0...|\n",
      "|     10.29|[10.29,2.6,2.0,0....|\n",
      "|     10.34|[10.34,2.0,2.0,1....|\n",
      "|     10.59|[10.59,1.61,2.0,1...|\n",
      "|     11.38|[11.38,2.0,2.0,0....|\n",
      "|     11.87|[11.87,1.63,2.0,0...|\n",
      "|     12.43|[12.43,1.8,2.0,0....|\n",
      "|     13.13|[13.13,2.0,2.0,0....|\n",
      "|     13.39|[13.39,2.61,2.0,0...|\n",
      "|     13.42|[13.42,3.48,2.0,1...|\n",
      "|     13.81|[13.81,2.0,2.0,1....|\n",
      "|      14.0|[14.0,3.0,2.0,0.0...|\n",
      "|     14.26|[14.26,2.5,2.0,0....|\n",
      "|     14.52|[14.52,2.0,2.0,0....|\n",
      "|     15.01|[15.01,2.09,2.0,1...|\n",
      "|     15.81|[15.81,3.16,2.0,1...|\n",
      "+----------+--------------------+\n",
      "only showing top 20 rows\n",
      "\n"
     ]
    }
   ],
   "source": [
    "train, test = df.randomSplit([0.8,0.2])\n",
    "train.show()\n",
    "test.show()"
   ]
  },
  {
   "cell_type": "code",
   "execution_count": 130,
   "id": "9a29b04a",
   "metadata": {},
   "outputs": [],
   "source": [
    "reg = LinearRegression(featuresCol=\"independence\", labelCol=\"total_bill\")"
   ]
  },
  {
   "cell_type": "code",
   "execution_count": 133,
   "id": "f7982e08",
   "metadata": {},
   "outputs": [
    {
     "name": "stderr",
     "output_type": "stream",
     "text": [
      "22/01/20 22:09:39 WARN Instrumentation: [72a6e1f5] regParam is zero, which might cause numerical instability and overfitting.\n"
     ]
    }
   ],
   "source": [
    "re = reg.fit(train)"
   ]
  },
  {
   "cell_type": "code",
   "execution_count": 134,
   "id": "26e15ebe",
   "metadata": {},
   "outputs": [
    {
     "data": {
      "text/plain": [
       "DenseVector([1.0, -0.0, -0.0, -0.0, 0.0, 0.0])"
      ]
     },
     "execution_count": 134,
     "metadata": {},
     "output_type": "execute_result"
    }
   ],
   "source": [
    "re.coefficients"
   ]
  },
  {
   "cell_type": "code",
   "execution_count": 135,
   "id": "7eca7c5f",
   "metadata": {},
   "outputs": [
    {
     "data": {
      "text/plain": [
       "1.9050258083190704e-15"
      ]
     },
     "execution_count": 135,
     "metadata": {},
     "output_type": "execute_result"
    }
   ],
   "source": [
    "re.intercept"
   ]
  },
  {
   "cell_type": "code",
   "execution_count": 144,
   "id": "c409dadb",
   "metadata": {},
   "outputs": [
    {
     "data": {
      "text/plain": [
       "<pyspark.ml.regression.LinearRegressionSummary at 0x7fd54c076a60>"
      ]
     },
     "execution_count": 144,
     "metadata": {},
     "output_type": "execute_result"
    }
   ],
   "source": [
    "rev = re.evaluate(test)\n",
    "rev"
   ]
  },
  {
   "cell_type": "code",
   "execution_count": 145,
   "id": "253eef78",
   "metadata": {},
   "outputs": [
    {
     "data": {
      "text/plain": [
       "1.1875274426360934e-14"
      ]
     },
     "execution_count": 145,
     "metadata": {},
     "output_type": "execute_result"
    }
   ],
   "source": [
    "rev.meanAbsoluteError"
   ]
  },
  {
   "cell_type": "code",
   "execution_count": 146,
   "id": "a1b97ad2",
   "metadata": {},
   "outputs": [
    {
     "data": {
      "text/plain": [
       "2.5506502602146042e-28"
      ]
     },
     "execution_count": 146,
     "metadata": {},
     "output_type": "execute_result"
    }
   ],
   "source": [
    "rev.meanSquaredError"
   ]
  },
  {
   "cell_type": "code",
   "execution_count": 151,
   "id": "abee9c6c",
   "metadata": {},
   "outputs": [
    {
     "name": "stdout",
     "output_type": "stream",
     "text": [
      "+----------+--------------------+------------------+\n",
      "|total_bill|        independence|        prediction|\n",
      "+----------+--------------------+------------------+\n",
      "|      7.74|[7.74,1.44,2.0,1....| 7.739999999999979|\n",
      "|      8.58|[8.58,1.92,1.0,1....| 8.580000000000004|\n",
      "|      8.77|[8.77,2.0,2.0,0.0...| 8.769999999999987|\n",
      "|      9.78|[9.78,1.73,2.0,0....| 9.779999999999996|\n",
      "|     10.07|[10.07,1.83,1.0,0...|10.070000000000011|\n",
      "|     10.29|[10.29,2.6,2.0,0....|10.289999999999988|\n",
      "|     10.34|[10.34,2.0,2.0,1....|10.339999999999991|\n",
      "|     10.59|[10.59,1.61,2.0,1...|10.589999999999987|\n",
      "|     11.38|[11.38,2.0,2.0,0....|11.379999999999999|\n",
      "|     11.87|[11.87,1.63,2.0,0...|11.870000000000001|\n",
      "|     12.43|[12.43,1.8,2.0,0....|12.430000000000001|\n",
      "|     13.13|[13.13,2.0,2.0,0....|             13.13|\n",
      "|     13.39|[13.39,2.61,2.0,0...|13.389999999999999|\n",
      "|     13.42|[13.42,3.48,2.0,1...|13.419999999999995|\n",
      "|     13.81|[13.81,2.0,2.0,1....|13.809999999999995|\n",
      "|      14.0|[14.0,3.0,2.0,0.0...|13.999999999999996|\n",
      "|     14.26|[14.26,2.5,2.0,0....|14.260000000000005|\n",
      "|     14.52|[14.52,2.0,2.0,0....|14.520000000000008|\n",
      "|     15.01|[15.01,2.09,2.0,1...|15.009999999999998|\n",
      "|     15.81|[15.81,3.16,2.0,1...|15.809999999999997|\n",
      "+----------+--------------------+------------------+\n",
      "only showing top 20 rows\n",
      "\n"
     ]
    }
   ],
   "source": [
    "rev.predictions.show()"
   ]
  },
  {
   "cell_type": "code",
   "execution_count": 152,
   "id": "16972f0d",
   "metadata": {},
   "outputs": [],
   "source": [
    "import pytest\n",
    "def func(x):\n",
    "    return x + 1\n"
   ]
  },
  {
   "cell_type": "code",
   "execution_count": 153,
   "id": "797e17e0",
   "metadata": {},
   "outputs": [],
   "source": [
    "def test_answer1():\n",
    "    assert func(3)==5"
   ]
  },
  {
   "cell_type": "code",
   "execution_count": 1,
   "id": "e978bc00",
   "metadata": {},
   "outputs": [
    {
     "name": "stdout",
     "output_type": "stream",
     "text": [
      "Weird\n"
     ]
    }
   ],
   "source": [
    "n = 5\n",
    "#If  is odd, print Weird\n",
    "#If  is even and in the inclusive range of  2to 5, print Not Weird\n",
    "#If  is even and in the inclusive range of  6to 20, print Weird\n",
    "#If  is even and greater than , print Not Weird\n",
    "\n",
    "print(\"Weird\" if (n % 2 == 1) or ((n % 2 ==0) and (n in range(6,21))) else \"Not Weird\")\n",
    "\n"
   ]
  },
  {
   "cell_type": "code",
   "execution_count": null,
   "id": "93990e44",
   "metadata": {},
   "outputs": [],
   "source": []
  }
 ],
 "metadata": {
  "kernelspec": {
   "display_name": "Python 3 (ipykernel)",
   "language": "python",
   "name": "python3"
  },
  "language_info": {
   "codemirror_mode": {
    "name": "ipython",
    "version": 3
   },
   "file_extension": ".py",
   "mimetype": "text/x-python",
   "name": "python",
   "nbconvert_exporter": "python",
   "pygments_lexer": "ipython3",
   "version": "3.9.7"
  }
 },
 "nbformat": 4,
 "nbformat_minor": 5
}
