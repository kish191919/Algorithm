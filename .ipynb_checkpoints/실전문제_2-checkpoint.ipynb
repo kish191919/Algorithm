{
 "cells": [
  {
   "cell_type": "markdown",
   "id": "fb4a03c2",
   "metadata": {},
   "source": [
    "- 음계 : https://www.acmicpc.net/problem/2920\n",
    "- 블랙잭 : https://www.acmicpc.net/problem/2798\n",
    "- 스택수열 : https://www.acmicpc.net/problem/1874\n",
    "- 프린터 큐 : https://www.acmicpc.net/problem/1966\n",
    "- 키로거 : https://www.acmicpc.net/problem/5397\n",
    "\n",
    "---\n",
    "\n",
    "- Summary Ranges:   https://leetcode.com/problems/summary-ranges/\n",
    "- Binary Tree Pruning: https://leetcode.com/problems/binary-tree-pruning/\n",
    "- Odd Even Linked List: https://leetcode.com/problems/odd-even-linked-list/\n",
    "- Count Primes : https://leetcode.com/problems/count-primes/\n",
    "- License Key Formatting : https://leetcode.com/problems/license-key-formatting/\n",
    "- coin Change : https://leetcode.com/problems/coin-change/\n",
    "- Min Stack : https://leetcode.com/problems/min-stack/\n",
    "- Add Two Numbers : https://leetcode.com/problems/add-two-numbers/"
   ]
  },
  {
   "cell_type": "code",
   "execution_count": null,
   "id": "93b7a1b6",
   "metadata": {},
   "outputs": [],
   "source": [
    "\n",
    "\n"
   ]
  },
  {
   "cell_type": "markdown",
   "id": "fcbca0a5",
   "metadata": {},
   "source": [
    "## 음계"
   ]
  },
  {
   "cell_type": "code",
   "execution_count": 8,
   "id": "8ac8f147",
   "metadata": {},
   "outputs": [
    {
     "name": "stdout",
     "output_type": "stream",
     "text": [
      "1 2 3 4 5 6 7 8\n",
      "ascending\n"
     ]
    }
   ],
   "source": [
    "data = list(map(int, input().split()))\n",
    "\n",
    "ascending = True\n",
    "decending = True\n",
    "\n",
    "for i in range(1,8):\n",
    "    if data[i] > data[i-1]:\n",
    "        decending = False\n",
    "    elif data[i] < data[i-1]:\n",
    "        ascending = False\n",
    "        \n",
    "if ascending:\n",
    "    print(\"ascending\")\n",
    "elif descending:\n",
    "    print(\"descending\")\n",
    "else:\n",
    "    print(\"mixed\")"
   ]
  },
  {
   "cell_type": "code",
   "execution_count": null,
   "id": "ecd14303",
   "metadata": {},
   "outputs": [],
   "source": [
    "m = list(map(int,input().split(' ')))\n",
    "\n",
    "ascending = True\n",
    "descending = True\n",
    "\n",
    "for i in range(7):\n",
    "    if m[i+1] < m[i]:\n",
    "        ascending = False\n",
    "    elif m[i+1] > m[i]:\n",
    "        descending = False\n",
    "\n",
    "if ascending:\n",
    "    print(\"ascending\")\n",
    "elif descending:\n",
    "    print(\"descending\")\n",
    "else:\n",
    "    print(\"mixed\")"
   ]
  },
  {
   "cell_type": "markdown",
   "id": "93f2a998",
   "metadata": {},
   "source": [
    "## 블랙잭"
   ]
  },
  {
   "cell_type": "code",
   "execution_count": 17,
   "id": "0bd7a807",
   "metadata": {},
   "outputs": [
    {
     "name": "stdout",
     "output_type": "stream",
     "text": [
      "5 21\n",
      "3 4 5 6 7\n",
      "18\n"
     ]
    }
   ],
   "source": [
    "qty, m = list(map(int, input().split(' ')))\n",
    "data = list(map(int, input().split(' ')))\n",
    "\n",
    "result = 0\n",
    "length = len(data)\n",
    "\n",
    "count = 0\n",
    "\n",
    "for i in range(0, length):\n",
    "    for j in range(i+1, length):\n",
    "        for k in range(j+1, length):\n",
    "            sum_value = data[i] + data[j] + data[k]\n",
    "            if sum_value <= m:\n",
    "                result = max(result, sum_value)\n",
    "print(result)"
   ]
  },
  {
   "cell_type": "code",
   "execution_count": 16,
   "id": "1e6ea846",
   "metadata": {},
   "outputs": [
    {
     "name": "stdout",
     "output_type": "stream",
     "text": [
      "10 500\n",
      "93 181 245 214 315 36 185 138 216 295\n",
      "497\n"
     ]
    }
   ],
   "source": [
    "qty, target = list(map(int, input().split(' ')))\n",
    "\n",
    "data = list(map(int, input().split(' ')))\n",
    "\n",
    "max_total = 0\n",
    "for i in range(qty):\n",
    "    for j in range(i+1, qty):\n",
    "        for k in range(j+1, qty):\n",
    "            sum_temp = data[i] + data[j] + data[k]\n",
    "            if sum_temp <= target:\n",
    "                max_total = max(max_total, sum_temp)\n",
    "            \n",
    "\n",
    "print(max_total)\n",
    "    \n",
    "        "
   ]
  },
  {
   "cell_type": "markdown",
   "id": "54e5b440",
   "metadata": {},
   "source": [
    "## 스택수열"
   ]
  },
  {
   "cell_type": "code",
   "execution_count": null,
   "id": "dc7f4e81",
   "metadata": {},
   "outputs": [],
   "source": [
    "m = int(input())\n",
    "count =1\n",
    "\n",
    "array = []\n",
    "result = []\n",
    "for i in range(1, 1+m):\n",
    "    data = int(input())\n",
    "    while count <=  data:\n",
    "        result.append('+')\n",
    "        array.append(count)\n",
    "        count +=1\n",
    "    if data == array[-1]:\n",
    "        array.pop()\n",
    "        result.append('-')\n",
    "    else:\n",
    "        print('NO')\n",
    "        \n",
    "print('\\n'.join(result))\n",
    "        "
   ]
  },
  {
   "cell_type": "code",
   "execution_count": 17,
   "id": "c3a296b6",
   "metadata": {},
   "outputs": [
    {
     "name": "stdout",
     "output_type": "stream",
     "text": [
      "8\n",
      "4\n",
      "3\n",
      "6\n",
      "8\n",
      "7\n",
      "5\n",
      "2\n",
      "1\n",
      "+\n",
      "+\n",
      "+\n",
      "+\n",
      "-\n",
      "-\n",
      "+\n",
      "+\n",
      "-\n",
      "+\n",
      "+\n",
      "-\n",
      "-\n",
      "-\n",
      "-\n",
      "-\n"
     ]
    }
   ],
   "source": [
    "m = int(input())\n",
    "array = []\n",
    "result = []\n",
    "count = 1\n",
    "for i in range(m):\n",
    "    data = int(input())\n",
    "    while count <= data:\n",
    "        array.append(count)\n",
    "        result.append(\"+\")\n",
    "        count += 1\n",
    "    if array[-1] == data:\n",
    "        array.pop()\n",
    "        result.append(\"-\")\n",
    "    else:\n",
    "        print(\"NO\")\n",
    "        exit(0)\n",
    "        \n",
    "print('\\n'.join(result))\n",
    "        \n",
    "        "
   ]
  },
  {
   "cell_type": "markdown",
   "id": "39d9b0ec",
   "metadata": {},
   "source": [
    "### 프린트 큐"
   ]
  },
  {
   "cell_type": "code",
   "execution_count": 30,
   "id": "de90ba40",
   "metadata": {
    "scrolled": true
   },
   "outputs": [
    {
     "name": "stdout",
     "output_type": "stream",
     "text": [
      "1\n",
      "6 1\n",
      "1 1 1 1 9 2\n",
      "queue 9\n",
      "1\n",
      "queue[0][1] 4\n",
      "queue 2\n",
      "2\n",
      "queue[0][1] 5\n",
      "queue 1\n",
      "3\n",
      "queue[0][1] 0\n",
      "queue 1\n",
      "4\n",
      "queue[0][1] 1\n",
      "4\n"
     ]
    }
   ],
   "source": [
    "test_case = int(input())\n",
    "\n",
    "for _ in range(test_case):\n",
    "    qty, priority = list(map(int,input().split(\" \")))\n",
    "    queue = list(map(int,input().split(\" \")))\n",
    "    queue = [(i, idx) for idx, i in enumerate(queue)]\n",
    "\n",
    "    count = 0\n",
    "        \n",
    "    while True:\n",
    "        if queue[0][0] == max(queue, key=lambda x:x[0])[0]:\n",
    "            print(\"queue\", queue[0][0])\n",
    "            count += 1\n",
    "            print(count)\n",
    "            print(\"queue[0][1]\", queue[0][1])\n",
    "            if queue[0][1] == priority:\n",
    "                print(count)\n",
    "                break\n",
    "            else:\n",
    "                queue.pop(0) # 맨 앞을 뺌\n",
    "        else:\n",
    "            queue.append(queue.pop(0))\n",
    "            \n"
   ]
  },
  {
   "cell_type": "markdown",
   "id": "0b10ac10",
   "metadata": {},
   "source": [
    "### 키로거"
   ]
  },
  {
   "cell_type": "code",
   "execution_count": 43,
   "id": "bfcd6b5c",
   "metadata": {},
   "outputs": [
    {
     "name": "stdout",
     "output_type": "stream",
     "text": [
      "1\n",
      "<<BP<A>>Cd- \n",
      "BAPC \n"
     ]
    }
   ],
   "source": [
    "m = int(input())\n",
    "\n",
    "for _ in range(m):\n",
    "    left_stack=[]\n",
    "    right_stack=[]\n",
    "    \n",
    "    data = input()\n",
    "    for i in data:\n",
    "        if i == '-':\n",
    "            if left_stack:\n",
    "                left_stack.pop()\n",
    "        elif i == '<':\n",
    "            if left_stack:\n",
    "                right_stack.append(left_stack.pop()) \n",
    "        elif i == '>':\n",
    "            if right_stack:\n",
    "                left_stack.append(right_stack.pop())\n",
    "        else:\n",
    "            left_stack.append(i)\n",
    "\n",
    "    #right_stack.sort(reverse=True)\n",
    "\n",
    "    left_stack.extend(reversed(right_stack))\n",
    "\n",
    "    print(''.join(left_stack))"
   ]
  },
  {
   "cell_type": "markdown",
   "id": "d7330cc4",
   "metadata": {},
   "source": [
    "## Summary Ranges"
   ]
  },
  {
   "cell_type": "code",
   "execution_count": null,
   "id": "b1dbbd0f",
   "metadata": {},
   "outputs": [],
   "source": [
    "class Solution:\n",
    "    def summaryRanges(self, nums: List[int]) -> List[str]:\n",
    "        if len(nums)==0:\n",
    "            return []\n",
    "        \n",
    "        start, end, prev = 0,0,nums[0]\n",
    "        result = []\n",
    "        for i in range(1, len(nums)):\n",
    "            if nums[i]-prev==1:\n",
    "                end += 1\n",
    "                \n",
    "            else:\n",
    "                if nums[end] > nums[start]:\n",
    "                    k = \"{}->{}\".format(nums[start], nums[end])\n",
    "                    result.append(k)\n",
    "                    start = i\n",
    "                    end = i\n",
    "                \n",
    "                else:\n",
    "                    k = str(nums[start])\n",
    "                    result.append(k)\n",
    "                    start = i\n",
    "                    end = i\n",
    "                    \n",
    "            prev = nums[i]\n",
    "            \n",
    "        if nums[end] > nums[start]:\n",
    "            k = \"{}->{}\".format(nums[start], nums[end])\n",
    "            result.append(k)\n",
    "        else:\n",
    "            k = str(nums[start])\n",
    "            result.append(k)          \n",
    "            \n",
    "        return result\n",
    "                    \n",
    "                "
   ]
  },
  {
   "cell_type": "markdown",
   "id": "7f54bfc1",
   "metadata": {},
   "source": [
    "## Binary Tree Pruning"
   ]
  },
  {
   "cell_type": "code",
   "execution_count": null,
   "id": "01ec9989",
   "metadata": {},
   "outputs": [],
   "source": [
    "class Solution:\n",
    "    def pruneTree(self, root: Optional[TreeNode]) -> Optional[TreeNode]:\n",
    "        if root == None:\n",
    "            return root\n",
    "        root.left = self.pruneTree(root.left)\n",
    "        root.right= self.pruneTree(root.right)\n",
    "        \n",
    "        if root.left != None or root.right != None or root.val ==1:\n",
    "            return root\n",
    "        return None"
   ]
  },
  {
   "cell_type": "markdown",
   "id": "aa8054b5",
   "metadata": {},
   "source": [
    "## Odd Even Linked List"
   ]
  },
  {
   "cell_type": "code",
   "execution_count": null,
   "id": "da6c4cae",
   "metadata": {},
   "outputs": [],
   "source": [
    "class Solution:\n",
    "    def oddEvenList(self, head: Optional[ListNode]) -> Optional[ListNode]:\n",
    "        if head == None:\n",
    "            return head\n",
    "        \n",
    "        odd = head\n",
    "        even = head.next\n",
    "        eHead = even\n",
    "        \n",
    "        while even and even.next :\n",
    "            odd.next = odd.next.next\n",
    "            even.next = even.next.next\n",
    "            \n",
    "            odd = odd.next\n",
    "            even = even.next\n",
    "            \n",
    "        odd.next = eHead\n",
    "        \n",
    "        return head"
   ]
  },
  {
   "cell_type": "markdown",
   "id": "a21246ee",
   "metadata": {},
   "source": [
    "## Count Primes"
   ]
  },
  {
   "cell_type": "code",
   "execution_count": null,
   "id": "38c0ccc4",
   "metadata": {},
   "outputs": [],
   "source": [
    "class Solution:\n",
    "    def countPrimes(self, n: int) -> int:\n",
    "        if n <2:\n",
    "            return 0\n",
    "        \n",
    "        numbers = [False, False] + [True]*(n-2)\n",
    "        \n",
    "        for i in range(2, int(sqrt(n))+1):\n",
    "            if numbers[i]:\n",
    "                \n",
    "                for multiple in range(i*i, n, i):\n",
    "                    numbers[multiple] = False\n",
    "                \n",
    "        return (sum(numbers))"
   ]
  },
  {
   "cell_type": "markdown",
   "id": "cc68d419",
   "metadata": {},
   "source": [
    "## License Key Formatting"
   ]
  },
  {
   "cell_type": "code",
   "execution_count": 1,
   "id": "855c682b",
   "metadata": {},
   "outputs": [],
   "source": [
    "class Solution:\n",
    "    def licenseKeyFormatting(self, s: str, k: int) -> str:\n",
    "        s= s.replace(\"-\",\"\")[::-1]\n",
    "        \n",
    "        result = \"\"\n",
    "        for idx in range(0,len(s),k):\n",
    "            result += s[idx:idx+k]\n",
    "            result += \"-\"\n",
    "            \n",
    "        result = result[:-1]\n",
    "        result=result[::-1].upper()\n",
    "        return result"
   ]
  },
  {
   "cell_type": "markdown",
   "id": "144216c1",
   "metadata": {},
   "source": [
    "## Coin Change"
   ]
  },
  {
   "cell_type": "code",
   "execution_count": null,
   "id": "ff5ee2ec",
   "metadata": {},
   "outputs": [],
   "source": [
    "class Solution:\n",
    "    def coinChange(self, coins: List[int], amount: int) -> int:\n",
    "        \n",
    "        dp = [amount+1]*(amount+1)\n",
    "        \n",
    "        dp[0]=0\n",
    "        \n",
    "        for a in range(1, amount+1):\n",
    "            for c in coins:\n",
    "                if a-c >= 0:\n",
    "                    dp[a] = min(dp[a], 1 + dp[a-c])\n",
    "        \n",
    "        return dp[amount] if dp[amount] != amount+1 else -1"
   ]
  },
  {
   "cell_type": "markdown",
   "id": "5f359b1d",
   "metadata": {},
   "source": [
    "## Min Stack"
   ]
  },
  {
   "cell_type": "code",
   "execution_count": null,
   "id": "b48a0702",
   "metadata": {},
   "outputs": [],
   "source": [
    "class MinStack:\n",
    "\n",
    "    def __init__(self):\n",
    "        self.stack=[]\n",
    "        self.minstack=[]\n",
    "        \n",
    "\n",
    "    def push(self, val: int) -> None:\n",
    "        \n",
    "        self.stack.append(val)\n",
    "        \n",
    "        val = min(val, self.minstack[-1] if self.minstack else val)\n",
    "        self.minstack.append(val)\n",
    "        \n",
    "        \n",
    "\n",
    "    def pop(self) -> None:\n",
    "        self.stack.pop()\n",
    "        self.minstack.pop()\n",
    "        \n",
    "\n",
    "    def top(self) -> int:\n",
    "        return self.stack[-1]\n",
    "\n",
    "    def getMin(self) -> int:\n",
    "        return self.minstack[-1]"
   ]
  },
  {
   "cell_type": "markdown",
   "id": "9f64c5f5",
   "metadata": {},
   "source": [
    "## Add Two Numbers"
   ]
  },
  {
   "cell_type": "code",
   "execution_count": null,
   "id": "c539c4bc",
   "metadata": {},
   "outputs": [],
   "source": [
    "class Solution:\n",
    "    def addTwoNumbers(self, l1: Optional[ListNode], l2: Optional[ListNode], c=0) -> Optional[ListNode]:\n",
    "        \n",
    "        sum_ = l1.val + l2.val + c\n",
    "        \n",
    "        c = sum_ // 10\n",
    "        \n",
    "        result = sum_ % 10\n",
    "        \n",
    "        new_node = ListNode(result)\n",
    "        \n",
    "        if (l1.next != None) or (l2.next != None) or (c != 0):\n",
    "            \n",
    "            if l1.next == None:\n",
    "                l1.next = ListNode(0)\n",
    "                \n",
    "            if l2.next == None:\n",
    "                l2.next = ListNode(0)\n",
    "            \n",
    "            new_node.next = self.addTwoNumbers(l1.next, l2.next, c)\n",
    "            \n",
    "        return new_node"
   ]
  },
  {
   "cell_type": "markdown",
   "id": "24ceb3b0",
   "metadata": {},
   "source": [
    "## Reverse K Group"
   ]
  },
  {
   "cell_type": "code",
   "execution_count": null,
   "id": "32954fb5",
   "metadata": {},
   "outputs": [],
   "source": [
    "class Solution:\n",
    "    def reverseKGroup(self, head: Optional[ListNode], k: int) -> Optional[ListNode]:\n",
    "        dummy = ListNode(0,head)\n",
    "        group_prev = dummy\n",
    "        \n",
    "        while True:\n",
    "            kth = self.get_kth(group_prev, k)\n",
    "            print(kth)\n",
    "            \n",
    "            if not kth:\n",
    "                break\n",
    "            \n",
    "            group_next = kth.next\n",
    "            prev, curr = kth.next, group_prev.next\n",
    "            print(\"group_prev.next\",group_prev.next )\n",
    "            \n",
    "            while curr != group_next:\n",
    "                print(\"group_next\", group_next)\n",
    "                print(\"curr\", curr)\n",
    "                temp = curr.next\n",
    "                print(\"temp\", temp)\n",
    "                curr.next = prev\n",
    "                print(\"curr.next\", curr.next)\n",
    "                prev = curr\n",
    "                print(\"prev\", prev)\n",
    "                curr = temp\n",
    "                print(\"last curr\", curr)\n",
    "            temp = group_prev.next\n",
    "            print(\"temp\", temp)\n",
    "            group_prev.next = kth\n",
    "            print(\"group_prev.next\",group_prev.next)\n",
    "            group_prev = temp\n",
    "            print(\"group_prev\", group_prev)\n",
    "            \n",
    "        return dummy.next"
   ]
  },
  {
   "cell_type": "code",
   "execution_count": 2,
   "id": "34b9c44c",
   "metadata": {},
   "outputs": [
    {
     "name": "stdout",
     "output_type": "stream",
     "text": [
      "4\n",
      "3\n",
      "2\n",
      "1\n",
      "0\n"
     ]
    }
   ],
   "source": [
    "for i in range(4,-1,-1):\n",
    "    print(i)"
   ]
  },
  {
   "cell_type": "code",
   "execution_count": null,
   "id": "c370b7ea",
   "metadata": {},
   "outputs": [],
   "source": [
    "i"
   ]
  }
 ],
 "metadata": {
  "kernelspec": {
   "display_name": "Python 3 (ipykernel)",
   "language": "python",
   "name": "python3"
  },
  "language_info": {
   "codemirror_mode": {
    "name": "ipython",
    "version": 3
   },
   "file_extension": ".py",
   "mimetype": "text/x-python",
   "name": "python",
   "nbconvert_exporter": "python",
   "pygments_lexer": "ipython3",
   "version": "3.9.7"
  }
 },
 "nbformat": 4,
 "nbformat_minor": 5
}
