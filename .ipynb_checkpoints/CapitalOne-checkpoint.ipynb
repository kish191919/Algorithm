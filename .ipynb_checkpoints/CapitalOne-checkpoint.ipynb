{
 "cells": [
  {
   "cell_type": "markdown",
   "id": "e189f66b",
   "metadata": {},
   "source": [
    "- LC medium. DP, graph, and matrix.\n"
   ]
  },
  {
   "cell_type": "code",
   "execution_count": 1,
   "id": "ec386fef",
   "metadata": {},
   "outputs": [
    {
     "name": "stdout",
     "output_type": "stream",
     "text": [
      "True\n",
      "True\n",
      "False\n",
      "True\n"
     ]
    }
   ],
   "source": [
    "# UnionFind class\n",
    "class UnionFind:\n",
    "    def __init__(self, size):\n",
    "        self.root = [i for i in range(size)]\n",
    "\n",
    "    def find(self, x):\n",
    "        return self.root[x]\n",
    "\t\t\n",
    "    def union(self, x, y):\n",
    "        rootX = self.find(x)\n",
    "        rootY = self.find(y)\n",
    "        if rootX != rootY:\n",
    "            for i in range(len(self.root)):\n",
    "                if self.root[i] == rootY:\n",
    "                    self.root[i] = rootX\n",
    "\n",
    "    def connected(self, x, y):\n",
    "        return self.find(x) == self.find(y)\n",
    "\n",
    "\n",
    "# Test Case\n",
    "uf = UnionFind(10)\n",
    "# 1-2-5-6-7 3-8-9 4\n",
    "uf.union(1, 2)\n",
    "uf.union(2, 5)\n",
    "uf.union(5, 6)\n",
    "uf.union(6, 7)\n",
    "uf.union(3, 8)\n",
    "uf.union(8, 9)\n",
    "print(uf.connected(1, 5))  # true\n",
    "print(uf.connected(5, 7))  # true\n",
    "print(uf.connected(4, 9))  # false\n",
    "# 1-2-5-6-7 3-8-9-4\n",
    "uf.union(9, 4)\n",
    "print(uf.connected(4, 9))  # true"
   ]
  },
  {
   "cell_type": "code",
   "execution_count": null,
   "id": "974e7f16",
   "metadata": {},
   "outputs": [],
   "source": [
    "class UnionFind:\n",
    "    def __init__(self, size):\n",
    "        self.root = [i for i in range(size)]\n",
    "\n",
    "    def find(self, x):\n",
    "        return self.root[x]\n",
    "\t\t\n",
    "    def union(self, x, y):\n",
    "        rootX = self.find(x)\n",
    "        rootY = self.find(y)\n",
    "        if rootX != rootY:\n",
    "            for i in range(len(self.root)):\n",
    "                if self.root[i] == rootY:\n",
    "                    self.root[i] = rootX\n",
    "\n",
    "    def connected(self, x, y):\n",
    "        return self.find(x) == self.find(y)"
   ]
  },
  {
   "cell_type": "code",
   "execution_count": 12,
   "id": "4312dfdb",
   "metadata": {},
   "outputs": [],
   "source": [
    "class UnionFind:\n",
    "    def __init__(self,size):\n",
    "        self.root = [i for i in range(size)]\n",
    "        \n",
    "    def find(self, x):\n",
    "        return self.root[x]\n",
    "    \n",
    "    def union(self, x, y):\n",
    "        rootx = self.find(x)\n",
    "        rooty = self.find(y)\n",
    "        if rootx != rooty:\n",
    "            for i in range(len(self.root)):\n",
    "                if self.root[i] == rooty:\n",
    "                    self.root[i] = rootx\n",
    "                    \n",
    "    def connected(self, x, y):\n",
    "        return self.find(x) == self.find(y)\n",
    "    \n",
    "        \n"
   ]
  },
  {
   "cell_type": "code",
   "execution_count": 11,
   "id": "4f6fc2f0",
   "metadata": {},
   "outputs": [
    {
     "name": "stdout",
     "output_type": "stream",
     "text": [
      "[0, 1, 2, 3, 4, 5, 6, 7, 8, 9]\n"
     ]
    }
   ],
   "source": [
    "# Test Case\n",
    "uf = UnionFind(10)\n",
    "# 1-2-5-6-7 3-8-9 4\n",
    "\n",
    "print(uf.root)"
   ]
  },
  {
   "cell_type": "code",
   "execution_count": 16,
   "id": "1c35bdf8",
   "metadata": {},
   "outputs": [],
   "source": [
    "uf.union(2, 5)"
   ]
  },
  {
   "cell_type": "code",
   "execution_count": 31,
   "id": "64b20da5",
   "metadata": {},
   "outputs": [
    {
     "name": "stdout",
     "output_type": "stream",
     "text": [
      "[0, 1, 1, 3, 3, 1, 1, 1, 3, 3]\n"
     ]
    }
   ],
   "source": [
    "print(uf.root)"
   ]
  },
  {
   "cell_type": "code",
   "execution_count": 18,
   "id": "46ae71cd",
   "metadata": {},
   "outputs": [],
   "source": [
    "uf.union(1, 2)"
   ]
  },
  {
   "cell_type": "code",
   "execution_count": 20,
   "id": "b8df583f",
   "metadata": {},
   "outputs": [],
   "source": [
    "uf.union(2, 5)"
   ]
  },
  {
   "cell_type": "code",
   "execution_count": 22,
   "id": "871bd432",
   "metadata": {},
   "outputs": [],
   "source": [
    "uf.union(5, 6)"
   ]
  },
  {
   "cell_type": "code",
   "execution_count": 24,
   "id": "0d42b801",
   "metadata": {},
   "outputs": [],
   "source": [
    "uf.union(6, 7)"
   ]
  },
  {
   "cell_type": "code",
   "execution_count": 26,
   "id": "74c4a92a",
   "metadata": {},
   "outputs": [],
   "source": [
    "uf.union(3, 8)"
   ]
  },
  {
   "cell_type": "code",
   "execution_count": 30,
   "id": "83efed54",
   "metadata": {},
   "outputs": [],
   "source": [
    "uf.union(9, 4)"
   ]
  },
  {
   "cell_type": "code",
   "execution_count": 32,
   "id": "9053bcef",
   "metadata": {},
   "outputs": [
    {
     "name": "stdout",
     "output_type": "stream",
     "text": [
      "True\n",
      "True\n",
      "True\n",
      "True\n"
     ]
    }
   ],
   "source": [
    "print(uf.connected(1, 5))  # true\n",
    "print(uf.connected(5, 7))  # true\n",
    "print(uf.connected(4, 9))  # false\n",
    "# 1-2-5-6-7 3-8-9-4\n",
    "uf.union(9, 4)\n",
    "print(uf.connected(4, 9))  # true"
   ]
  },
  {
   "cell_type": "code",
   "execution_count": 50,
   "id": "54a96a56",
   "metadata": {},
   "outputs": [],
   "source": [
    "# UnionFind class\n",
    "class UnionFind:\n",
    "    def __init__(self, size):\n",
    "        self.root = [i for i in range(size)]\n",
    "\n",
    "    def find(self, x):\n",
    "        while x != self.root[x]:\n",
    "            x = self.root[x]\n",
    "        return x\n",
    "\t\t\n",
    "    def union(self, x, y):\n",
    "        rootX = self.find(x)\n",
    "        rootY = self.find(y)\n",
    "        if rootX != rootY:\n",
    "            self.root[rootY] = rootX\n",
    "\n",
    "    def connected(self, x, y):\n",
    "        return self.find(x) == self.find(y)\n"
   ]
  },
  {
   "cell_type": "code",
   "execution_count": 51,
   "id": "434b67b5",
   "metadata": {},
   "outputs": [
    {
     "name": "stdout",
     "output_type": "stream",
     "text": [
      "[0, 1, 2, 3, 4, 5, 6, 7, 8, 9]\n"
     ]
    }
   ],
   "source": [
    "u = UnionFind(10)\n",
    "print(u.root)"
   ]
  },
  {
   "cell_type": "code",
   "execution_count": null,
   "id": "7098da1c",
   "metadata": {},
   "outputs": [],
   "source": []
  },
  {
   "cell_type": "code",
   "execution_count": null,
   "id": "4aee9d32",
   "metadata": {},
   "outputs": [],
   "source": [
    "# Test Case\n",
    "uf = UnionFind(10)\n",
    "# 1-2-5-6-7 3-8-9 4"
   ]
  },
  {
   "cell_type": "code",
   "execution_count": 76,
   "id": "57fbbd66",
   "metadata": {},
   "outputs": [
    {
     "name": "stdout",
     "output_type": "stream",
     "text": [
      "[0, 1, 1, 3, 3, 1, 1, 1, 3, 3]\n"
     ]
    }
   ],
   "source": [
    "print(u.root)"
   ]
  },
  {
   "cell_type": "code",
   "execution_count": 53,
   "id": "7af6dc7c",
   "metadata": {},
   "outputs": [],
   "source": [
    "u.union(1, 2)"
   ]
  },
  {
   "cell_type": "code",
   "execution_count": 55,
   "id": "b12d9cc0",
   "metadata": {},
   "outputs": [],
   "source": [
    "u.union(2, 5)"
   ]
  },
  {
   "cell_type": "code",
   "execution_count": 61,
   "id": "7691f488",
   "metadata": {},
   "outputs": [],
   "source": [
    "u.union(5, 6)"
   ]
  },
  {
   "cell_type": "code",
   "execution_count": 63,
   "id": "4aaa2cc2",
   "metadata": {},
   "outputs": [],
   "source": [
    "u.union(6, 7)"
   ]
  },
  {
   "cell_type": "code",
   "execution_count": 67,
   "id": "23002acb",
   "metadata": {},
   "outputs": [],
   "source": [
    "u.union(3, 8)"
   ]
  },
  {
   "cell_type": "code",
   "execution_count": 72,
   "id": "141590a1",
   "metadata": {},
   "outputs": [],
   "source": [
    "u.union(8, 9)"
   ]
  },
  {
   "cell_type": "code",
   "execution_count": 77,
   "id": "f8f4f21f",
   "metadata": {},
   "outputs": [
    {
     "name": "stdout",
     "output_type": "stream",
     "text": [
      "True\n",
      "True\n",
      "True\n",
      "True\n"
     ]
    }
   ],
   "source": [
    "\n",
    "print(uf.connected(1, 5))  # true\n",
    "print(uf.connected(5, 7))  # true\n",
    "print(uf.connected(4, 9))  # false\n",
    "# 1-2-5-6-7 3-8-9-4\n",
    "u.union(9, 4)\n",
    "print(uf.connected(4, 9))  # true"
   ]
  },
  {
   "cell_type": "code",
   "execution_count": 101,
   "id": "a197bea3",
   "metadata": {},
   "outputs": [
    {
     "name": "stdout",
     "output_type": "stream",
     "text": [
      "[0, 1, 2, 3, 4, 5, 6, 7, 8, 9]\n",
      "[1, 1, 1, 1, 1, 1, 1, 1, 1, 1]\n"
     ]
    }
   ],
   "source": [
    "class UFind:\n",
    "    def __init__(self, size):\n",
    "        self.root = [i for i in range(size)]\n",
    "        self.rank = [1] * size\n",
    "        \n",
    "    def find(self, x):\n",
    "        while x != self.root[x]:\n",
    "            x = self.root[x]\n",
    "        return x\n",
    "    \n",
    "    def union(self, x, y):\n",
    "        rootX = self.find(x)\n",
    "        rootY = self.find(y)\n",
    "        if rootX != rootY:\n",
    "            if self.rank[rootX] > self.rank[rootY]:\n",
    "                self.root[rootY] = rootX\n",
    "            elif self.rank[rootX] < self.rank[rootY]:\n",
    "                self.root[rootX] = rootY\n",
    "            else:\n",
    "                self.root[rootY] = rootX\n",
    "                self.rank[rootX] += 1\n",
    "\n",
    "    def connected(self, x,y):\n",
    "        return self.find(x) == self.find(y)\n",
    "        \n",
    "        \n",
    "u_f = UFind(10)\n",
    "print(u_f.root)\n",
    "print(u_f.rank)"
   ]
  },
  {
   "cell_type": "code",
   "execution_count": 109,
   "id": "67e659d6",
   "metadata": {},
   "outputs": [
    {
     "name": "stdout",
     "output_type": "stream",
     "text": [
      "[0, 1, 1, 3, 3, 1, 1, 1, 3, 3]\n",
      "[1, 2, 1, 2, 1, 1, 1, 1, 1, 1]\n"
     ]
    }
   ],
   "source": [
    "print(u_f.root)\n",
    "print(u_f.rank)"
   ]
  },
  {
   "cell_type": "code",
   "execution_count": 103,
   "id": "d74fcddd",
   "metadata": {},
   "outputs": [],
   "source": [
    "u_f.union(1, 2)"
   ]
  },
  {
   "cell_type": "code",
   "execution_count": 104,
   "id": "68f90952",
   "metadata": {},
   "outputs": [],
   "source": [
    "u_f.union(2, 5)"
   ]
  },
  {
   "cell_type": "code",
   "execution_count": 105,
   "id": "fe460168",
   "metadata": {},
   "outputs": [],
   "source": [
    "u_f.union(5, 6)"
   ]
  },
  {
   "cell_type": "code",
   "execution_count": 106,
   "id": "f11620fd",
   "metadata": {},
   "outputs": [],
   "source": [
    "u_f.union(6, 7)"
   ]
  },
  {
   "cell_type": "code",
   "execution_count": 108,
   "id": "e1ce77db",
   "metadata": {},
   "outputs": [
    {
     "name": "stdout",
     "output_type": "stream",
     "text": [
      "True\n",
      "True\n",
      "False\n",
      "True\n"
     ]
    }
   ],
   "source": [
    "u_f.union(3, 8)\n",
    "u_f.union(8, 9)\n",
    "print(u_f.connected(1, 5))  # true\n",
    "print(u_f.connected(5, 7))  # true\n",
    "print(u_f.connected(4, 9))  # false\n",
    "# 1-2-5-6-7 3-8-9-4\n",
    "u_f.union(9, 4)\n",
    "print(u_f.connected(4, 9))  # true"
   ]
  },
  {
   "cell_type": "code",
   "execution_count": 113,
   "id": "e2a0a5c0",
   "metadata": {},
   "outputs": [],
   "source": [
    "class Test:\n",
    "    def __init__(self,size):\n",
    "        self.root = [i for i in range(size)]\n",
    "        \n",
    "    def find(self, x):\n",
    "        if x == self.root[x]:\n",
    "            return x\n",
    "        self.root[x] = self.find(self.root[x])\n",
    "        return self.root[x]\n",
    "    \n",
    "    def union(self, x, y):\n",
    "        rootX = self.find(x)\n",
    "        rootY = self.find(y)\n",
    "        if rootX != rootY:\n",
    "            self.root[rootY] = rootX\n",
    "            \n",
    "    def connected(self, x, y):\n",
    "        return self.find(x) == self.find(y)\n",
    "\n",
    "\n",
    "\n"
   ]
  },
  {
   "cell_type": "code",
   "execution_count": 114,
   "id": "126bd2f0",
   "metadata": {
    "scrolled": true
   },
   "outputs": [
    {
     "name": "stdout",
     "output_type": "stream",
     "text": [
      "True\n",
      "True\n",
      "False\n",
      "True\n"
     ]
    }
   ],
   "source": [
    "# Test Case\n",
    "uf = Test(10)\n",
    "# 1-2-5-6-7 3-8-9 4\n",
    "uf.union(1, 2)\n",
    "uf.union(2, 5)\n",
    "uf.union(5, 6)\n",
    "uf.union(6, 7)\n",
    "uf.union(3, 8)\n",
    "uf.union(8, 9)\n",
    "print(uf.connected(1, 5))  # true\n",
    "print(uf.connected(5, 7))  # true\n",
    "print(uf.connected(4, 9))  # false\n",
    "# 1-2-5-6-7 3-8-9-4\n",
    "uf.union(9, 4)\n",
    "print(uf.connected(4, 9))  # true"
   ]
  },
  {
   "cell_type": "code",
   "execution_count": 116,
   "id": "53e31f15",
   "metadata": {},
   "outputs": [],
   "source": [
    "#Definition for a binary tree node.\n",
    "class TreeNode:\n",
    "    def __init__(self, val=0, left=None, right=None):\n",
    "        self.val = val\n",
    "        self.left = left\n",
    "        self.right = right"
   ]
  },
  {
   "cell_type": "code",
   "execution_count": 117,
   "id": "abed1d04",
   "metadata": {},
   "outputs": [],
   "source": [
    "class Solution:\n",
    "    def isValidBST(self, root: TreeNode) -> bool:\n",
    "\n",
    "        def validate(node, low=-math.inf, high=math.inf):\n",
    "            # Empty trees are valid BSTs.\n",
    "            if not node:\n",
    "                return True\n",
    "            # The current node's value must be between low and high.\n",
    "            if node.val <= low or node.val >= high:\n",
    "                return False\n",
    "\n",
    "            # The left and right subtree must also be valid.\n",
    "            return (validate(node.right, node.val, high) and\n",
    "                   validate(node.left, low, node.val))\n",
    "\n",
    "        return validate(root)"
   ]
  },
  {
   "cell_type": "code",
   "execution_count": 118,
   "id": "95ac878c",
   "metadata": {},
   "outputs": [],
   "source": [
    "test = TreeNode()"
   ]
  },
  {
   "cell_type": "code",
   "execution_count": 119,
   "id": "bfa89a48",
   "metadata": {},
   "outputs": [],
   "source": [
    "a = Solution()"
   ]
  },
  {
   "cell_type": "code",
   "execution_count": 124,
   "id": "3f8bfe43",
   "metadata": {},
   "outputs": [],
   "source": [
    "def romanToInt(s: str) -> int:\n",
    "    my_list = {'I':1,'V':5,'X':10,'L':50,'C':100,'D':500,'M':1000}\n",
    "    my_num = []\n",
    "    for num in s:\n",
    "        if my_num != [] and my_list[num] > my_num[-1]:\n",
    "            my_num[-1] = my_list[num] - my_num[-1]\n",
    "        else:\n",
    "            my_num.append(my_list[num])\n",
    "    return sum(my_num)"
   ]
  },
  {
   "cell_type": "code",
   "execution_count": 125,
   "id": "e2728ef1",
   "metadata": {},
   "outputs": [
    {
     "data": {
      "text/plain": [
       "44"
      ]
     },
     "execution_count": 125,
     "metadata": {},
     "output_type": "execute_result"
    }
   ],
   "source": [
    "romanToInt('IVXL')"
   ]
  },
  {
   "cell_type": "code",
   "execution_count": 121,
   "id": "91933c8f",
   "metadata": {},
   "outputs": [
    {
     "ename": "IndexError",
     "evalue": "list index out of range",
     "output_type": "error",
     "traceback": [
      "\u001b[0;31m---------------------------------------------------------------------------\u001b[0m",
      "\u001b[0;31mIndexError\u001b[0m                                Traceback (most recent call last)",
      "\u001b[0;32m/var/folders/5p/l3b0fr1x5wn7450vgnp88r080000gn/T/ipykernel_2880/3016076761.py\u001b[0m in \u001b[0;36m<module>\u001b[0;34m\u001b[0m\n\u001b[1;32m      1\u001b[0m \u001b[0mmy_num\u001b[0m \u001b[0;34m=\u001b[0m \u001b[0;34m[\u001b[0m\u001b[0;34m]\u001b[0m\u001b[0;34m\u001b[0m\u001b[0;34m\u001b[0m\u001b[0m\n\u001b[0;32m----> 2\u001b[0;31m \u001b[0mmy_num\u001b[0m\u001b[0;34m[\u001b[0m\u001b[0;34m-\u001b[0m\u001b[0;36m1\u001b[0m\u001b[0;34m]\u001b[0m\u001b[0;34m\u001b[0m\u001b[0;34m\u001b[0m\u001b[0m\n\u001b[0m",
      "\u001b[0;31mIndexError\u001b[0m: list index out of range"
     ]
    }
   ],
   "source": [
    "my_num = []\n",
    "my_num[-1]"
   ]
  },
  {
   "cell_type": "code",
   "execution_count": null,
   "id": "97c01556",
   "metadata": {},
   "outputs": [],
   "source": []
  }
 ],
 "metadata": {
  "kernelspec": {
   "display_name": "Python 3 (ipykernel)",
   "language": "python",
   "name": "python3"
  },
  "language_info": {
   "codemirror_mode": {
    "name": "ipython",
    "version": 3
   },
   "file_extension": ".py",
   "mimetype": "text/x-python",
   "name": "python",
   "nbconvert_exporter": "python",
   "pygments_lexer": "ipython3",
   "version": "3.9.7"
  }
 },
 "nbformat": 4,
 "nbformat_minor": 5
}
