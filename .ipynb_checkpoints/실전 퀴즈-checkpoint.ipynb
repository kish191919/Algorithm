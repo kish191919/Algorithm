{
 "cells": [
  {
   "cell_type": "markdown",
   "id": "465edd79",
   "metadata": {},
   "source": [
    "## 두 숫자합이 타겟값되기\n",
    "- Input: nums = [2,7,11,15], target = 9\n",
    "- Output: [0,1]\n",
    "- Explanation: Because nums[0] + nums[1] == 9, we return [0, 1]."
   ]
  },
  {
   "cell_type": "code",
   "execution_count": null,
   "id": "645a18db",
   "metadata": {},
   "outputs": [],
   "source": [
    "class Solution:\n",
    "    def twoSum(self, nums: List[int], target: int) -> List[int]:\n",
    "        \n",
    "        for i in range(len(nums)):\n",
    "            for j in range(i + 1, len(nums)):\n",
    "                if nums[j] == target - nums[i]:\n",
    "                    return [i, j]"
   ]
  },
  {
   "cell_type": "markdown",
   "id": "0999d16e",
   "metadata": {},
   "source": [
    "## 두 숫자의 합이 타겟 값에 가까움\n",
    "- Input: nums = [34,23,1,24,75,33,54,8], k = 60\n",
    "- Output: 58\n",
    "- Explanation: We can use 34 and 24 to sum 58 which is less than 60."
   ]
  },
  {
   "cell_type": "code",
   "execution_count": null,
   "id": "4c6ae882",
   "metadata": {},
   "outputs": [],
   "source": [
    "class Solution:\n",
    "    def twoSumLessThanK(self, nums: List[int], k: int) -> int:\n",
    "        \n",
    "        max_sum = -math.inf\n",
    "        \n",
    "        if len(nums) <= 1:\n",
    "            return -1\n",
    "\n",
    "        for i in range(len(nums)):\n",
    "            for j in range(i+1, len(nums)):\n",
    "                \n",
    "                sum_ = nums[i] + nums[j]\n",
    "                \n",
    "                if sum_ < k:\n",
    "                    max_sum = max(max_sum, sum_)\n",
    "                    \n",
    "        if max_sum == -math.inf:\n",
    "            return -1\n",
    "        \n",
    "        return max_sum"
   ]
  },
  {
   "cell_type": "markdown",
   "id": "cfa43f73",
   "metadata": {},
   "source": [
    "## 두 숫자의 합 (리스트 노드)\n",
    "- Input: l1 = [2,4,3], l2 = [5,6,4]\n",
    "- Output: [7,0,8]\n",
    "- Explanation: 342 + 465 = 807."
   ]
  },
  {
   "cell_type": "code",
   "execution_count": null,
   "id": "5fdbe020",
   "metadata": {},
   "outputs": [],
   "source": [
    "class Solution:\n",
    "    def addTwoNumbers(self, l1: Optional[ListNode], l2: Optional[ListNode], c=0) -> Optional[ListNode]: \n",
    "        sum_ = l1.val + l2.val + c     \n",
    "        c = sum_ // 10     \n",
    "        result = sum_ % 10\n",
    "        \n",
    "        new_node = ListNode(result)     \n",
    "        if (l1.next != None) or (l2.next != None) or (c != 0):\n",
    "            \n",
    "            if l1.next == None:\n",
    "                l1.next = ListNode(0)\n",
    "                \n",
    "            if l2.next == None:\n",
    "                l2.next = ListNode(0)\n",
    "            \n",
    "            new_node.next = self.addTwoNumbers(l1.next, l2.next, c)\n",
    "            \n",
    "        return new_node"
   ]
  },
  {
   "cell_type": "markdown",
   "id": "87a0dc1d",
   "metadata": {},
   "source": [
    "## 두 숫자의 합 (리스트 노드 / 앞에 노드가 비어있음/ 뒤에서 부터 더함)\n",
    "- Input: l1 = [7,2,4,3], l2 = [5,6,4]\n",
    "- Output: [7,8,0,7]"
   ]
  },
  {
   "cell_type": "code",
   "execution_count": null,
   "id": "7da3e14a",
   "metadata": {},
   "outputs": [],
   "source": [
    "    def reversList(self, head):\n",
    "        last = None    \n",
    "        while head:\n",
    "            temp = head.next\n",
    "            head.next = last\n",
    "            \n",
    "            last = head\n",
    "            head = temp\n",
    "            \n",
    "        return last\n",
    "     \n",
    "    def addTwoNumbers(self, l1: Optional[ListNode], l2: Optional[ListNode]) -> Optional[ListNode]:     \n",
    "        l1 = self.reversList(l1)\n",
    "        l2 = self.reversList(l2)\n",
    "        \n",
    "        head = None\n",
    "        carry = 0\n",
    "        \n",
    "        while l1 or l2:\n",
    "            x1 = l1.val if l1 else 0\n",
    "            x2 = l2.val if l2 else 0\n",
    "             \n",
    "            val = (carry + x1 + x2) % 10\n",
    "            carry = (carry + x1 + x2) // 10\n",
    "            \n",
    "            curr = ListNode(val)\n",
    "            curr.next = head\n",
    "            head = curr\n",
    "            \n",
    "            l1 = l1.next if l1 else None\n",
    "            l2 = l2.next if l2 else None\n",
    "        if carry:\n",
    "            curr = ListNode(carry)\n",
    "            curr.next = head\n",
    "            head = curr\n",
    "            \n",
    "        return head"
   ]
  },
  {
   "cell_type": "markdown",
   "id": "296f2a64",
   "metadata": {},
   "source": [
    "## 두개의 리스트 노드 합치기 / Merge Two Sorted Lists\n",
    "- Input: list1 = [1,2,4], list2 = [1,3,4]\n",
    "- Output: [1,1,2,3,4,4]"
   ]
  },
  {
   "cell_type": "code",
   "execution_count": null,
   "id": "3a4228b9",
   "metadata": {},
   "outputs": [],
   "source": [
    "class Solution:\n",
    "    def mergeTwoLists(self, list1: Optional[ListNode], list2: Optional[ListNode]) -> Optional[ListNode]:\n",
    "        \n",
    "        if list1 == None:\n",
    "            return list2\n",
    "        elif list2 == None:\n",
    "            return list1\n",
    "        \n",
    "        elif list1.val < list2.val:\n",
    "            list1.next = self.mergeTwoLists(list1.next, list2)\n",
    "            return list1\n",
    "        \n",
    "        else:\n",
    "            list2.next = self.mergeTwoLists(list1, list2.next)\n",
    "            return list2"
   ]
  },
  {
   "cell_type": "markdown",
   "id": "1483d611",
   "metadata": {},
   "source": [
    "## 링크드 리스트 원소 삭제 / Remove Linked List Elements \n",
    "- Input: head = [1,2,6,3,4,5,6], val = 6\n",
    "- Output: [1,2,3,4,5]"
   ]
  },
  {
   "cell_type": "code",
   "execution_count": null,
   "id": "1ebe9f2a",
   "metadata": {},
   "outputs": [],
   "source": [
    "class Solution:\n",
    "    def removeElements(self, head: Optional[ListNode], val: int) -> Optional[ListNode]:\n",
    "        while head is not None and head.val == val:\n",
    "            head = head.next\n",
    "            \n",
    "        current = head\n",
    "        while current is not None:\n",
    "            if current.next is not None and current.next.val == val:\n",
    "                current.next = current.next.next\n",
    "            else:\n",
    "                current = current.next\n",
    "        return head"
   ]
  },
  {
   "cell_type": "markdown",
   "id": "be1d40c7",
   "metadata": {},
   "source": [
    "## 회문 리스트 /  Palindrome Linked List\n",
    "- Input: head = [1,2,2,1]\n",
    "- Output: true"
   ]
  },
  {
   "cell_type": "code",
   "execution_count": null,
   "id": "eac0dc8b",
   "metadata": {},
   "outputs": [],
   "source": [
    "class Solution:\n",
    "    def isPalindrome(self, head: Optional[ListNode]) -> bool:\n",
    "        vals = []\n",
    "        current_node = head\n",
    "        while current_node is not None:\n",
    "            vals.append(current_node.val)\n",
    "            current_node = current_node.next\n",
    "        return vals == vals[::-1]"
   ]
  },
  {
   "cell_type": "markdown",
   "id": "702ccee7",
   "metadata": {},
   "source": [
    "## Missing Number\n",
    "- Input: nums = [3,0,1]\n",
    "- Output: 2\n",
    "- Explanation: n = 3 since there are 3 numbers, so all numbers are in the range [0,3]. 2 is the missing number in the range since it does not appear in nums."
   ]
  },
  {
   "cell_type": "code",
   "execution_count": null,
   "id": "137f85c0",
   "metadata": {},
   "outputs": [],
   "source": [
    "class Solution:\n",
    "    def missingNumber(self, nums: List[int]) -> int:\n",
    "        n = len(nums)\n",
    "        return ((n * (n+1)) // 2 ) - sum(nums) "
   ]
  },
  {
   "cell_type": "markdown",
   "id": "d9df63a9",
   "metadata": {},
   "source": [
    "## Move Zeroes\n",
    "- Input: nums = [0,1,0,3,12]\n",
    "- Output: [1,3,12,0,0]"
   ]
  },
  {
   "cell_type": "code",
   "execution_count": null,
   "id": "66343119",
   "metadata": {},
   "outputs": [],
   "source": [
    "class Solution:\n",
    "    def moveZeroes(self, nums: List[int]) -> None:\n",
    "        \"\"\"\n",
    "        Do not return anything, modify nums in-place instead.\n",
    "        \"\"\"\n",
    "        i = 0\n",
    "        for j in range(len(nums)):\n",
    "            if nums[j] != 0:\n",
    "                nums[i], nums[j] = nums[j], nums[i]\n",
    "                i += 1"
   ]
  },
  {
   "cell_type": "markdown",
   "id": "f4036a2e",
   "metadata": {},
   "source": [
    "## Word Pattern\n",
    "- Input: pattern = \"abba\", s = \"dog cat cat dog\"\n",
    "- Output: true"
   ]
  },
  {
   "cell_type": "code",
   "execution_count": null,
   "id": "bfd2e55c",
   "metadata": {},
   "outputs": [],
   "source": [
    "class Solution:\n",
    "    def wordPattern(self, pattern: str, s: str) -> bool:\n",
    "        map_char = {}\n",
    "        map_word = {}\n",
    "        \n",
    "        words = s.split(' ')\n",
    "        if len(words) != len(pattern):\n",
    "            return False\n",
    "        \n",
    "        for c, w in zip(pattern, words):\n",
    "            if c not in map_char:\n",
    "                if w in map_word:\n",
    "                    return False\n",
    "                else:\n",
    "                    map_char[c] = w\n",
    "                    map_word[w] = c\n",
    "                    print(map_char)\n",
    "                    print(map_word)\n",
    "            else:\n",
    "                if map_char[c] != w:\n",
    "                    return False\n",
    "        return True"
   ]
  },
  {
   "cell_type": "markdown",
   "id": "0bec8045",
   "metadata": {},
   "source": [
    "## Maximum Subarray 합\n",
    "- Input: nums = [-2,1,-3,4,-1,2,1,-5,4]\n",
    "- Output: 6\n",
    "- Explanation: [4,-1,2,1] has the largest sum = 6."
   ]
  },
  {
   "cell_type": "code",
   "execution_count": null,
   "id": "af5b8725",
   "metadata": {},
   "outputs": [],
   "source": [
    "class Solution:\n",
    "    def maxSubArray(self, nums: List[int]) -> int:\n",
    "        \n",
    "        max_subarray = -math.inf\n",
    "        \n",
    "        for i in range(len(nums)):\n",
    "            current_subarray = 0\n",
    "            \n",
    "            for j in range(i, len(nums)):\n",
    "                current_subarray += nums[j]\n",
    "                max_subarray = max(max_subarray, current_subarray)\n",
    "        return max_subarray\n",
    "    \n",
    "\n",
    "    ########### 다른 해결 ##########3\n",
    "    def maxSubArray(self, nums: List[int]) -> int:\n",
    "        for i in range(1, len(nums)):\n",
    "            nums[i] = max(nums[i]+nums[i-1] , nums[i])\n",
    "            \n",
    "        return max(nums)"
   ]
  },
  {
   "cell_type": "code",
   "execution_count": null,
   "id": "ddd98591",
   "metadata": {},
   "outputs": [],
   "source": []
  },
  {
   "cell_type": "markdown",
   "id": "856b2367",
   "metadata": {},
   "source": [
    "## 3 숫자합이 타겟과 가까워지기\n",
    "- Input: nums = [-1,2,1,-4], target = 1\n",
    "- Output: 2\n",
    "- Explanation: The sum that is closest to the target is 2. (-1 + 2 + 1 = 2)."
   ]
  },
  {
   "cell_type": "code",
   "execution_count": null,
   "id": "9f95c785",
   "metadata": {},
   "outputs": [],
   "source": [
    "class Solution:\n",
    "    def threeSumClosest(self, nums: List[int], target: int) -> int:\n",
    "        result = []\n",
    "        diff = float(inf)     \n",
    "        nums.sort()\n",
    "        \n",
    "        for i in range(len(nums)):\n",
    "            lo, hi = i +1, len(nums) -1\n",
    "            \n",
    "            while lo < hi:\n",
    "                sum_ = nums[i] + nums[lo] + nums[hi]\n",
    "                diff_temp = abs(target - sum_)\n",
    "                if diff_temp < diff:\n",
    "                    diff = diff_temp\n",
    "                    total = sum_\n",
    "                else:\n",
    "                    if sum_ < target:\n",
    "                        lo +=1\n",
    "                    else:\n",
    "                        hi -=1\n",
    "        return total"
   ]
  },
  {
   "cell_type": "markdown",
   "id": "c6763314",
   "metadata": {},
   "source": [
    "## 주식사고팔기\n",
    "- Input: prices = [7,1,5,3,6,4]\n",
    "- Output: 5\n",
    "- Explanation: Buy on day 2 (price = 1) and sell on day 5 (price = 6), profit = 6-1 = 5.\n",
    "- Note that buying on day 2 and selling on day 1 is not allowed because you must buy before you sell."
   ]
  },
  {
   "cell_type": "code",
   "execution_count": null,
   "id": "10f7b24a",
   "metadata": {},
   "outputs": [],
   "source": [
    "class Solution:\n",
    "    def maxProfit(self, prices: List[int]) -> int:\n",
    "        \n",
    "        max_profit = 0\n",
    "        for i in range(len(prices) - 1): # 판매일을 제외\n",
    "            for j in range(i + 1, len(prices)): # 구매일을 제외\n",
    "                profit = prices[j] - prices[i] # 판매 - 구매\n",
    "                if profit > max_profit:\n",
    "                    max_profit = profit\n",
    "                    \n",
    "        return max_profit"
   ]
  },
  {
   "cell_type": "markdown",
   "id": "cdd3af76",
   "metadata": {},
   "source": [
    "## 소수값 갯수 구하기\n",
    "- Input: n = 10\n",
    "- Output: 4\n",
    "- Explanation: There are 4 prime numbers less than 10, they are 2, 3, 5, 7."
   ]
  },
  {
   "cell_type": "code",
   "execution_count": null,
   "id": "7665e3de",
   "metadata": {},
   "outputs": [],
   "source": [
    "class Solution:\n",
    "    def countPrimes(self, n: int) -> int: \n",
    "        if n <= 2:\n",
    "            return 0\n",
    "        \n",
    "        numbers = [False, False] + [True] * (n - 2)\n",
    "        \n",
    "        for p in range(2, int(sqrt(n))+1 ):\n",
    "            if numbers[p]:\n",
    "                for multiple in range(p*p, n, p):\n",
    "                    numbers[multiple] = False\n",
    "        \n",
    "#         result = [i for i in range(n)]\n",
    "#         prime =[]\n",
    "#         index = 0\n",
    "#         for i in range(len(numbers)):\n",
    "#             if numbers[i] == True:\n",
    "#                 prime.append(result[i])\n",
    "#         print(prime)\n",
    "        return sum(numbers)"
   ]
  },
  {
   "cell_type": "markdown",
   "id": "9a82285f",
   "metadata": {},
   "source": [
    "## 캔디 크러시\n",
    "- Input: board = [[1,3,5,5,2],[3,4,3,3,1],[3,2,4,5,2],[2,4,4,5,5],[1,4,4,1,1]]\n",
    "- Output: [[1,3,0,0,0],[3,4,0,5,2],[3,2,0,3,1],[2,4,0,5,2],[1,4,3,1,1]]"
   ]
  },
  {
   "cell_type": "code",
   "execution_count": null,
   "id": "bbe4ee6b",
   "metadata": {},
   "outputs": [],
   "source": [
    "class Solution:\n",
    "    def candyCrush(self, board: List[List[int]]) -> List[List[int]]:\n",
    "        \n",
    "        R, C = len(board), len(board[0])\n",
    "        todo = False\n",
    "        \n",
    "        for r in range(R):\n",
    "            for c in range(C-2):\n",
    "                if abs(board[r][c])==abs(board[r][c+1]) ==abs(board[r][c+2]) !=0:\n",
    "                    board[r][c]=board[r][c+1]= board[r][c+2] = -abs(board[r][c])\n",
    "                    todo =True\n",
    "                    \n",
    "        for r in range(R-2):\n",
    "            for c in range(C):\n",
    "                if abs(board[r][c]) ==abs(board[r+1][c])==abs(board[r+2][c]) != 0:\n",
    "                    board[r][c] = board[r+1][c] = board[r+2][c] = -abs(board[r][c])\n",
    "                    todo = True\n",
    "                    \n",
    "        for c in range(C):\n",
    "            wr = R-1\n",
    "            for r in range(R-1, -1, -1):\n",
    "                if board[r][c] > 0:\n",
    "                    board[wr][c] = board[r][c]\n",
    "                    wr -=1\n",
    "            for wr in range(wr, -1, -1):\n",
    "                board[wr][c] =0\n",
    "                \n",
    "        return self.candyCrush(board) if todo else board"
   ]
  },
  {
   "cell_type": "markdown",
   "id": "575a18ba",
   "metadata": {},
   "source": [
    "## 인접한 숫자 구하기\n",
    "- Input: adjacentPairs = [[2,1],[3,4],[3,2]]\n",
    "- Output: [1,2,3,4]\n",
    "- Explanation: This array has all its adjacent pairs in adjacentPairs.\n",
    "- Notice that adjacentPairs[i] may not be in left-to-right order.\n",
    "- append 오른쪽에 집어넣고, popleft 왼쪽에서 뺀다 (큐)  / appendleft 왼쪽에서 집어넣고 pop 오른쪽에서 뺌 (큐)"
   ]
  },
  {
   "cell_type": "code",
   "execution_count": null,
   "id": "15c34ba7",
   "metadata": {},
   "outputs": [],
   "source": [
    "class Solution:\n",
    "    def restoreArray(self, adjacentPairs: List[List[int]]) -> List[int]:\n",
    "        d = defaultdict(list)    \n",
    "        for l, r in adjacentPairs:\n",
    "            d[l].append(r)\n",
    "            d[r].append(l)\n",
    "            \n",
    "        for i in d:\n",
    "            if len(d[i]) == 1:\n",
    "                start = i\n",
    "                break\n",
    "        array = []\n",
    "        s = set([start])\n",
    "        q = deque([start])\n",
    "        \n",
    "        while q:\n",
    "            node = q.popleft()\n",
    "            array.append(node)\n",
    "            \n",
    "            for neighbor in d[node]:\n",
    "                if neighbor not in s:\n",
    "                    s.add(neighbor)\n",
    "                    q.append(neighbor)           \n",
    "        return array"
   ]
  },
  {
   "cell_type": "markdown",
   "id": "2c96437f",
   "metadata": {},
   "source": [
    "## 양 사이드가 같은 트리 /  Symmetric Tree\n",
    "- Input: root = [1,2,2,3,4,4,3]\n",
    "- Output: true\n"
   ]
  },
  {
   "cell_type": "code",
   "execution_count": null,
   "id": "82acf4e2",
   "metadata": {},
   "outputs": [],
   "source": [
    " class Solution:\n",
    "    def isSymmetric(self, root: Optional[TreeNode]) -> bool:\n",
    "        if not root:\n",
    "            return True\n",
    "        return self.equals(root.left, root.right)\n",
    "    \n",
    "    def equals(self, node1, node2):\n",
    "        if not node1 and not node2:\n",
    "            return True\n",
    "        elif node1 and node2 and node1.val == node2.val:\n",
    "            return self.equals(node1.left, node2.right) and self.equals(node1.right, node2.left)\n",
    "        else:\n",
    "            return False"
   ]
  },
  {
   "cell_type": "markdown",
   "id": "75c6bc30",
   "metadata": {},
   "source": [
    "## Reverse Nodes in k-Group\n",
    "- Input: head = [1,2,3,4,5], k = 2\n",
    "- Output: [2,1,4,3,5]"
   ]
  },
  {
   "cell_type": "code",
   "execution_count": null,
   "id": "3efe34b4",
   "metadata": {},
   "outputs": [],
   "source": [
    "class Solution:\n",
    "    def reverseKGroup(self, head: Optional[ListNode], k: int) -> Optional[ListNode]:\n",
    "        \n",
    "        # Check if we need to reverse the group\n",
    "        curr = head\n",
    "        for _ in range(k):\n",
    "            if not curr: return head\n",
    "            curr = curr.next\n",
    "        # Reverse the group (basic way to reverse linked list)\n",
    "        prev = None\n",
    "        curr = head\n",
    "        for _ in range(k):\n",
    "            nxt = curr.next\n",
    "            curr.next = prev\n",
    "            prev = curr\n",
    "            curr = nxt\n",
    "        # After reverse, we know that `head` is the tail of the group.\n",
    "        # And `curr` is the next pointer in original linked list order\n",
    "        head.next = self.reverseKGroup(curr, k)\n",
    "        return prev"
   ]
  },
  {
   "cell_type": "markdown",
   "id": "deab4ab2",
   "metadata": {},
   "source": [
    "## 텍스트 자리맞추기  /  Text Justification\n",
    "\n",
    "- Input: words = [\"This\", \"is\", \"an\", \"example\", \"of\", \"text\", \"justification.\"], maxWidth = 16\n",
    "- Output:\n",
    "- [\n",
    "-   \"This    is    an\",\n",
    "-   \"example  of text\",\n",
    "-   \"justification.  \"\n",
    "- ]"
   ]
  },
  {
   "cell_type": "code",
   "execution_count": null,
   "id": "947385c2",
   "metadata": {},
   "outputs": [],
   "source": [
    "class Solution:\n",
    "    def fullJustify(self, words: List[str], maxWidth: int) -> List[str]:\n",
    "        res, cur, num_of_letters = [], [], 0\n",
    "        for w in words:\n",
    "            if num_of_letters + len(w) + len(cur) > maxWidth:\n",
    "                for i in range(maxWidth - num_of_letters):\n",
    "                    cur[i%(len(cur)-1 or 1)] += ' '\n",
    "                res.append(''.join(cur))\n",
    "                cur, num_of_letters = [], 0\n",
    "            cur += [w]\n",
    "            num_of_letters += len(w)\n",
    "        return res + [' '.join(cur).ljust(maxWidth)]"
   ]
  },
  {
   "cell_type": "markdown",
   "id": "f40fc9a3",
   "metadata": {},
   "source": [
    "##  Copy List with Random Pointer\n",
    "- Input: head = [[7,null],[13,0],[11,4],[10,2],[1,0]]\n",
    "- Output: [[7,null],[13,0],[11,4],[10,2],[1,0]]"
   ]
  },
  {
   "cell_type": "code",
   "execution_count": null,
   "id": "ac875ae8",
   "metadata": {},
   "outputs": [],
   "source": [
    "class Solution:\n",
    "    \n",
    "    def copyRandomList(self, head: 'Optional[Node]') -> 'Optional[Node]':\n",
    "        \n",
    "        dic, prev, node = {}, None, head\n",
    "        \n",
    "        while node:\n",
    "            if node not in dic:\n",
    "                # Use a dictionary to map the original node to its copy\n",
    "                dic[node] = Node(node.val, node.next, node.random)\n",
    "            if prev:\n",
    "                # Make the previous node point to the copy instead of the original.\n",
    "                prev.next = dic[node]\n",
    "            else:\n",
    "                # If there is no prev, then we are at the head. Store it to return later.\n",
    "                head = dic[node]\n",
    "            if node.random:\n",
    "                if node.random not in dic:\n",
    "                    # If node.random points to a node that we have not yet encountered, store it in the dictionary.\n",
    "                    dic[node.random] = Node(node.random.val, node.random.next, node.random.random)\n",
    "                # Make the copy's random property point to the copy instead of the original.\n",
    "                dic[node].random = dic[node.random]\n",
    "            # Store prev and advance to the next node.\n",
    "            prev, node = dic[node], node.next\n",
    "        return head"
   ]
  },
  {
   "cell_type": "code",
   "execution_count": null,
   "id": "5ea529c9",
   "metadata": {},
   "outputs": [],
   "source": []
  },
  {
   "cell_type": "code",
   "execution_count": null,
   "id": "0e34203e",
   "metadata": {},
   "outputs": [],
   "source": [
    "#Definition for singly-linked list.\n",
    "class ListNode:\n",
    "    def __init__(self, val=0, next=None):\n",
    "        self.val = val\n",
    "        self.next = next\n",
    "\n",
    "class Solution:\n",
    "    def addTwoNumbers(self, l1, l2, c=0):\n",
    "        \n",
    "        val = l1.val + l2.val + c\n",
    "        c = val // 10\n",
    "        print(val)\n",
    "        print(c)\n",
    "        ret = ListNode(val % 10)\n",
    "        print(ret)\n",
    "        print(l1.next)\n",
    "        print(l2.next)\n",
    "        \n",
    "        if (l1.next != None or l2.next !=None or c !=0):\n",
    "            if l1.next == None:\n",
    "                l1.next=ListNode(0)\n",
    "            if l2.next == None:\n",
    "                l2.next =ListNode(0)\n",
    "            ret.next = self.addTwoNumbers(l1.next, l2.next, c)\n",
    "            print(ret)\n",
    "        return ret"
   ]
  },
  {
   "cell_type": "markdown",
   "id": "633bdae8",
   "metadata": {},
   "source": [
    "https://leetcode.com/problems/add-two-numbers-ii/solution/"
   ]
  },
  {
   "cell_type": "code",
   "execution_count": null,
   "id": "aafe4737",
   "metadata": {},
   "outputs": [],
   "source": [
    "\n",
    "\n",
    "# Definition for singly-linked list.\n",
    "# class ListNode:\n",
    "#     def __init__(self, val=0, next=None):\n",
    "#         self.val = val\n",
    "#         self.next = next\n",
    "class Solution:\n",
    "    \n",
    "    def reversList(self, head):\n",
    "        last = None\n",
    "        \n",
    "        while head:\n",
    "            temp = head.next\n",
    "            head.next = last\n",
    "            \n",
    "            last = head\n",
    "            head = temp\n",
    "            \n",
    "        return last\n",
    "    \n",
    "    \n",
    "    def addTwoNumbers(self, l1: Optional[ListNode], l2: Optional[ListNode]) -> Optional[ListNode]:\n",
    "        \n",
    "        l1 = self.reversList(l1)\n",
    "        l2 = self.reversList(l2)\n",
    "        \n",
    "        head = None\n",
    "        carry = 0\n",
    "        \n",
    "        while l1 or l2:\n",
    "            x1 = l1.val if l1 else 0\n",
    "            x2 = l2.val if l2 else 0\n",
    "            \n",
    "            \n",
    "            val = (carry + x1 + x2) % 10\n",
    "            carry = (carry + x1 + x2) // 10\n",
    "            \n",
    "            curr = ListNode(val)\n",
    "            curr.next = head\n",
    "            head = curr\n",
    "            \n",
    "            l1 = l1.next if l1 else None\n",
    "            l2 = l2.next if l2 else None\n",
    "        if carry:\n",
    "            curr = ListNode(carry)\n",
    "            curr.next = head\n",
    "            head = curr\n",
    "            \n",
    "        return head"
   ]
  },
  {
   "cell_type": "code",
   "execution_count": null,
   "id": "fd7e7e68",
   "metadata": {},
   "outputs": [],
   "source": []
  },
  {
   "cell_type": "code",
   "execution_count": null,
   "id": "5624d8c5",
   "metadata": {},
   "outputs": [],
   "source": [
    "class Solution:\n",
    "    def restoreArray(self, adjacentPairs: List[List[int]]) -> List[int]:\n",
    "        graph = defaultdict(list)\n",
    "        \n",
    "        for l,r in adjacentPairs:\n",
    "            graph[l].append(r)\n",
    "            graph[r].append(l)\n",
    "        \n",
    "        start = 0\n",
    "        for k,v in graph.items():\n",
    "            if len(v) == 1:\n",
    "                start = k\n",
    "                break\n",
    "        \n",
    "        s = set([start])\n",
    "        q = deque([start])\n",
    "        array = []\n",
    "        \n",
    "        while q:\n",
    "            node = q.popleft()\n",
    "            print(node)\n",
    "            array.append(node)\n",
    "            print(array)\n",
    "            for neighbor in graph[node]:\n",
    "                if neighbor not in s:\n",
    "                    s.add(neighbor)\n",
    "                    q.append(neighbor)\n",
    "            \n",
    "        return array"
   ]
  },
  {
   "cell_type": "markdown",
   "id": "a7b997f8",
   "metadata": {},
   "source": [
    "- Input: nums = [0,1,2,4,5,7]\n",
    "- Output: [\"0->2\",\"4->5\",\"7\"]\n",
    "- Explanation: The ranges are:\n",
    "- [0,2] --> \"0->2\"\n",
    "- [4,5] --> \"4->5\"\n",
    "- [7,7] --> \"7\""
   ]
  },
  {
   "cell_type": "code",
   "execution_count": null,
   "id": "f409d508",
   "metadata": {},
   "outputs": [],
   "source": [
    "class Solution:\n",
    "    def summaryRanges(self, nums: List[int]) -> List[str]:\n",
    "        output = []\n",
    "        start_idx = 0\n",
    "       \n",
    "        for i in range(len(nums) - 1):\n",
    "            if nums[i] + 1 < nums[i + 1]:\n",
    "                if i == start_idx:\n",
    "                    output.append(str(nums[i]))\n",
    "                else:\n",
    "                    output.append(f'{nums[start_idx]}->{nums[i]}')\n",
    "                    \n",
    "                start_idx = i + 1\n",
    "        \n",
    "        if start_idx != len(nums):\n",
    "            if len(nums) - 1 - start_idx  == 0:\n",
    "                output.append(str(nums[-1]))\n",
    "            else:\n",
    "                output.append(f'{nums[start_idx]}->{nums[-1]}')\n",
    "        \n",
    "        return output"
   ]
  },
  {
   "cell_type": "code",
   "execution_count": null,
   "id": "c4c5fb08",
   "metadata": {},
   "outputs": [],
   "source": []
  },
  {
   "cell_type": "code",
   "execution_count": null,
   "id": "6fa8c225",
   "metadata": {},
   "outputs": [],
   "source": []
  },
  {
   "cell_type": "markdown",
   "id": "4878609b",
   "metadata": {},
   "source": [
    "## 전화번호 문자 조합\n",
    "- Input: digits = \"23\"\n",
    "- Output: [\"ad\",\"ae\",\"af\",\"bd\",\"be\",\"bf\",\"cd\",\"ce\",\"cf\"]"
   ]
  },
  {
   "cell_type": "code",
   "execution_count": null,
   "id": "bf710df8",
   "metadata": {},
   "outputs": [],
   "source": [
    "class Solution:\n",
    "    def letterCombinations(self, digits: str) -> List[str]:\n",
    "        mapping = {\n",
    "            '2': ['a','b','c'],\n",
    "            '3': ['d', 'e', 'f'],\n",
    "            '4': ['g', 'h', 'i'],\n",
    "            '5': ['j', 'k', 'l'],\n",
    "            '6': ['m', 'n', 'o'],\n",
    "            '7': ['p', 'q', 'r', 's'],\n",
    "            '8': ['t', 'u', 'v'],\n",
    "            '9': ['w', 'x', 'y', 'z']\n",
    "        }\n",
    "\n",
    "        if digits == \"\":\n",
    "            return []\n",
    "\n",
    "        if len(digits) == 1:\n",
    "            print(mapping['3'[0]]) ## 이해가 필요\n",
    "            return mapping[digits[0]]\n",
    "        \n",
    "        # [dm,em,fm,dn,en,fn,do,eo,fo]       \n",
    "        current = mapping[digits[0]]\n",
    "        options = self.letterCombinations(digits[1:])\n",
    "        answer = []\n",
    "\n",
    "        for first_letter in current:\n",
    "            for letters in options:\n",
    "                answer.append(first_letter + letters)\n",
    "\n",
    "        return answer"
   ]
  },
  {
   "cell_type": "markdown",
   "id": "f1359293",
   "metadata": {},
   "source": [
    "## 가장큰 마름모 3개 구하기\n",
    "- Input: grid = [[3,4,5,1,3],[3,3,4,2,3],[20,30,200,40,10],[1,5,5,4,1],[4,3,2,2,5]]\n",
    "- Output: [228,216,211]\n",
    "- Explanation: The rhombus shapes for the three biggest distinct rhombus sums are depicted above.\n",
    "- Blue: 20 + 3 + 200 + 5 = 228\n",
    "- Red: 200 + 2 + 10 + 4 = 216\n",
    "- Green: 5 + 200 + 4 + 2 = 211"
   ]
  },
  {
   "cell_type": "code",
   "execution_count": null,
   "id": "81d35693",
   "metadata": {},
   "outputs": [],
   "source": [
    "class Solution:\n",
    "    def getBiggestThree(self, grid: List[List[int]]) -> List[int]:\n",
    "        \n",
    "        maxWidth = min(len(grid), len(grid[0]))//2\n",
    "        maxSizes = []\n",
    "        \n",
    "        for row in range(len(grid)):\n",
    "\n",
    "            for col in range(len(grid[0])):\n",
    "                    \n",
    "                for dist in range(maxWidth+1):\n",
    "\n",
    "                    rhombus = self.getSize(grid, row, col, dist)\n",
    "                    \n",
    "                    if rhombus > 0:\n",
    "                        \n",
    "                        if rhombus not in maxSizes:\n",
    "                            heapq.heappush(maxSizes, rhombus)\n",
    "\n",
    "                        if len(maxSizes) > 3:\n",
    "                            heapq.heappop(maxSizes)\n",
    "        \n",
    "        res = []\n",
    "        \n",
    "        while maxSizes:\n",
    "            res.append(heapq.heappop(maxSizes))\n",
    "        \n",
    "        return res[::-1]\n",
    "\n",
    "    \n",
    "    def getSize(self, grid, row, col, dist):\n",
    "        \n",
    "        if dist == 0:\n",
    "            return grid[row][col]\n",
    "        \n",
    "        summ = 0\n",
    "        \n",
    "        if col-dist < 0 or col+dist >= len(grid[0]) or row+(2*dist) >= len(grid):\n",
    "            return 0\n",
    "        \n",
    "        for left in range(1, dist+1):\n",
    "            summ += grid[row+left][col-left]\n",
    "        \n",
    "        row += dist\n",
    "        col -= dist\n",
    "        \n",
    "        for bot in range(1, dist+1):\n",
    "            summ += grid[row+bot][col+bot]\n",
    "        \n",
    "        row += dist\n",
    "        col += dist\n",
    "        \n",
    "        for right in range(1, dist+1):\n",
    "            summ += grid[row-right][col+right]\n",
    "        \n",
    "        row -= dist\n",
    "        col += dist\n",
    "        \n",
    "        for top in range(1, dist+1):\n",
    "            summ += grid[row-top][col-top]\n",
    "        \n",
    "        return summ"
   ]
  },
  {
   "cell_type": "markdown",
   "id": "efdc9e8e",
   "metadata": {},
   "source": [
    "## Min Stack\n",
    "- Input\n",
    "- [\"MinStack\",\"push\",\"push\",\"push\",\"getMin\",\"pop\",\"top\",\"getMin\"]\n",
    "- [[],[-2],[0],[-3],[],[],[],[]]\n",
    "\n",
    "- Output\n",
    "- [null,null,null,null,-3,null,0,-2]"
   ]
  },
  {
   "cell_type": "code",
   "execution_count": null,
   "id": "038a0b68",
   "metadata": {},
   "outputs": [],
   "source": [
    "class MinStack:\n",
    "\n",
    "    def __init__(self):\n",
    "        self.stack = []\n",
    "        \n",
    "    def push(self, x: int) -> None:\n",
    "        \n",
    "        # If the stack is empty, then the min value\n",
    "        # must just be the first value we add\n",
    "        if not self.stack:\n",
    "            self.stack.append((x, x))\n",
    "            return\n",
    "\n",
    "        current_min = self.stack[-1][1]\n",
    "        self.stack.append((x, min(x, current_min)))\n",
    "              \n",
    "    def pop(self) -> None:\n",
    "        self.stack.pop()\n",
    "        \n",
    "    def top(self) -> int:\n",
    "        return self.stack[-1][0]\n",
    "        \n",
    "    def getMin(self) -> int:\n",
    "        return self.stack[-1][1]\n",
    "        "
   ]
  },
  {
   "cell_type": "markdown",
   "id": "56317629",
   "metadata": {},
   "source": [
    "## LRU Cache\n",
    "\n",
    "- Input\n",
    "- [\"LRUCache\", \"put\", \"put\", \"get\", \"put\", \"get\", \"put\", \"get\", \"get\", \"get\"]\n",
    "- [[2], [1, 1], [2, 2], [1], [3, 3], [2], [4, 4], [1], [3], [4]]\n",
    "- Output\n",
    "- [null, null, null, 1, null, -1, null, -1, 3, 4]"
   ]
  },
  {
   "cell_type": "code",
   "execution_count": null,
   "id": "0b2e6a92",
   "metadata": {},
   "outputs": [],
   "source": [
    "class LRUCache:\n",
    "    def __init__(self, capacity):\n",
    "        self.capacity = capacity\n",
    "        self.dic =  collections.OrderedDict()\n",
    "    \n",
    "    def get(self, key):\n",
    "        if key not in self.dic:\n",
    "            return - 1\n",
    "        self.dic.move_to_end(key)\n",
    "        return self.dic[key]\n",
    "\n",
    "    def put(self, key, value):\n",
    "        if key in self.dic:\n",
    "            self.dic.move_to_end(key)\n",
    "        self.dic[key] = value\n",
    "        if len(self.dic) > self.capacity:\n",
    "            self.dic.popitem(last = False)"
   ]
  },
  {
   "cell_type": "code",
   "execution_count": 1,
   "id": "7bce28fa",
   "metadata": {},
   "outputs": [],
   "source": [
    "dic1 = {'A': 1, 'B': 5, 'C': 3}"
   ]
  },
  {
   "cell_type": "code",
   "execution_count": 6,
   "id": "82df3e54",
   "metadata": {},
   "outputs": [
    {
     "data": {
      "text/plain": [
       "OrderedDict([('A', 5), ('B', 2), ('C', 3)])"
      ]
     },
     "execution_count": 6,
     "metadata": {},
     "output_type": "execute_result"
    }
   ],
   "source": [
    "from collections import OrderedDict\n",
    "dic = OrderedDict()\n",
    "dic['A'] = 5\n",
    "dic['B'] = 2\n",
    "dic['C'] = 3\n",
    "dic"
   ]
  },
  {
   "cell_type": "code",
   "execution_count": null,
   "id": "2bcca67f",
   "metadata": {},
   "outputs": [],
   "source": []
  }
 ],
 "metadata": {
  "kernelspec": {
   "display_name": "Python 3 (ipykernel)",
   "language": "python",
   "name": "python3"
  },
  "language_info": {
   "codemirror_mode": {
    "name": "ipython",
    "version": 3
   },
   "file_extension": ".py",
   "mimetype": "text/x-python",
   "name": "python",
   "nbconvert_exporter": "python",
   "pygments_lexer": "ipython3",
   "version": "3.9.7"
  }
 },
 "nbformat": 4,
 "nbformat_minor": 5
}
