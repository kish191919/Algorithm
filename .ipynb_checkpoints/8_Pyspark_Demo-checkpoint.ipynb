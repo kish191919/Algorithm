{
 "cells": [
  {
   "cell_type": "code",
   "execution_count": 2,
   "id": "acbd245f",
   "metadata": {},
   "outputs": [],
   "source": [
    "from pyspark.sql import SparkSession\n",
    "import warnings\n",
    "warnings.filterwarnings('ignore')"
   ]
  },
  {
   "cell_type": "code",
   "execution_count": 3,
   "id": "6d96ca4f",
   "metadata": {},
   "outputs": [
    {
     "name": "stderr",
     "output_type": "stream",
     "text": [
      "22/01/21 23:36:41 WARN Utils: Your hostname, sunghwanui-MacBookPro.local resolves to a loopback address: 127.0.0.1; using 192.168.1.8 instead (on interface en0)\n",
      "22/01/21 23:36:41 WARN Utils: Set SPARK_LOCAL_IP if you need to bind to another address\n",
      "22/01/21 23:36:42 WARN NativeCodeLoader: Unable to load native-hadoop library for your platform... using builtin-java classes where applicable\n",
      "Using Spark's default log4j profile: org/apache/spark/log4j-defaults.properties\n",
      "Setting default log level to \"WARN\".\n",
      "To adjust logging level use sc.setLogLevel(newLevel). For SparkR, use setLogLevel(newLevel).\n"
     ]
    },
    {
     "data": {
      "text/html": [
       "\n",
       "            <div>\n",
       "                <p><b>SparkSession - in-memory</b></p>\n",
       "                \n",
       "        <div>\n",
       "            <p><b>SparkContext</b></p>\n",
       "\n",
       "            <p><a href=\"http://192.168.1.8:4040\">Spark UI</a></p>\n",
       "\n",
       "            <dl>\n",
       "              <dt>Version</dt>\n",
       "                <dd><code>v3.1.2</code></dd>\n",
       "              <dt>Master</dt>\n",
       "                <dd><code>local[*]</code></dd>\n",
       "              <dt>AppName</dt>\n",
       "                <dd><code>Practice</code></dd>\n",
       "            </dl>\n",
       "        </div>\n",
       "        \n",
       "            </div>\n",
       "        "
      ],
      "text/plain": [
       "<pyspark.sql.session.SparkSession at 0x7fd7825afd30>"
      ]
     },
     "execution_count": 3,
     "metadata": {},
     "output_type": "execute_result"
    }
   ],
   "source": [
    "spark = SparkSession.builder.appName(\"Practice\").getOrCreate()\n",
    "spark"
   ]
  },
  {
   "cell_type": "code",
   "execution_count": 5,
   "id": "651cbcba",
   "metadata": {},
   "outputs": [
    {
     "name": "stdout",
     "output_type": "stream",
     "text": [
      "+-------+----------+------+\n",
      "|   Name|Department|Salary|\n",
      "+-------+----------+------+\n",
      "|  danny|  big data| 30000|\n",
      "|hyunjoo|     admin| 40000|\n",
      "| eileen|  big data| 70000|\n",
      "| hailey|        it|  3400|\n",
      "|   john|        it| 40000|\n",
      "|    kim|  big data|200000|\n",
      "|  nadal|        it| 30000|\n",
      "+-------+----------+------+\n",
      "\n"
     ]
    }
   ],
   "source": [
    "df = spark.read.csv(\"test3.csv\", header=True, inferSchema=True)\n",
    "df.show()"
   ]
  },
  {
   "cell_type": "code",
   "execution_count": 6,
   "id": "128309a6",
   "metadata": {},
   "outputs": [
    {
     "name": "stdout",
     "output_type": "stream",
     "text": [
      "+----------+-----------+\n",
      "|Department|sum(Salary)|\n",
      "+----------+-----------+\n",
      "|  big data|     300000|\n",
      "|        it|      73400|\n",
      "|     admin|      40000|\n",
      "+----------+-----------+\n",
      "\n"
     ]
    }
   ],
   "source": [
    "df.groupBy(\"Department\").sum(\"Salary\").show()"
   ]
  },
  {
   "cell_type": "code",
   "execution_count": 7,
   "id": "1e453880",
   "metadata": {},
   "outputs": [
    {
     "data": {
      "text/plain": [
       "[('Name', 'string'), ('Department', 'string'), ('Salary', 'int')]"
      ]
     },
     "execution_count": 7,
     "metadata": {},
     "output_type": "execute_result"
    }
   ],
   "source": [
    "df.dtypes"
   ]
  },
  {
   "cell_type": "code",
   "execution_count": 8,
   "id": "a31e7f34",
   "metadata": {},
   "outputs": [
    {
     "data": {
      "text/plain": [
       "['Name', 'Department', 'Salary']"
      ]
     },
     "execution_count": 8,
     "metadata": {},
     "output_type": "execute_result"
    }
   ],
   "source": [
    "df.columns"
   ]
  },
  {
   "cell_type": "code",
   "execution_count": 10,
   "id": "fd464681",
   "metadata": {},
   "outputs": [
    {
     "name": "stdout",
     "output_type": "stream",
     "text": [
      "+-------+-----+----------+------------------+\n",
      "|summary| Name|Department|            Salary|\n",
      "+-------+-----+----------+------------------+\n",
      "|  count|    7|         7|                 7|\n",
      "|   mean| null|      null|59057.142857142855|\n",
      "| stddev| null|      null|65188.620099494285|\n",
      "|    min|danny|     admin|              3400|\n",
      "|    max|nadal|        it|            200000|\n",
      "+-------+-----+----------+------------------+\n",
      "\n"
     ]
    }
   ],
   "source": [
    "df.describe().show()"
   ]
  },
  {
   "cell_type": "code",
   "execution_count": 11,
   "id": "cb2d2ea5",
   "metadata": {},
   "outputs": [
    {
     "name": "stdout",
     "output_type": "stream",
     "text": [
      "+-------+----------+------+----------+\n",
      "|   Name|Department|Salary|Salary x 2|\n",
      "+-------+----------+------+----------+\n",
      "|  danny|  big data| 30000|     60000|\n",
      "|hyunjoo|     admin| 40000|     80000|\n",
      "| eileen|  big data| 70000|    140000|\n",
      "| hailey|        it|  3400|      6800|\n",
      "|   john|        it| 40000|     80000|\n",
      "|    kim|  big data|200000|    400000|\n",
      "|  nadal|        it| 30000|     60000|\n",
      "+-------+----------+------+----------+\n",
      "\n"
     ]
    }
   ],
   "source": [
    "df = df.withColumn(\"Salary x 2\", df[\"Salary\"] * 2)\n",
    "df.show()"
   ]
  },
  {
   "cell_type": "code",
   "execution_count": 13,
   "id": "32f3c28b",
   "metadata": {},
   "outputs": [
    {
     "name": "stdout",
     "output_type": "stream",
     "text": [
      "+-------+----------+------+-----------+\n",
      "|   Name|Department|Salary|Salary xtwo|\n",
      "+-------+----------+------+-----------+\n",
      "|  danny|  big data| 30000|      60000|\n",
      "|hyunjoo|     admin| 40000|      80000|\n",
      "| eileen|  big data| 70000|     140000|\n",
      "| hailey|        it|  3400|       6800|\n",
      "|   john|        it| 40000|      80000|\n",
      "|    kim|  big data|200000|     400000|\n",
      "|  nadal|        it| 30000|      60000|\n",
      "+-------+----------+------+-----------+\n",
      "\n"
     ]
    }
   ],
   "source": [
    "df = df.withColumnRenamed(\"Salary x 2\", \"Salary xtwo\" )\n",
    "df.show()"
   ]
  },
  {
   "cell_type": "code",
   "execution_count": 14,
   "id": "8d72f251",
   "metadata": {},
   "outputs": [
    {
     "name": "stdout",
     "output_type": "stream",
     "text": [
      "+-------+----------+------+\n",
      "|   Name|Department|Salary|\n",
      "+-------+----------+------+\n",
      "|  danny|  big data| 30000|\n",
      "|hyunjoo|     admin| 40000|\n",
      "| eileen|  big data| 70000|\n",
      "| hailey|        it|  3400|\n",
      "|   john|        it| 40000|\n",
      "|    kim|  big data|200000|\n",
      "|  nadal|        it| 30000|\n",
      "+-------+----------+------+\n",
      "\n"
     ]
    }
   ],
   "source": [
    "df = df.drop(\"Salary xtwo\")\n",
    "df.show()"
   ]
  },
  {
   "cell_type": "code",
   "execution_count": 15,
   "id": "d1c2a611",
   "metadata": {},
   "outputs": [
    {
     "name": "stdout",
     "output_type": "stream",
     "text": [
      "+----------+------------------+\n",
      "|Department|       avg(Salary)|\n",
      "+----------+------------------+\n",
      "|  big data|          100000.0|\n",
      "|        it|24466.666666666668|\n",
      "|     admin|           40000.0|\n",
      "+----------+------------------+\n",
      "\n"
     ]
    }
   ],
   "source": [
    "df.groupBy(\"Department\").mean(\"Salary\").show()"
   ]
  },
  {
   "cell_type": "code",
   "execution_count": 16,
   "id": "eb5fe5e0",
   "metadata": {},
   "outputs": [
    {
     "name": "stdout",
     "output_type": "stream",
     "text": [
      "+----------+------+\n",
      "|Department|Salary|\n",
      "+----------+------+\n",
      "|  big data| 30000|\n",
      "|     admin| 40000|\n",
      "|  big data| 70000|\n",
      "|        it|  3400|\n",
      "|        it| 40000|\n",
      "|  big data|200000|\n",
      "|        it| 30000|\n",
      "+----------+------+\n",
      "\n"
     ]
    }
   ],
   "source": [
    "df.select([\"Department\", \"Salary\"]).show()"
   ]
  },
  {
   "cell_type": "code",
   "execution_count": 17,
   "id": "2f418aa3",
   "metadata": {},
   "outputs": [
    {
     "name": "stdout",
     "output_type": "stream",
     "text": [
      "1_Greedy.ipynb          7_pyspark_tips.ipynb    test2.csv\r\n",
      "1_pyspark_setup.ipynb   Demo.ipynb              test3.csv\r\n",
      "2_pyspark_add.ipynb     Untitled.ipynb          test4.csv\r\n",
      "3_pyspark_missing.ipynb Untitled1.ipynb         test_1.py\r\n",
      "4_pyspark_filter.ipynb  \u001b[34m__pycache__\u001b[m\u001b[m             tips.csv\r\n",
      "5_pyspark_groupby.ipynb test.py\r\n",
      "6_pyspark_ML.ipynb      test1.csv\r\n"
     ]
    }
   ],
   "source": [
    "!ls"
   ]
  },
  {
   "cell_type": "code",
   "execution_count": 23,
   "id": "1b09c0f3",
   "metadata": {},
   "outputs": [
    {
     "name": "stdout",
     "output_type": "stream",
     "text": [
      "+-------+----+----------+------+\n",
      "|   Name| age|experience|Salary|\n",
      "+-------+----+----------+------+\n",
      "|  danny|  30|        10| 30000|\n",
      "|hyunjoo|  33|      null| 40000|\n",
      "| eileen|  23|         5| 70000|\n",
      "| hailey|  44|         4|  3400|\n",
      "|   null|null|      null| 40000|\n",
      "|    kim|  36|         6|200000|\n",
      "|   null|  87|         7| 30000|\n",
      "|   null|  49|      null|  null|\n",
      "+-------+----+----------+------+\n",
      "\n"
     ]
    }
   ],
   "source": [
    "df = spark.read.csv(\"test2.csv\", header = True, inferSchema=True)\n",
    "df.show()"
   ]
  },
  {
   "cell_type": "code",
   "execution_count": 25,
   "id": "6adcf2d2",
   "metadata": {},
   "outputs": [
    {
     "name": "stdout",
     "output_type": "stream",
     "text": [
      "+------+---+----------+------+\n",
      "|  Name|age|experience|Salary|\n",
      "+------+---+----------+------+\n",
      "| danny| 30|        10| 30000|\n",
      "|eileen| 23|         5| 70000|\n",
      "|hailey| 44|         4|  3400|\n",
      "|   kim| 36|         6|200000|\n",
      "+------+---+----------+------+\n",
      "\n"
     ]
    }
   ],
   "source": [
    "df.na.drop().show()"
   ]
  },
  {
   "cell_type": "code",
   "execution_count": 26,
   "id": "169ada81",
   "metadata": {},
   "outputs": [
    {
     "name": "stdout",
     "output_type": "stream",
     "text": [
      "+-------+----+----------+------+\n",
      "|   Name| age|experience|Salary|\n",
      "+-------+----+----------+------+\n",
      "|  danny|  30|        10| 30000|\n",
      "|hyunjoo|  33|      null| 40000|\n",
      "| eileen|  23|         5| 70000|\n",
      "| hailey|  44|         4|  3400|\n",
      "|   null|null|      null| 40000|\n",
      "|    kim|  36|         6|200000|\n",
      "|   null|  87|         7| 30000|\n",
      "|   null|  49|      null|  null|\n",
      "+-------+----+----------+------+\n",
      "\n"
     ]
    }
   ],
   "source": [
    "df.show()"
   ]
  },
  {
   "cell_type": "code",
   "execution_count": 28,
   "id": "31c1b22b",
   "metadata": {},
   "outputs": [
    {
     "name": "stdout",
     "output_type": "stream",
     "text": [
      "+-------+----+----------+------+\n",
      "|   Name| age|experience|Salary|\n",
      "+-------+----+----------+------+\n",
      "|  danny|  30|        10| 30000|\n",
      "|hyunjoo|  33|      null| 40000|\n",
      "| eileen|  23|         5| 70000|\n",
      "| hailey|  44|         4|  3400|\n",
      "|missing|null|      null| 40000|\n",
      "|    kim|  36|         6|200000|\n",
      "|missing|  87|         7| 30000|\n",
      "|missing|  49|      null|  null|\n",
      "+-------+----+----------+------+\n",
      "\n"
     ]
    }
   ],
   "source": [
    "df.na.fill(\"missing\").show()"
   ]
  },
  {
   "cell_type": "code",
   "execution_count": 29,
   "id": "35240763",
   "metadata": {},
   "outputs": [
    {
     "name": "stdout",
     "output_type": "stream",
     "text": [
      "+-------+---+----------+------+\n",
      "|   Name|age|experience|Salary|\n",
      "+-------+---+----------+------+\n",
      "|  danny| 30|        10| 30000|\n",
      "|hyunjoo| 33|         0| 40000|\n",
      "| eileen| 23|         5| 70000|\n",
      "| hailey| 44|         4|  3400|\n",
      "|   null|  0|         0| 40000|\n",
      "|    kim| 36|         6|200000|\n",
      "|   null| 87|         7| 30000|\n",
      "|   null| 49|         0|     0|\n",
      "+-------+---+----------+------+\n",
      "\n"
     ]
    }
   ],
   "source": [
    "df.na.fill(0).show()"
   ]
  },
  {
   "cell_type": "code",
   "execution_count": 30,
   "id": "63c87770",
   "metadata": {},
   "outputs": [],
   "source": [
    "from pyspark.ml.feature import Imputer"
   ]
  },
  {
   "cell_type": "code",
   "execution_count": 36,
   "id": "27821c52",
   "metadata": {},
   "outputs": [],
   "source": [
    "imputer = Imputer(inputCols=[\"age\",\"Salary\",\"experience\"],\n",
    "                 outputCols=[\"{}_imputed\".format(c) for c in [\"age\",\"Salary\",\"experience\"]]).setStrategy(\"mean\")"
   ]
  },
  {
   "cell_type": "code",
   "execution_count": 38,
   "id": "85ae7391",
   "metadata": {},
   "outputs": [
    {
     "name": "stdout",
     "output_type": "stream",
     "text": [
      "+-------+----+----------+------+-----------+--------------+------------------+\n",
      "|   Name| age|experience|Salary|age_imputed|Salary_imputed|experience_imputed|\n",
      "+-------+----+----------+------+-----------+--------------+------------------+\n",
      "|  danny|  30|        10| 30000|         30|         30000|                10|\n",
      "|hyunjoo|  33|      null| 40000|         33|         40000|                 6|\n",
      "| eileen|  23|         5| 70000|         23|         70000|                 5|\n",
      "| hailey|  44|         4|  3400|         44|          3400|                 4|\n",
      "|   null|null|      null| 40000|         43|         40000|                 6|\n",
      "|    kim|  36|         6|200000|         36|        200000|                 6|\n",
      "|   null|  87|         7| 30000|         87|         30000|                 7|\n",
      "|   null|  49|      null|  null|         49|         59057|                 6|\n",
      "+-------+----+----------+------+-----------+--------------+------------------+\n",
      "\n"
     ]
    }
   ],
   "source": [
    "df = imputer.fit(df).transform(df)\n",
    "df.show()"
   ]
  },
  {
   "cell_type": "code",
   "execution_count": 40,
   "id": "ff3312f0",
   "metadata": {},
   "outputs": [
    {
     "name": "stdout",
     "output_type": "stream",
     "text": [
      "+-------+-----------+--------------+------------------+\n",
      "|   Name|age_imputed|Salary_imputed|experience_imputed|\n",
      "+-------+-----------+--------------+------------------+\n",
      "|  danny|         30|         30000|                10|\n",
      "|hyunjoo|         33|         40000|                 6|\n",
      "| eileen|         23|         70000|                 5|\n",
      "| hailey|         44|          3400|                 4|\n",
      "|   null|         43|         40000|                 6|\n",
      "|    kim|         36|        200000|                 6|\n",
      "|   null|         87|         30000|                 7|\n",
      "|   null|         49|         59057|                 6|\n",
      "+-------+-----------+--------------+------------------+\n",
      "\n"
     ]
    }
   ],
   "source": [
    "df = df.drop(\"age\",\"experience\",\"Salary\")\n",
    "df.show()"
   ]
  },
  {
   "cell_type": "code",
   "execution_count": 41,
   "id": "37ff7f35",
   "metadata": {},
   "outputs": [
    {
     "name": "stdout",
     "output_type": "stream",
     "text": [
      "+-------+---+------+----------+\n",
      "|   Name|age|Salary|experience|\n",
      "+-------+---+------+----------+\n",
      "|  danny| 30| 30000|        10|\n",
      "|hyunjoo| 33| 40000|         6|\n",
      "| eileen| 23| 70000|         5|\n",
      "| hailey| 44|  3400|         4|\n",
      "|   null| 43| 40000|         6|\n",
      "|    kim| 36|200000|         6|\n",
      "|   null| 87| 30000|         7|\n",
      "|   null| 49| 59057|         6|\n",
      "+-------+---+------+----------+\n",
      "\n"
     ]
    }
   ],
   "source": [
    "df = df.withColumnRenamed(\"age_imputed\",\"age\").withColumnRenamed(\"Salary_imputed\",\"Salary\").withColumnRenamed(\"experience_imputed\",\"experience\")\n",
    "df.show()"
   ]
  },
  {
   "cell_type": "code",
   "execution_count": 42,
   "id": "49733694",
   "metadata": {},
   "outputs": [],
   "source": [
    "from pyspark.ml.regression import LinearRegression"
   ]
  },
  {
   "cell_type": "code",
   "execution_count": 47,
   "id": "85567a0a",
   "metadata": {},
   "outputs": [],
   "source": [
    "from pyspark.ml.feature import VectorAssembler"
   ]
  },
  {
   "cell_type": "code",
   "execution_count": 48,
   "id": "f2f819b8",
   "metadata": {},
   "outputs": [
    {
     "name": "stdout",
     "output_type": "stream",
     "text": [
      "+-------+---+------+----------+\n",
      "|   Name|age|Salary|experience|\n",
      "+-------+---+------+----------+\n",
      "|  danny| 30| 30000|        10|\n",
      "|hyunjoo| 33| 40000|         6|\n",
      "| eileen| 23| 70000|         5|\n",
      "| hailey| 44|  3400|         4|\n",
      "|   null| 43| 40000|         6|\n",
      "|    kim| 36|200000|         6|\n",
      "|   null| 87| 30000|         7|\n",
      "|   null| 49| 59057|         6|\n",
      "+-------+---+------+----------+\n",
      "\n"
     ]
    }
   ],
   "source": [
    "df.show()"
   ]
  },
  {
   "cell_type": "code",
   "execution_count": 52,
   "id": "11119676",
   "metadata": {},
   "outputs": [],
   "source": [
    "assembler = VectorAssembler(inputCols=[\"age\", \"experience\"],\n",
    "                           outputCol=\"vector\")"
   ]
  },
  {
   "cell_type": "code",
   "execution_count": 57,
   "id": "215aa80a",
   "metadata": {},
   "outputs": [
    {
     "name": "stdout",
     "output_type": "stream",
     "text": [
      "+-------+---+------+----------+-----------+\n",
      "|   Name|age|Salary|experience|     vector|\n",
      "+-------+---+------+----------+-----------+\n",
      "|  danny| 30| 30000|        10|[30.0,10.0]|\n",
      "|hyunjoo| 33| 40000|         6| [33.0,6.0]|\n",
      "| eileen| 23| 70000|         5| [23.0,5.0]|\n",
      "| hailey| 44|  3400|         4| [44.0,4.0]|\n",
      "|   null| 43| 40000|         6| [43.0,6.0]|\n",
      "|    kim| 36|200000|         6| [36.0,6.0]|\n",
      "|   null| 87| 30000|         7| [87.0,7.0]|\n",
      "|   null| 49| 59057|         6| [49.0,6.0]|\n",
      "+-------+---+------+----------+-----------+\n",
      "\n"
     ]
    }
   ],
   "source": [
    "df = assembler.transform(df)\n",
    "df.show()"
   ]
  },
  {
   "cell_type": "code",
   "execution_count": 58,
   "id": "00634249",
   "metadata": {},
   "outputs": [
    {
     "name": "stdout",
     "output_type": "stream",
     "text": [
      "+-----------+------+\n",
      "|     vector|Salary|\n",
      "+-----------+------+\n",
      "|[30.0,10.0]| 30000|\n",
      "| [33.0,6.0]| 40000|\n",
      "| [23.0,5.0]| 70000|\n",
      "| [44.0,4.0]|  3400|\n",
      "| [43.0,6.0]| 40000|\n",
      "| [36.0,6.0]|200000|\n",
      "| [87.0,7.0]| 30000|\n",
      "| [49.0,6.0]| 59057|\n",
      "+-----------+------+\n",
      "\n"
     ]
    }
   ],
   "source": [
    "df = df.select(\"vector\", \"Salary\")\n",
    "df.show()"
   ]
  },
  {
   "cell_type": "code",
   "execution_count": 60,
   "id": "e3879e4d",
   "metadata": {},
   "outputs": [
    {
     "name": "stdout",
     "output_type": "stream",
     "text": [
      "+----------+------+\n",
      "|    vector|Salary|\n",
      "+----------+------+\n",
      "|[23.0,5.0]| 70000|\n",
      "|[36.0,6.0]|200000|\n",
      "|[43.0,6.0]| 40000|\n",
      "|[87.0,7.0]| 30000|\n",
      "+----------+------+\n",
      "\n",
      "+-----------+------+\n",
      "|     vector|Salary|\n",
      "+-----------+------+\n",
      "|[30.0,10.0]| 30000|\n",
      "| [33.0,6.0]| 40000|\n",
      "| [44.0,4.0]|  3400|\n",
      "| [49.0,6.0]| 59057|\n",
      "+-----------+------+\n",
      "\n"
     ]
    }
   ],
   "source": [
    "train, test = df.randomSplit([0.8,0.2])\n",
    "train.show()\n",
    "test.show()"
   ]
  },
  {
   "cell_type": "code",
   "execution_count": 65,
   "id": "86e8a11d",
   "metadata": {},
   "outputs": [
    {
     "data": {
      "text/plain": [
       "LinearRegression_2a02b7f4d548"
      ]
     },
     "execution_count": 65,
     "metadata": {},
     "output_type": "execute_result"
    }
   ],
   "source": [
    "regressor = LinearRegression(featuresCol=\"vector\", labelCol=\"Salary\")\n",
    "regressor"
   ]
  },
  {
   "cell_type": "code",
   "execution_count": 67,
   "id": "9c874427",
   "metadata": {},
   "outputs": [
    {
     "name": "stderr",
     "output_type": "stream",
     "text": [
      "22/01/22 00:10:17 WARN Instrumentation: [4ae6f667] regParam is zero, which might cause numerical instability and overfitting.\n"
     ]
    }
   ],
   "source": [
    "df_1 = regressor.fit(train)"
   ]
  },
  {
   "cell_type": "code",
   "execution_count": 70,
   "id": "68428380",
   "metadata": {},
   "outputs": [
    {
     "data": {
      "text/plain": [
       "DenseVector([-6213.4089, 178829.084])"
      ]
     },
     "execution_count": 70,
     "metadata": {},
     "output_type": "execute_result"
    }
   ],
   "source": [
    "df_1.coefficients"
   ]
  },
  {
   "cell_type": "code",
   "execution_count": 71,
   "id": "60f279b7",
   "metadata": {},
   "outputs": [
    {
     "data": {
      "text/plain": [
       "-694390.9348442404"
      ]
     },
     "execution_count": 71,
     "metadata": {},
     "output_type": "execute_result"
    }
   ],
   "source": [
    "df_1.intercept"
   ]
  },
  {
   "cell_type": "code",
   "execution_count": 75,
   "id": "995573ef",
   "metadata": {},
   "outputs": [],
   "source": [
    "df_1 = df_1.evaluate(test)"
   ]
  },
  {
   "cell_type": "code",
   "execution_count": 76,
   "id": "069371a7",
   "metadata": {},
   "outputs": [
    {
     "data": {
      "text/plain": [
       "<pyspark.ml.regression.LinearRegressionSummary at 0x7fd785ac8b20>"
      ]
     },
     "execution_count": 76,
     "metadata": {},
     "output_type": "execute_result"
    }
   ],
   "source": [
    "df_1"
   ]
  },
  {
   "cell_type": "code",
   "execution_count": 78,
   "id": "628fecec",
   "metadata": {},
   "outputs": [
    {
     "name": "stdout",
     "output_type": "stream",
     "text": [
      "+-----------+------+-------------------+\n",
      "|     vector|Salary|         prediction|\n",
      "+-----------+------+-------------------+\n",
      "|[30.0,10.0]| 30000|  907497.6392823876|\n",
      "| [33.0,6.0]| 40000| 173541.07648725586|\n",
      "| [44.0,4.0]|  3400|-252464.58923514717|\n",
      "| [49.0,6.0]| 59057|    74126.534466477|\n",
      "+-----------+------+-------------------+\n",
      "\n"
     ]
    }
   ],
   "source": [
    "df_1.predictions.show()"
   ]
  },
  {
   "cell_type": "code",
   "execution_count": 79,
   "id": "25ef69af",
   "metadata": {},
   "outputs": [
    {
     "data": {
      "text/plain": [
       "320493.2098678169"
      ]
     },
     "execution_count": 79,
     "metadata": {},
     "output_type": "execute_result"
    }
   ],
   "source": [
    "df_1.meanAbsoluteError"
   ]
  },
  {
   "cell_type": "code",
   "execution_count": 80,
   "id": "14efa075",
   "metadata": {},
   "outputs": [
    {
     "data": {
      "text/plain": [
       "213382276237.26135"
      ]
     },
     "execution_count": 80,
     "metadata": {},
     "output_type": "execute_result"
    }
   ],
   "source": [
    "df_1.meanSquaredError"
   ]
  },
  {
   "cell_type": "code",
   "execution_count": 81,
   "id": "ded23c81",
   "metadata": {},
   "outputs": [],
   "source": [
    "import os"
   ]
  },
  {
   "cell_type": "code",
   "execution_count": 83,
   "id": "fb975103",
   "metadata": {},
   "outputs": [
    {
     "data": {
      "text/plain": [
       "'/Users/sunghwanki'"
      ]
     },
     "execution_count": 83,
     "metadata": {},
     "output_type": "execute_result"
    }
   ],
   "source": [
    "os.environ[\"HOME\"]"
   ]
  },
  {
   "cell_type": "code",
   "execution_count": 85,
   "id": "c6b6f9d8",
   "metadata": {},
   "outputs": [
    {
     "data": {
      "text/plain": [
       "'/opt/anaconda3/bin:/opt/anaconda3/condabin:/usr/local/Cellar/pyenv-virtualenv/1.1.5/shims:/Users/sunghwanki/.pyenv/bin:/usr/local/bin:/usr/bin:/bin:/usr/sbin:/sbin:/usr/local/share/dotnet:/opt/X11/bin:~/.dotnet/tools:/Library/Frameworks/Mono.framework/Versions/Current/Commands'"
      ]
     },
     "execution_count": 85,
     "metadata": {},
     "output_type": "execute_result"
    }
   ],
   "source": [
    "os.environ['PATH']"
   ]
  },
  {
   "cell_type": "code",
   "execution_count": null,
   "id": "c4d7bb25",
   "metadata": {},
   "outputs": [],
   "source": []
  }
 ],
 "metadata": {
  "kernelspec": {
   "display_name": "Python 3 (ipykernel)",
   "language": "python",
   "name": "python3"
  },
  "language_info": {
   "codemirror_mode": {
    "name": "ipython",
    "version": 3
   },
   "file_extension": ".py",
   "mimetype": "text/x-python",
   "name": "python",
   "nbconvert_exporter": "python",
   "pygments_lexer": "ipython3",
   "version": "3.9.7"
  }
 },
 "nbformat": 4,
 "nbformat_minor": 5
}
