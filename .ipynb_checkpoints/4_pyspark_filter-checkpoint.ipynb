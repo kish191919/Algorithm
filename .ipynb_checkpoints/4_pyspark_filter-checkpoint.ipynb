{
 "cells": [
  {
   "cell_type": "code",
   "execution_count": 1,
   "id": "ffc0eaf2",
   "metadata": {},
   "outputs": [
    {
     "name": "stderr",
     "output_type": "stream",
     "text": [
      "22/01/18 21:33:03 WARN Utils: Your hostname, sunghwanui-MacBookPro.local resolves to a loopback address: 127.0.0.1; using 192.168.1.8 instead (on interface en0)\n",
      "22/01/18 21:33:03 WARN Utils: Set SPARK_LOCAL_IP if you need to bind to another address\n",
      "22/01/18 21:33:03 WARN NativeCodeLoader: Unable to load native-hadoop library for your platform... using builtin-java classes where applicable\n",
      "Using Spark's default log4j profile: org/apache/spark/log4j-defaults.properties\n",
      "Setting default log level to \"WARN\".\n",
      "To adjust logging level use sc.setLogLevel(newLevel). For SparkR, use setLogLevel(newLevel).\n",
      "22/01/18 21:33:04 WARN Utils: Service 'SparkUI' could not bind on port 4040. Attempting port 4041.\n",
      "22/01/18 21:33:04 WARN Utils: Service 'SparkUI' could not bind on port 4041. Attempting port 4042.\n"
     ]
    }
   ],
   "source": [
    "from pyspark.sql import SparkSession\n",
    "spark = SparkSession.builder.appName(\"practice1\").getOrCreate()"
   ]
  },
  {
   "cell_type": "code",
   "execution_count": 3,
   "id": "59559ada",
   "metadata": {},
   "outputs": [
    {
     "name": "stdout",
     "output_type": "stream",
     "text": [
      "+-------+----+----------+------+\n",
      "|   Name| age|experience|Salary|\n",
      "+-------+----+----------+------+\n",
      "|  danny|  30|        10| 30000|\n",
      "|hyunjoo|  33|      null| 40000|\n",
      "| eileen|  23|         5| 70000|\n",
      "| hailey|  44|         4|  3400|\n",
      "|   null|null|      null| 40000|\n",
      "|    kim|  36|         6|200000|\n",
      "|   null|  87|         7| 30000|\n",
      "|   null|  49|      null|  null|\n",
      "+-------+----+----------+------+\n",
      "\n"
     ]
    }
   ],
   "source": [
    "df = spark.read.csv(\"test2.csv\", header=True, inferSchema=True)\n",
    "df.show()"
   ]
  },
  {
   "cell_type": "code",
   "execution_count": 4,
   "id": "313b2187",
   "metadata": {},
   "outputs": [
    {
     "data": {
      "text/plain": [
       "[('Name', 'string'), ('age', 'int'), ('experience', 'int'), ('Salary', 'int')]"
      ]
     },
     "execution_count": 4,
     "metadata": {},
     "output_type": "execute_result"
    }
   ],
   "source": [
    "df.dtypes"
   ]
  },
  {
   "cell_type": "code",
   "execution_count": 5,
   "id": "d67fa7cd",
   "metadata": {},
   "outputs": [
    {
     "data": {
      "text/plain": [
       "['Name', 'age', 'experience', 'Salary']"
      ]
     },
     "execution_count": 5,
     "metadata": {},
     "output_type": "execute_result"
    }
   ],
   "source": [
    "df.columns"
   ]
  },
  {
   "cell_type": "code",
   "execution_count": 8,
   "id": "6f582d38",
   "metadata": {},
   "outputs": [
    {
     "name": "stdout",
     "output_type": "stream",
     "text": [
      "+-------+-----+------------------+------------------+------------------+\n",
      "|summary| Name|               age|        experience|            Salary|\n",
      "+-------+-----+------------------+------------------+------------------+\n",
      "|  count|    5|                 7|                 5|                 7|\n",
      "|   mean| null|43.142857142857146|               6.4|59057.142857142855|\n",
      "| stddev| null| 21.17725644355733|2.3021728866442674|65188.620099494285|\n",
      "|    min|danny|                23|                 4|              3400|\n",
      "|    max|  kim|                87|                10|            200000|\n",
      "+-------+-----+------------------+------------------+------------------+\n",
      "\n"
     ]
    }
   ],
   "source": [
    "df.describe().show()"
   ]
  },
  {
   "cell_type": "code",
   "execution_count": 10,
   "id": "94b016c5",
   "metadata": {},
   "outputs": [
    {
     "name": "stdout",
     "output_type": "stream",
     "text": [
      "+-------+----+----------+------+-----+\n",
      "|   Name| age|experience|Salary|age 2|\n",
      "+-------+----+----------+------+-----+\n",
      "|  danny|  30|        10| 30000|   32|\n",
      "|hyunjoo|  33|      null| 40000|   35|\n",
      "| eileen|  23|         5| 70000|   25|\n",
      "| hailey|  44|         4|  3400|   46|\n",
      "|   null|null|      null| 40000| null|\n",
      "|    kim|  36|         6|200000|   38|\n",
      "|   null|  87|         7| 30000|   89|\n",
      "|   null|  49|      null|  null|   51|\n",
      "+-------+----+----------+------+-----+\n",
      "\n"
     ]
    }
   ],
   "source": [
    "df =df.withColumn(\"age 2\",df[\"age\"]+2)\n",
    "df.show()"
   ]
  },
  {
   "cell_type": "code",
   "execution_count": 11,
   "id": "4c35dde6",
   "metadata": {},
   "outputs": [
    {
     "name": "stdout",
     "output_type": "stream",
     "text": [
      "+-------+----+----------+------+-------+\n",
      "|   Name| age|experience|Salary|age two|\n",
      "+-------+----+----------+------+-------+\n",
      "|  danny|  30|        10| 30000|     32|\n",
      "|hyunjoo|  33|      null| 40000|     35|\n",
      "| eileen|  23|         5| 70000|     25|\n",
      "| hailey|  44|         4|  3400|     46|\n",
      "|   null|null|      null| 40000|   null|\n",
      "|    kim|  36|         6|200000|     38|\n",
      "|   null|  87|         7| 30000|     89|\n",
      "|   null|  49|      null|  null|     51|\n",
      "+-------+----+----------+------+-------+\n",
      "\n"
     ]
    }
   ],
   "source": [
    "df = df.withColumnRenamed(\"age 2\", \"age two\")\n",
    "df.show()"
   ]
  },
  {
   "cell_type": "code",
   "execution_count": 12,
   "id": "5c623cd3",
   "metadata": {},
   "outputs": [
    {
     "data": {
      "text/plain": [
       "DataFrame[Name: string, age: int, experience: int, Salary: int]"
      ]
     },
     "execution_count": 12,
     "metadata": {},
     "output_type": "execute_result"
    }
   ],
   "source": [
    "df = df.drop(\"age two\")\n",
    "df"
   ]
  },
  {
   "cell_type": "code",
   "execution_count": 13,
   "id": "327b5208",
   "metadata": {},
   "outputs": [
    {
     "name": "stdout",
     "output_type": "stream",
     "text": [
      "+-------+----+----------+------+\n",
      "|   Name| age|experience|Salary|\n",
      "+-------+----+----------+------+\n",
      "|  danny|  30|        10| 30000|\n",
      "|hyunjoo|  33|      null| 40000|\n",
      "| eileen|  23|         5| 70000|\n",
      "| hailey|  44|         4|  3400|\n",
      "|   null|null|      null| 40000|\n",
      "|    kim|  36|         6|200000|\n",
      "|   null|  87|         7| 30000|\n",
      "|   null|  49|      null|  null|\n",
      "+-------+----+----------+------+\n",
      "\n"
     ]
    }
   ],
   "source": [
    "df.show()"
   ]
  },
  {
   "cell_type": "markdown",
   "id": "8250f7a0",
   "metadata": {},
   "source": [
    "### missing"
   ]
  },
  {
   "cell_type": "code",
   "execution_count": 15,
   "id": "bf7ba78b",
   "metadata": {},
   "outputs": [
    {
     "name": "stdout",
     "output_type": "stream",
     "text": [
      "+-------+---+----------+------+\n",
      "|   Name|age|experience|Salary|\n",
      "+-------+---+----------+------+\n",
      "|  danny| 30|        10| 30000|\n",
      "|hyunjoo| 33|         0| 40000|\n",
      "| eileen| 23|         5| 70000|\n",
      "| hailey| 44|         4|  3400|\n",
      "|   null|  0|         0| 40000|\n",
      "|    kim| 36|         6|200000|\n",
      "|   null| 87|         7| 30000|\n",
      "|   null| 49|         0|     0|\n",
      "+-------+---+----------+------+\n",
      "\n"
     ]
    }
   ],
   "source": [
    "df.na.fill(0).show()"
   ]
  },
  {
   "cell_type": "code",
   "execution_count": 22,
   "id": "d4b25d52",
   "metadata": {},
   "outputs": [
    {
     "name": "stdout",
     "output_type": "stream",
     "text": [
      "+-------+---+----------+------+\n",
      "|   Name|age|experience|Salary|\n",
      "+-------+---+----------+------+\n",
      "|  danny| 30|        10| 30000|\n",
      "|hyunjoo| 33|      null| 40000|\n",
      "| eileen| 23|         5| 70000|\n",
      "| hailey| 44|         4|  3400|\n",
      "|    kim| 36|         6|200000|\n",
      "+-------+---+----------+------+\n",
      "\n"
     ]
    }
   ],
   "source": [
    "df.na.drop(how=\"any\",subset=\"name\").show()"
   ]
  },
  {
   "cell_type": "code",
   "execution_count": 21,
   "id": "e5bafad3",
   "metadata": {},
   "outputs": [
    {
     "name": "stdout",
     "output_type": "stream",
     "text": [
      "+-------+----+----------+------+\n",
      "|   Name| age|experience|Salary|\n",
      "+-------+----+----------+------+\n",
      "|  danny|  30|        10| 30000|\n",
      "|hyunjoo|  33|      null| 40000|\n",
      "| eileen|  23|         5| 70000|\n",
      "| hailey|  44|         4|  3400|\n",
      "|   null|null|      null| 40000|\n",
      "|    kim|  36|         6|200000|\n",
      "|   null|  87|         7| 30000|\n",
      "|   null|  49|      null|  null|\n",
      "+-------+----+----------+------+\n",
      "\n"
     ]
    }
   ],
   "source": [
    "df.show()"
   ]
  },
  {
   "cell_type": "code",
   "execution_count": 23,
   "id": "beb4d46c",
   "metadata": {},
   "outputs": [],
   "source": [
    "from pyspark.ml.feature import Imputer"
   ]
  },
  {
   "cell_type": "code",
   "execution_count": 26,
   "id": "cb7b5dd2",
   "metadata": {},
   "outputs": [],
   "source": [
    "imputer = Imputer(\n",
    "inputCols = [\"age\", \"experience\", \"Salary\"],\n",
    "outputCols = ['{}_imputed'.format(c) for c in [\"age\", \"experience\", \"Salary\"]]).setStrategy(\"mean\")"
   ]
  },
  {
   "cell_type": "code",
   "execution_count": 27,
   "id": "a20e2213",
   "metadata": {},
   "outputs": [
    {
     "name": "stdout",
     "output_type": "stream",
     "text": [
      "+-------+----+----------+------+-----------+------------------+--------------+\n",
      "|   Name| age|experience|Salary|age_imputed|experience_imputed|Salary_imputed|\n",
      "+-------+----+----------+------+-----------+------------------+--------------+\n",
      "|  danny|  30|        10| 30000|         30|                10|         30000|\n",
      "|hyunjoo|  33|      null| 40000|         33|                 6|         40000|\n",
      "| eileen|  23|         5| 70000|         23|                 5|         70000|\n",
      "| hailey|  44|         4|  3400|         44|                 4|          3400|\n",
      "|   null|null|      null| 40000|         43|                 6|         40000|\n",
      "|    kim|  36|         6|200000|         36|                 6|        200000|\n",
      "|   null|  87|         7| 30000|         87|                 7|         30000|\n",
      "|   null|  49|      null|  null|         49|                 6|         59057|\n",
      "+-------+----+----------+------+-----------+------------------+--------------+\n",
      "\n"
     ]
    }
   ],
   "source": [
    "imputer.fit(df).transform(df).show()"
   ]
  },
  {
   "cell_type": "code",
   "execution_count": 28,
   "id": "9f4ac72e",
   "metadata": {},
   "outputs": [
    {
     "name": "stdout",
     "output_type": "stream",
     "text": [
      "+----+\n",
      "| age|\n",
      "+----+\n",
      "|  30|\n",
      "|  33|\n",
      "|  23|\n",
      "|  44|\n",
      "|null|\n",
      "|  36|\n",
      "|  87|\n",
      "|  49|\n",
      "+----+\n",
      "\n"
     ]
    }
   ],
   "source": [
    "df.select(\"age\").show()"
   ]
  },
  {
   "cell_type": "code",
   "execution_count": 29,
   "id": "0a51a21c",
   "metadata": {},
   "outputs": [
    {
     "data": {
      "text/plain": [
       "[('Name', 'string'), ('age', 'int'), ('experience', 'int'), ('Salary', 'int')]"
      ]
     },
     "execution_count": 29,
     "metadata": {},
     "output_type": "execute_result"
    }
   ],
   "source": [
    "df.dtypes"
   ]
  },
  {
   "cell_type": "code",
   "execution_count": 31,
   "id": "35bed9bd",
   "metadata": {},
   "outputs": [
    {
     "data": {
      "text/plain": [
       "['Name', 'age', 'experience', 'Salary']"
      ]
     },
     "execution_count": 31,
     "metadata": {},
     "output_type": "execute_result"
    }
   ],
   "source": [
    "df.columns"
   ]
  },
  {
   "cell_type": "code",
   "execution_count": 32,
   "id": "4c979262",
   "metadata": {},
   "outputs": [
    {
     "data": {
      "text/plain": [
       "[Row(Name='danny', age=30, experience=10, Salary=30000),\n",
       " Row(Name='hyunjoo', age=33, experience=None, Salary=40000),\n",
       " Row(Name='eileen', age=23, experience=5, Salary=70000),\n",
       " Row(Name='hailey', age=44, experience=4, Salary=3400),\n",
       " Row(Name=None, age=None, experience=None, Salary=40000)]"
      ]
     },
     "execution_count": 32,
     "metadata": {},
     "output_type": "execute_result"
    }
   ],
   "source": [
    "df.head(5)"
   ]
  },
  {
   "cell_type": "code",
   "execution_count": 34,
   "id": "41935694",
   "metadata": {},
   "outputs": [
    {
     "name": "stdout",
     "output_type": "stream",
     "text": [
      "danny\n",
      "hyunjoo\n",
      "eileen\n",
      "hailey\n",
      "None\n"
     ]
    }
   ],
   "source": [
    "for i in df.head(5):\n",
    "    print(i['Name'])"
   ]
  },
  {
   "cell_type": "code",
   "execution_count": 36,
   "id": "62b65f39",
   "metadata": {},
   "outputs": [
    {
     "name": "stdout",
     "output_type": "stream",
     "text": [
      "+-------+----+----------+------+\n",
      "|   Name| age|experience|Salary|\n",
      "+-------+----+----------+------+\n",
      "|  danny|  30|        10| 30000|\n",
      "|hyunjoo|  33|      null| 40000|\n",
      "| eileen|  23|         5| 70000|\n",
      "| hailey|  44|         4|  3400|\n",
      "|   null|null|      null| 40000|\n",
      "|    kim|  36|         6|200000|\n",
      "|   null|  87|         7| 30000|\n",
      "|   null|  49|      null|  null|\n",
      "+-------+----+----------+------+\n",
      "\n"
     ]
    }
   ],
   "source": [
    "df=spark.read.csv(\"test2.csv\", header=True, inferSchema=True)\n",
    "df.show()"
   ]
  },
  {
   "cell_type": "code",
   "execution_count": 37,
   "id": "cf99394a",
   "metadata": {},
   "outputs": [
    {
     "name": "stdout",
     "output_type": "stream",
     "text": [
      "+-------+----+----------+------+\n",
      "|   Name| age|experience|Salary|\n",
      "+-------+----+----------+------+\n",
      "|  danny|  30|        10| 30000|\n",
      "|hyunjoo|  33|      null| 40000|\n",
      "| eileen|  23|         5| 70000|\n",
      "|   null|null|      null| 40000|\n",
      "|    kim|  36|         6|200000|\n",
      "|   null|  87|         7| 30000|\n",
      "+-------+----+----------+------+\n",
      "\n"
     ]
    }
   ],
   "source": [
    "df.filter(\"Salary >8000\").show()"
   ]
  },
  {
   "cell_type": "code",
   "execution_count": 38,
   "id": "1a160aed",
   "metadata": {},
   "outputs": [
    {
     "name": "stdout",
     "output_type": "stream",
     "text": [
      "+-------+----+----------+------+\n",
      "|   Name| age|experience|Salary|\n",
      "+-------+----+----------+------+\n",
      "|  danny|  30|        10| 30000|\n",
      "|hyunjoo|  33|      null| 40000|\n",
      "| eileen|  23|         5| 70000|\n",
      "|   null|null|      null| 40000|\n",
      "|    kim|  36|         6|200000|\n",
      "|   null|  87|         7| 30000|\n",
      "+-------+----+----------+------+\n",
      "\n"
     ]
    }
   ],
   "source": [
    "df.filter(\"Salary > 10000\").show()"
   ]
  },
  {
   "cell_type": "code",
   "execution_count": 39,
   "id": "e7380351",
   "metadata": {},
   "outputs": [
    {
     "name": "stdout",
     "output_type": "stream",
     "text": [
      "+-------+----+\n",
      "|   name| age|\n",
      "+-------+----+\n",
      "|  danny|  30|\n",
      "|hyunjoo|  33|\n",
      "| eileen|  23|\n",
      "|   null|null|\n",
      "|    kim|  36|\n",
      "|   null|  87|\n",
      "+-------+----+\n",
      "\n"
     ]
    }
   ],
   "source": [
    "df.filter(\"Salary > 10000\").select([\"name\", \"age\"]).show()"
   ]
  },
  {
   "cell_type": "code",
   "execution_count": 40,
   "id": "abe20277",
   "metadata": {},
   "outputs": [
    {
     "name": "stdout",
     "output_type": "stream",
     "text": [
      "+-------+----+----------+------+\n",
      "|   Name| age|experience|Salary|\n",
      "+-------+----+----------+------+\n",
      "|  danny|  30|        10| 30000|\n",
      "|hyunjoo|  33|      null| 40000|\n",
      "| eileen|  23|         5| 70000|\n",
      "|   null|null|      null| 40000|\n",
      "|    kim|  36|         6|200000|\n",
      "|   null|  87|         7| 30000|\n",
      "+-------+----+----------+------+\n",
      "\n"
     ]
    }
   ],
   "source": [
    "df.filter(df[\"Salary\"]>10000).show()"
   ]
  },
  {
   "cell_type": "code",
   "execution_count": 41,
   "id": "9864190b",
   "metadata": {},
   "outputs": [
    {
     "name": "stdout",
     "output_type": "stream",
     "text": [
      "+-------+----+----------+------+\n",
      "|   Name| age|experience|Salary|\n",
      "+-------+----+----------+------+\n",
      "|  danny|  30|        10| 30000|\n",
      "|hyunjoo|  33|      null| 40000|\n",
      "| eileen|  23|         5| 70000|\n",
      "|   null|null|      null| 40000|\n",
      "|   null|  87|         7| 30000|\n",
      "+-------+----+----------+------+\n",
      "\n"
     ]
    }
   ],
   "source": [
    "df.filter((df[\"Salary\"]>10000)&\n",
    "          (df[\"Salary\"]<200000) ).show()"
   ]
  },
  {
   "cell_type": "code",
   "execution_count": 42,
   "id": "2f2c304a",
   "metadata": {},
   "outputs": [
    {
     "name": "stdout",
     "output_type": "stream",
     "text": [
      "+------+---+----------+------+\n",
      "|  Name|age|experience|Salary|\n",
      "+------+---+----------+------+\n",
      "|hailey| 44|         4|  3400|\n",
      "+------+---+----------+------+\n",
      "\n"
     ]
    }
   ],
   "source": [
    "df.filter(~(df[\"Salary\"]>10000)).show()"
   ]
  },
  {
   "cell_type": "code",
   "execution_count": 43,
   "id": "908460ab",
   "metadata": {},
   "outputs": [
    {
     "name": "stdout",
     "output_type": "stream",
     "text": [
      "+-------+----+----------+------+\n",
      "|   Name| age|experience|Salary|\n",
      "+-------+----+----------+------+\n",
      "|  danny|  30|        10| 30000|\n",
      "|hyunjoo|  33|      null| 40000|\n",
      "| eileen|  23|         5| 70000|\n",
      "|   null|null|      null| 40000|\n",
      "|    kim|  36|         6|200000|\n",
      "|   null|  87|         7| 30000|\n",
      "+-------+----+----------+------+\n",
      "\n"
     ]
    }
   ],
   "source": [
    "df.filter((df[\"Salary\"]>10000)).show()"
   ]
  },
  {
   "cell_type": "code",
   "execution_count": null,
   "id": "f7d4f2f4",
   "metadata": {},
   "outputs": [],
   "source": []
  }
 ],
 "metadata": {
  "kernelspec": {
   "display_name": "Python 3 (ipykernel)",
   "language": "python",
   "name": "python3"
  },
  "language_info": {
   "codemirror_mode": {
    "name": "ipython",
    "version": 3
   },
   "file_extension": ".py",
   "mimetype": "text/x-python",
   "name": "python",
   "nbconvert_exporter": "python",
   "pygments_lexer": "ipython3",
   "version": "3.9.7"
  }
 },
 "nbformat": 4,
 "nbformat_minor": 5
}
