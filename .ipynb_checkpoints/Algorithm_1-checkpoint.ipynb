{
 "cells": [
  {
   "cell_type": "markdown",
   "id": "cb33f542",
   "metadata": {},
   "source": [
    "## 음계"
   ]
  },
  {
   "cell_type": "code",
   "execution_count": 12,
   "id": "1a2d9a41",
   "metadata": {},
   "outputs": [
    {
     "name": "stdout",
     "output_type": "stream",
     "text": [
      "8 1 7 2 6 3 5 4\n",
      "1\n",
      "2\n",
      "3\n",
      "mixed\n"
     ]
    }
   ],
   "source": [
    "data = list(map(int,input().split(' ')))\n",
    "\n",
    "\n",
    "ascending = True\n",
    "descending = True\n",
    "\n",
    "\n",
    "for i in range(1, 8):\n",
    "    if data[i] < data[i+1]:\n",
    "        descending = False\n",
    "    elif data[i] > data[i+1]:\n",
    "        ascending = False\n",
    "\n",
    "if (ascending is False) and (descending is False):\n",
    "    print(\"mixed\")\n",
    "    \n",
    "elif ascending:\n",
    "    print(\"ascending\")\n",
    "\n",
    "else:\n",
    "    print(\"descending\")\n",
    "        \n",
    "\n",
    "\n"
   ]
  },
  {
   "cell_type": "code",
   "execution_count": 12,
   "id": "7e3c5d90",
   "metadata": {},
   "outputs": [
    {
     "name": "stdout",
     "output_type": "stream",
     "text": [
      "8 1 7 2 6 3 5 4\n",
      "1\n",
      "2\n",
      "3\n",
      "mixed\n"
     ]
    }
   ],
   "source": [
    "data = list(map(int,input().split(' ')))\n",
    "\n",
    "\n",
    "ascending = True\n",
    "descending = True\n",
    "\n",
    "\n",
    "for i in range(7):\n",
    "    if data[i] < data[i+1]:\n",
    "        descending = False\n",
    "    \n",
    "    if data[i] > data[i+1]:\n",
    "        ascending = False\n",
    "\n",
    "if (ascending is False) and (descending is False):\n",
    "    print(\"mixed\")\n",
    "    \n",
    "elif ascending:\n",
    "    print(\"ascending\")\n",
    "\n",
    "else:\n",
    "    print(\"descending\")\n",
    "        \n",
    "\n",
    "\n"
   ]
  },
  {
   "cell_type": "markdown",
   "id": "666096fe",
   "metadata": {},
   "source": [
    "## 블랙잭"
   ]
  },
  {
   "cell_type": "code",
   "execution_count": 15,
   "id": "ed485d6a",
   "metadata": {},
   "outputs": [
    {
     "name": "stdout",
     "output_type": "stream",
     "text": [
      "497\n"
     ]
    }
   ],
   "source": [
    "m, target = list(map(int,'10 500'.split(' ')))\n",
    "card = list(map(int,'93 181 245 214 315 36 185 138 216 295'.split(' ')))\n",
    "\n",
    "result = 0\n",
    "for i in range(m):\n",
    "    for j in range(i+1,m):\n",
    "        for t in range(j+1,m):\n",
    "            temp_sum = card[i]+card[j]+card[t]\n",
    "            if temp_sum <= target:\n",
    "                result = max(temp_sum, result)\n",
    "                \n",
    "print(result)\n",
    "    \n",
    "    "
   ]
  },
  {
   "cell_type": "code",
   "execution_count": null,
   "id": "0bc69524",
   "metadata": {},
   "outputs": [],
   "source": [
    "m, target = list(map(int,input().split(' ')))\n",
    "card = list(map(int,input().split(' ')))\n",
    "\n",
    "result = 0\n",
    "for i in range(m):\n",
    "    for j in range(i+1,m):\n",
    "        for t in range(j+1,m):\n",
    "            temp_sum = card[i]+card[j]+card[t]\n",
    "            if temp_sum <= target:\n",
    "                result = max(temp_sum, result)\n",
    "                \n",
    "print(result)"
   ]
  },
  {
   "cell_type": "markdown",
   "id": "c5a0c633",
   "metadata": {},
   "source": [
    "## 스택수열"
   ]
  },
  {
   "cell_type": "code",
   "execution_count": null,
   "id": "ec432246",
   "metadata": {},
   "outputs": [],
   "source": [
    "n = int(input())\n",
    "\n",
    "count = 1\n",
    "stack = []\n",
    "result= []\n",
    "\n",
    "for i in range(1, n+1): # 데이터 갯수 만큼 반복\n",
    "    data = int(input())\n",
    "    while count <= data:\n",
    "        stack.append(count)\n",
    "        count += 1\n",
    "        result.append('+')\n",
    "    if stack[-1]==data: # 스택의 최상위 원소가 데이터와 같을때 출력\n",
    "        stack.pop()\n",
    "        result.append('-')\n",
    "        \n",
    "    else:\n",
    "        print('NO')\n",
    "        exit(0)\n",
    "\n",
    "print('\\n'.join(result))"
   ]
  },
  {
   "cell_type": "markdown",
   "id": "ad95e564",
   "metadata": {},
   "source": [
    "## 프린터 큐"
   ]
  },
  {
   "cell_type": "code",
   "execution_count": 32,
   "id": "7ac4be51",
   "metadata": {},
   "outputs": [
    {
     "name": "stdout",
     "output_type": "stream",
     "text": [
      "1\n",
      "6 0\n",
      "1 1 9 1 1 1\n",
      "5\n"
     ]
    }
   ],
   "source": [
    "test_case = int(input())\n",
    "\n",
    "for _ in range(test_case):\n",
    "    qty, priority = list(map(int,input().split(' ')))\n",
    "    data = list(map(int,input().split(' ')))\n",
    "    data = [(i, idx) for idx, i in enumerate(data)]\n",
    "    \n",
    "    count = 0\n",
    "    \n",
    "    while True:\n",
    "        if data[0][0] == max(data, key=lambda x: x[0])[0]:\n",
    "            count += 1\n",
    "            if data[0][1]==priority:\n",
    "                print(count)\n",
    "                break\n",
    "            else:\n",
    "                data.pop(0)\n",
    "            \n",
    "        else:\n",
    "            data.append(data.pop(0))\n",
    "            \n",
    "    \n",
    "    "
   ]
  },
  {
   "cell_type": "markdown",
   "id": "3b029700",
   "metadata": {},
   "source": [
    "## 키로거"
   ]
  },
  {
   "cell_type": "code",
   "execution_count": 40,
   "id": "93a587fe",
   "metadata": {},
   "outputs": [
    {
     "name": "stdout",
     "output_type": "stream",
     "text": [
      "1\n",
      "<<BP<A>>Cd-\n",
      "['B', 'A', 'P', '<', 'C']\n",
      "[]\n"
     ]
    }
   ],
   "source": [
    "test_case = int(input())\n",
    "\n",
    "for _ in range(test_case):\n",
    "    data = input()\n",
    "    l_stack = []\n",
    "    r_stack = []\n",
    "    for i in range(len(data)):\n",
    "        if data[i] == '<' and len(l_stack) !=0:\n",
    "            r_stack.append(l_stack.pop())\n",
    "        elif data[i] == '>' and len(r_stack) !=0:\n",
    "            l_stack.append(r_stack.pop())\n",
    "            \n",
    "        elif data[i] == '-' and len(l_stack) !=0:\n",
    "            l_stack.pop()\n",
    "        else:\n",
    "            l_stack.append(data[i])\n",
    "    print(l_stack)\n",
    "    print(r_stack)\n",
    "        \n",
    "\n",
    "    "
   ]
  },
  {
   "cell_type": "code",
   "execution_count": 63,
   "id": "d01f1520",
   "metadata": {},
   "outputs": [
    {
     "name": "stdout",
     "output_type": "stream",
     "text": [
      "2\n",
      "<<BP<A>>Cd-\n",
      "BAPC\n",
      "ThIsIsS3Cr3t\n",
      "ThIsIsS3Cr3t\n"
     ]
    }
   ],
   "source": [
    "test_case = int(input())\n",
    "\n",
    "for _ in range(test_case):\n",
    "    data = input()\n",
    "    l_stack = []\n",
    "    r_stack = []\n",
    "    for i in data:\n",
    "        if i == '-':\n",
    "            if l_stack:\n",
    "                l_stack.pop()\n",
    "        elif i == '<':\n",
    "            if l_stack:\n",
    "                r_stack.append(l_stack.pop())\n",
    "        elif i == '>':\n",
    "            if r_stack:\n",
    "                l_stack.append(r_stack.pop())\n",
    "        else:\n",
    "            l_stack.append(i)\n",
    "    \n",
    "    \n",
    "    #r_stack.sort(reverse=True)\n",
    "    l_stack.extend(reversed(r_stack))\n",
    "    print(''.join(l_stack))\n",
    "        "
   ]
  },
  {
   "cell_type": "code",
   "execution_count": null,
   "id": "fc9ddd94",
   "metadata": {},
   "outputs": [],
   "source": []
  },
  {
   "cell_type": "code",
   "execution_count": 71,
   "id": "13563cb7",
   "metadata": {},
   "outputs": [],
   "source": [
    "d = [1,3,5,7, 8]\n",
    "c = [50,60,70]"
   ]
  },
  {
   "cell_type": "code",
   "execution_count": 72,
   "id": "de1588d1",
   "metadata": {},
   "outputs": [
    {
     "data": {
      "text/plain": [
       "[50, 60, 70, 8, 7, 5, 3, 1]"
      ]
     },
     "execution_count": 72,
     "metadata": {},
     "output_type": "execute_result"
    }
   ],
   "source": [
    "c.extend(reversed(d))\n",
    "c"
   ]
  },
  {
   "cell_type": "code",
   "execution_count": null,
   "id": "0f4798da",
   "metadata": {},
   "outputs": [],
   "source": []
  },
  {
   "cell_type": "code",
   "execution_count": 73,
   "id": "b407e48c",
   "metadata": {},
   "outputs": [],
   "source": [
    "d = [1,3,5,7, 8]\n",
    "c = [50,60,70]"
   ]
  },
  {
   "cell_type": "code",
   "execution_count": 74,
   "id": "be3c315c",
   "metadata": {},
   "outputs": [
    {
     "data": {
      "text/plain": [
       "[50, 60, 70, 8, 7, 5, 3, 1]"
      ]
     },
     "execution_count": 74,
     "metadata": {},
     "output_type": "execute_result"
    }
   ],
   "source": [
    "d.sort(reverse=True)\n",
    "c.extend(d)\n",
    "c"
   ]
  },
  {
   "cell_type": "code",
   "execution_count": null,
   "id": "9dd9a409",
   "metadata": {},
   "outputs": [],
   "source": []
  },
  {
   "cell_type": "code",
   "execution_count": null,
   "id": "07148ce0",
   "metadata": {},
   "outputs": [],
   "source": []
  },
  {
   "cell_type": "code",
   "execution_count": 84,
   "id": "85b9ff9b",
   "metadata": {},
   "outputs": [],
   "source": [
    "d = [1,3,5,7, 8]\n",
    "c = [50,60,70]"
   ]
  },
  {
   "cell_type": "code",
   "execution_count": 77,
   "id": "a591df57",
   "metadata": {},
   "outputs": [
    {
     "data": {
      "text/plain": [
       "<list_reverseiterator at 0x7fcfbb40c280>"
      ]
     },
     "execution_count": 77,
     "metadata": {},
     "output_type": "execute_result"
    }
   ],
   "source": [
    "reversed(d)"
   ]
  },
  {
   "cell_type": "code",
   "execution_count": 82,
   "id": "1a0b49ae",
   "metadata": {},
   "outputs": [],
   "source": [
    "c.append(reversed(d))"
   ]
  },
  {
   "cell_type": "code",
   "execution_count": 83,
   "id": "57f81a90",
   "metadata": {},
   "outputs": [
    {
     "data": {
      "text/plain": [
       "[50, 60, 70, <list_reverseiterator at 0x7fcfbb40c970>]"
      ]
     },
     "execution_count": 83,
     "metadata": {},
     "output_type": "execute_result"
    }
   ],
   "source": [
    "c"
   ]
  },
  {
   "cell_type": "code",
   "execution_count": 85,
   "id": "2929c260",
   "metadata": {},
   "outputs": [
    {
     "data": {
      "text/plain": [
       "[50, 60, 70, 8, 7, 5, 3, 1]"
      ]
     },
     "execution_count": 85,
     "metadata": {},
     "output_type": "execute_result"
    }
   ],
   "source": [
    "c.extend(reversed(d))\n",
    "c"
   ]
  },
  {
   "cell_type": "code",
   "execution_count": null,
   "id": "5af70f4f",
   "metadata": {},
   "outputs": [],
   "source": []
  }
 ],
 "metadata": {
  "kernelspec": {
   "display_name": "Python 3 (ipykernel)",
   "language": "python",
   "name": "python3"
  },
  "language_info": {
   "codemirror_mode": {
    "name": "ipython",
    "version": 3
   },
   "file_extension": ".py",
   "mimetype": "text/x-python",
   "name": "python",
   "nbconvert_exporter": "python",
   "pygments_lexer": "ipython3",
   "version": "3.9.7"
  }
 },
 "nbformat": 4,
 "nbformat_minor": 5
}
