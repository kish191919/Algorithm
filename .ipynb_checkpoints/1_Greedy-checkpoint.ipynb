{
 "cells": [
  {
   "cell_type": "markdown",
   "id": "776dce16",
   "metadata": {},
   "source": [
    "### 그리디 : 현재 상황에서 당장 좋은 것만 고름\n",
    "- 루트 노드부터 시작하여 거쳐 가는 노드 값의 합을 최대로 만들고 샆다.\n",
    "- 단순히 매 상황에서 가장 큰 값만 고든다면 어떻까요?\n",
    "- 그리디 알고리즘은 최적의 해를 보장할 수 없을때가 많다.\n",
    "\n",
    "### [문제] 당신은 음식점의 계산을 도와주는 점원입니다. 카운터에는 거스름돈으로 사용할 500월, 100월, 50원, 10원짜리가\n",
    "무한히 존재한다고 가정합니다. 손님에게 거슬러 주어야 할 돈이 N원일때 거슬러 주어야 할 동전의 **최소** 개수를 구하여라"
   ]
  },
  {
   "cell_type": "code",
   "execution_count": 3,
   "id": "6966ba2f",
   "metadata": {},
   "outputs": [
    {
     "name": "stdout",
     "output_type": "stream",
     "text": [
      "6\n"
     ]
    }
   ],
   "source": [
    "n = 1260\n",
    "count = 0\n",
    "\n",
    "arr = [500,100,50,10]\n",
    "for coin in arr:\n",
    "    count += n//coin\n",
    "    n %= coin\n",
    "\n",
    "print(count)"
   ]
  },
  {
   "cell_type": "code",
   "execution_count": 1,
   "id": "6d5cf7a9",
   "metadata": {},
   "outputs": [
    {
     "name": "stdout",
     "output_type": "stream",
     "text": [
      "6\n"
     ]
    }
   ],
   "source": [
    "n = 1260\n",
    "count = 0\n",
    "\n",
    "arr = [500,100,50,10]\n",
    "\n",
    "for coin in arr:\n",
    "    count += n//coin\n",
    "    n %= coin\n",
    "print(count)"
   ]
  },
  {
   "cell_type": "markdown",
   "id": "39267512",
   "metadata": {},
   "source": [
    "### [문제] 첫째 줄에 N(1 <= N <= 100,000) 과 K (1 <= K <= 100,000) 가 공백을 기준으로 하여 각각 자연수로 주여집니다.\n",
    "첫째 줄에 N이 1이 될때까지 1번 혹은 2번의 과정을 수행해야하는 횟수의 최솟값을 출력하세요\n",
    "\n",
    "- N에서 1을 뺍니다.\n",
    "- N에서 K를 나눕니다.\n"
   ]
  },
  {
   "cell_type": "code",
   "execution_count": 2,
   "id": "f0905bae",
   "metadata": {},
   "outputs": [
    {
     "name": "stdout",
     "output_type": "stream",
     "text": [
      "6\n"
     ]
    }
   ],
   "source": [
    "n = 25\n",
    "k = 3\n",
    "\n",
    "result = 0\n",
    "\n",
    "while True:\n",
    "    target = (n//k)*k\n",
    "    result += (n - target)\n",
    "    \n",
    "    n = target\n",
    "    \n",
    "    if  n < k:\n",
    "        break\n",
    "    \n",
    "    result += 1\n",
    "    n //= k\n",
    "\n",
    "result += (n-1)\n",
    "print(result)"
   ]
  },
  {
   "cell_type": "markdown",
   "id": "8b83fd9f",
   "metadata": {},
   "source": [
    "### [문제] 02984 를 왼쪽부터 +과 x 로 최대숫자를 만들어보시오"
   ]
  },
  {
   "cell_type": "code",
   "execution_count": 8,
   "id": "ba7ee9c8",
   "metadata": {},
   "outputs": [
    {
     "name": "stdout",
     "output_type": "stream",
     "text": [
      "02345\n",
      "120\n"
     ]
    }
   ],
   "source": [
    "data = input()\n",
    "\n",
    "result = int(data[0])\n",
    "\n",
    "for i in range(1,len(data)):\n",
    "    num = int(data[i])\n",
    "    if num <=1 or result <= 1:\n",
    "        result += num\n",
    "    else:\n",
    "        result *= num\n",
    "\n",
    "print(result)"
   ]
  },
  {
   "cell_type": "markdown",
   "id": "d00118d1",
   "metadata": {},
   "source": [
    "### [문제] 모험가 길드"
   ]
  },
  {
   "cell_type": "code",
   "execution_count": 9,
   "id": "2ffd9b52",
   "metadata": {},
   "outputs": [
    {
     "name": "stdout",
     "output_type": "stream",
     "text": [
      "5\n",
      "1 3 2 2 4\n",
      "2\n"
     ]
    }
   ],
   "source": [
    "n = int(input())\n",
    "data = list(map(int, input().split()))\n",
    "\n",
    "data.sort()\n",
    "\n",
    "result = 0 # 총 그룹수\n",
    "count = 0 # 포함된 모험가 수\n",
    "\n",
    "for i in data:\n",
    "    count += 1\n",
    "    if count >= i:\n",
    "        result += 1\n",
    "        count = 0\n",
    "print(result)"
   ]
  },
  {
   "cell_type": "markdown",
   "id": "a56906c8",
   "metadata": {},
   "source": [
    "### [문제] 구현"
   ]
  },
  {
   "cell_type": "code",
   "execution_count": 12,
   "id": "c9ee9e39",
   "metadata": {},
   "outputs": [
    {
     "name": "stdout",
     "output_type": "stream",
     "text": [
      "( 0 , 0 ) ( 0 , 1 ) ( 0 , 2 ) ( 0 , 3 ) ( 0 , 4 ) ( 0 , 5 ) \n",
      "( 1 , 0 ) ( 1 , 1 ) ( 1 , 2 ) ( 1 , 3 ) ( 1 , 4 ) ( 1 , 5 ) \n",
      "( 2 , 0 ) ( 2 , 1 ) ( 2 , 2 ) ( 2 , 3 ) ( 2 , 4 ) ( 2 , 5 ) \n",
      "( 3 , 0 ) ( 3 , 1 ) ( 3 , 2 ) ( 3 , 3 ) ( 3 , 4 ) ( 3 , 5 ) \n",
      "( 4 , 0 ) ( 4 , 1 ) ( 4 , 2 ) ( 4 , 3 ) ( 4 , 4 ) ( 4 , 5 ) \n"
     ]
    }
   ],
   "source": [
    "for i in range(5):\n",
    "    for j in range(6):\n",
    "        print('(',i,',',j,')', end=\" \")\n",
    "    print()"
   ]
  },
  {
   "cell_type": "code",
   "execution_count": 13,
   "id": "39d9d3e9",
   "metadata": {},
   "outputs": [
    {
     "name": "stdout",
     "output_type": "stream",
     "text": [
      "2 3\n",
      "1 2\n",
      "2 1\n",
      "3 2\n"
     ]
    }
   ],
   "source": [
    "# 동, 북, 서, 남\n",
    "dx = [0,-1,0,1]\n",
    "dy = [1,0,-1,0]\n",
    "\n",
    "# 현재위치\n",
    "x, y = 2, 2\n",
    "\n",
    "for i in range(4):\n",
    "    nx = x + dx[i]\n",
    "    ny = y + dy[i]\n",
    "    print(nx, ny)"
   ]
  },
  {
   "cell_type": "markdown",
   "id": "bd457e23",
   "metadata": {},
   "source": [
    "### [문제] 상하좌우 문제"
   ]
  },
  {
   "cell_type": "code",
   "execution_count": 7,
   "id": "6849b0af",
   "metadata": {},
   "outputs": [
    {
     "name": "stdout",
     "output_type": "stream",
     "text": [
      "5\n",
      "R R R D D\n",
      "4 1\n"
     ]
    }
   ],
   "source": [
    "n = int(input())\n",
    "x, y = 1, 1\n",
    "plans = input().split()\n",
    "\n",
    "# D, U, L, R\n",
    "dx = [0,0,-1,1]\n",
    "dy = [-1,1,0,0]\n",
    "\n",
    "move_types = ['D', 'U', 'L', 'R']\n",
    "\n",
    "for plan in plans:\n",
    "    for i in range(len(move_types)):\n",
    "        if plan == move_types[i]:\n",
    "            nx = x + dx[i]\n",
    "            ny = y + dx[y]\n",
    "    if nx < 1 or ny < 1 or nx >n or ny >y:\n",
    "        continue\n",
    "    x,y=nx,ny\n",
    "print(x, y)"
   ]
  },
  {
   "cell_type": "markdown",
   "id": "f6c9b7c9",
   "metadata": {},
   "source": [
    "### [문제] 시각 문제\n",
    "모든 시각 중에 3이 하나라도 포함되는 모든 경우의 수를 구하는 프로그램"
   ]
  },
  {
   "cell_type": "code",
   "execution_count": 17,
   "id": "e1a5888f",
   "metadata": {},
   "outputs": [
    {
     "name": "stdout",
     "output_type": "stream",
     "text": [
      "5\n",
      "11475\n"
     ]
    }
   ],
   "source": [
    "h = int(input())\n",
    "\n",
    "count = 0\n",
    "\n",
    "for i in range(h+1):\n",
    "    for j in range(60):\n",
    "        for k in range(60):\n",
    "            if '3' in str(i)+str(j)+str(k):\n",
    "#                 print(str(i)+str(j)+str(k))\n",
    "                count +=1\n",
    "print(count)"
   ]
  },
  {
   "cell_type": "code",
   "execution_count": 9,
   "id": "e7bef52f",
   "metadata": {},
   "outputs": [
    {
     "name": "stdout",
     "output_type": "stream",
     "text": [
      "1\n",
      "3150\n"
     ]
    }
   ],
   "source": [
    "h = int(input())\n",
    "\n",
    "count = 0\n",
    "\n",
    "for i in range(h+1):\n",
    "    for j in range(60):\n",
    "        for k in range(60):\n",
    "            if '3' in str(i)+str(j)+str(k):\n",
    "                #print(str(i)+str(j)+str(k))\n",
    "                count += 1\n",
    "print(count)"
   ]
  },
  {
   "cell_type": "markdown",
   "id": "3fa86934",
   "metadata": {},
   "source": [
    "### [문제] 왕실의 나이트 문제\n",
    "8 x 8 좌표 평면상에서 나이트의 위치가 주어졌을때 나이트가 이동할 수 있는 경우의 수를 출력하시오\n"
   ]
  },
  {
   "cell_type": "code",
   "execution_count": 21,
   "id": "d320dd84",
   "metadata": {},
   "outputs": [
    {
     "name": "stdout",
     "output_type": "stream",
     "text": [
      "a1\n",
      "2\n"
     ]
    }
   ],
   "source": [
    "#현재 나이트의 위치\n",
    "input_data = input()\n",
    "row = int(input_data[1]) # 행 위치\n",
    "column = int(ord(input_data[0])) - int(ord('a'))+1 #아스키코드로 바꾸고 나서 1을 더해줌\n",
    "\n",
    "# 나이트가 이동할 수 있는 8가지 방향\n",
    "steps=[(-2,-1), (-1,-2), (1,-2), (2,-1), (2,1), (1,2),(-1,2),(-2,1)]\n",
    "\n",
    "result = 0\n",
    "for step in steps:\n",
    "    next_row = row + step[0]\n",
    "    next_column = column + step[1]\n",
    "    \n",
    "    if next_row >= 1 and next_row <=8 and next_column >=1 and next_column <=9:\n",
    "        result +=1\n",
    "print(result)"
   ]
  },
  {
   "cell_type": "markdown",
   "id": "c04f3fc5",
   "metadata": {},
   "source": [
    "### [문제] 문자열 재정렬\n",
    "알파벳 대문자와 숫자 (0 - 9)로만 구성된 문자열이 입력으로 주어짐. 모든 알파벳을 오름차순으로 정렬하여 이어서 출력한 뒤에 그 뒤에 모든 숫자를 더한 값을 이어서 출력합니다"
   ]
  },
  {
   "cell_type": "code",
   "execution_count": 23,
   "id": "aa852ccd",
   "metadata": {},
   "outputs": [
    {
     "name": "stdout",
     "output_type": "stream",
     "text": [
      "a8d9ds6a5\n",
      "aadds28\n"
     ]
    }
   ],
   "source": [
    "data = input()\n",
    "result = []\n",
    "value = 0\n",
    "\n",
    "for x in data:\n",
    "    if x.isalpha():\n",
    "        result.append(x)\n",
    "    else:\n",
    "        value += int(x)\n",
    "result.sort()\n",
    "if value !=0:\n",
    "    result.append(str(value))\n",
    "\n",
    "print(''.join(result))"
   ]
  },
  {
   "cell_type": "code",
   "execution_count": null,
   "id": "f4a7ddfe",
   "metadata": {},
   "outputs": [],
   "source": []
  }
 ],
 "metadata": {
  "kernelspec": {
   "display_name": "Python 3 (ipykernel)",
   "language": "python",
   "name": "python3"
  },
  "language_info": {
   "codemirror_mode": {
    "name": "ipython",
    "version": 3
   },
   "file_extension": ".py",
   "mimetype": "text/x-python",
   "name": "python",
   "nbconvert_exporter": "python",
   "pygments_lexer": "ipython3",
   "version": "3.9.7"
  }
 },
 "nbformat": 4,
 "nbformat_minor": 5
}
