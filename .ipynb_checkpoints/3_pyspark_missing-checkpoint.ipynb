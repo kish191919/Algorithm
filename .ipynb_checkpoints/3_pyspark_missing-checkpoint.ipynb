{
 "cells": [
  {
   "cell_type": "code",
   "execution_count": 1,
   "id": "ba58930a",
   "metadata": {},
   "outputs": [
    {
     "name": "stderr",
     "output_type": "stream",
     "text": [
      "22/01/18 20:59:00 WARN Utils: Your hostname, sunghwanui-MacBookPro.local resolves to a loopback address: 127.0.0.1; using 192.168.1.8 instead (on interface en0)\n",
      "22/01/18 20:59:00 WARN Utils: Set SPARK_LOCAL_IP if you need to bind to another address\n",
      "22/01/18 20:59:00 WARN NativeCodeLoader: Unable to load native-hadoop library for your platform... using builtin-java classes where applicable\n",
      "Using Spark's default log4j profile: org/apache/spark/log4j-defaults.properties\n",
      "Setting default log level to \"WARN\".\n",
      "To adjust logging level use sc.setLogLevel(newLevel). For SparkR, use setLogLevel(newLevel).\n",
      "22/01/18 20:59:01 WARN Utils: Service 'SparkUI' could not bind on port 4040. Attempting port 4041.\n"
     ]
    }
   ],
   "source": [
    "from pyspark.sql import SparkSession\n",
    "spark = SparkSession.builder.appName(\"practice\").getOrCreate()"
   ]
  },
  {
   "cell_type": "code",
   "execution_count": 4,
   "id": "ca9873d3",
   "metadata": {},
   "outputs": [],
   "source": [
    "df = spark.read.csv(\"test2.csv\", header=True, inferSchema=True)"
   ]
  },
  {
   "cell_type": "code",
   "execution_count": 5,
   "id": "a2aac248",
   "metadata": {},
   "outputs": [
    {
     "name": "stdout",
     "output_type": "stream",
     "text": [
      "root\n",
      " |-- Name: string (nullable = true)\n",
      " |-- age: integer (nullable = true)\n",
      " |-- experience: integer (nullable = true)\n",
      " |-- Salary: integer (nullable = true)\n",
      "\n"
     ]
    }
   ],
   "source": [
    "df.printSchema()"
   ]
  },
  {
   "cell_type": "code",
   "execution_count": 7,
   "id": "90e611a6",
   "metadata": {},
   "outputs": [
    {
     "name": "stdout",
     "output_type": "stream",
     "text": [
      "+-------+-----+------------------+------------------+------------------+\n",
      "|summary| Name|               age|        experience|            Salary|\n",
      "+-------+-----+------------------+------------------+------------------+\n",
      "|  count|    5|                 7|                 5|                 7|\n",
      "|   mean| null|43.142857142857146|               6.4|59057.142857142855|\n",
      "| stddev| null| 21.17725644355733|2.3021728866442674|65188.620099494285|\n",
      "|    min|danny|                23|                 4|              3400|\n",
      "|    max|  kim|                87|                10|            200000|\n",
      "+-------+-----+------------------+------------------+------------------+\n",
      "\n"
     ]
    }
   ],
   "source": [
    "df.describe().show()"
   ]
  },
  {
   "cell_type": "code",
   "execution_count": 15,
   "id": "9f6e834d",
   "metadata": {},
   "outputs": [],
   "source": [
    "df = df.withColumn(\"age 2\", df['age']+2)"
   ]
  },
  {
   "cell_type": "code",
   "execution_count": 16,
   "id": "5c0b2546",
   "metadata": {},
   "outputs": [],
   "source": [
    "df = df.withColumnRenamed(\"age 2\", \"age plus 2\")"
   ]
  },
  {
   "cell_type": "code",
   "execution_count": 17,
   "id": "61ab9018",
   "metadata": {},
   "outputs": [
    {
     "name": "stdout",
     "output_type": "stream",
     "text": [
      "+-------+----+----------+------+----------+\n",
      "|   Name| age|experience|Salary|age plus 2|\n",
      "+-------+----+----------+------+----------+\n",
      "|  danny|  30|        10| 30000|        32|\n",
      "|hyunjoo|  33|      null| 40000|        35|\n",
      "| eileen|  23|         5| 70000|        25|\n",
      "| hailey|  44|         4|  3400|        46|\n",
      "|   null|null|      null| 40000|      null|\n",
      "|    kim|  36|         6|200000|        38|\n",
      "|   null|  87|         7| 30000|        89|\n",
      "|   null|  49|      null|  null|        51|\n",
      "+-------+----+----------+------+----------+\n",
      "\n"
     ]
    }
   ],
   "source": [
    "df.show()"
   ]
  },
  {
   "cell_type": "code",
   "execution_count": 30,
   "id": "bcd3943f",
   "metadata": {},
   "outputs": [
    {
     "data": {
      "text/plain": [
       "[('Name', 'string'), ('age', 'int'), ('experience', 'int'), ('Salary', 'int')]"
      ]
     },
     "execution_count": 30,
     "metadata": {},
     "output_type": "execute_result"
    }
   ],
   "source": [
    "df.dtypes"
   ]
  },
  {
   "cell_type": "code",
   "execution_count": 21,
   "id": "4d399320",
   "metadata": {},
   "outputs": [
    {
     "name": "stdout",
     "output_type": "stream",
     "text": [
      "+----+------+\n",
      "| age|Salary|\n",
      "+----+------+\n",
      "|  30| 30000|\n",
      "|  33| 40000|\n",
      "|  23| 70000|\n",
      "|  44|  3400|\n",
      "|null| 40000|\n",
      "|  36|200000|\n",
      "|  87| 30000|\n",
      "|  49|  null|\n",
      "+----+------+\n",
      "\n"
     ]
    }
   ],
   "source": [
    "df.select([\"age\",\"Salary\"]).show()"
   ]
  },
  {
   "cell_type": "code",
   "execution_count": 25,
   "id": "cdcb57bf",
   "metadata": {},
   "outputs": [],
   "source": [
    "df = df.drop(\"age plus 2\")"
   ]
  },
  {
   "cell_type": "code",
   "execution_count": 26,
   "id": "2aeb9827",
   "metadata": {},
   "outputs": [
    {
     "name": "stdout",
     "output_type": "stream",
     "text": [
      "+-------+----+----------+------+\n",
      "|   Name| age|experience|Salary|\n",
      "+-------+----+----------+------+\n",
      "|  danny|  30|        10| 30000|\n",
      "|hyunjoo|  33|      null| 40000|\n",
      "| eileen|  23|         5| 70000|\n",
      "| hailey|  44|         4|  3400|\n",
      "|   null|null|      null| 40000|\n",
      "|    kim|  36|         6|200000|\n",
      "|   null|  87|         7| 30000|\n",
      "|   null|  49|      null|  null|\n",
      "+-------+----+----------+------+\n",
      "\n"
     ]
    }
   ],
   "source": [
    "df.show()"
   ]
  },
  {
   "cell_type": "code",
   "execution_count": 31,
   "id": "259cbad4",
   "metadata": {},
   "outputs": [
    {
     "data": {
      "text/plain": [
       "[Row(Name='danny', age=30, experience=10, Salary=30000),\n",
       " Row(Name='hyunjoo', age=33, experience=None, Salary=40000),\n",
       " Row(Name='eileen', age=23, experience=5, Salary=70000),\n",
       " Row(Name='hailey', age=44, experience=4, Salary=3400),\n",
       " Row(Name=None, age=None, experience=None, Salary=40000)]"
      ]
     },
     "execution_count": 31,
     "metadata": {},
     "output_type": "execute_result"
    }
   ],
   "source": [
    "df.head(5)"
   ]
  },
  {
   "cell_type": "code",
   "execution_count": 33,
   "id": "b6b4c4ab",
   "metadata": {},
   "outputs": [
    {
     "name": "stdout",
     "output_type": "stream",
     "text": [
      "danny\n",
      "hyunjoo\n",
      "eileen\n",
      "hailey\n",
      "None\n"
     ]
    }
   ],
   "source": [
    "for i in df.head(5):\n",
    "    print(i[\"Name\"])"
   ]
  },
  {
   "cell_type": "code",
   "execution_count": 35,
   "id": "b8d37cb5",
   "metadata": {},
   "outputs": [
    {
     "name": "stdout",
     "output_type": "stream",
     "text": [
      "+-------+----+----------+------+\n",
      "|   Name| age|experience|Salary|\n",
      "+-------+----+----------+------+\n",
      "|  danny|  30|        10| 30000|\n",
      "|hyunjoo|  33|      null| 40000|\n",
      "| eileen|  23|         5| 70000|\n",
      "| hailey|  44|         4|  3400|\n",
      "|   null|null|      null| 40000|\n",
      "|    kim|  36|         6|200000|\n",
      "|   null|  87|         7| 30000|\n",
      "|   null|  49|      null|  null|\n",
      "+-------+----+----------+------+\n",
      "\n"
     ]
    }
   ],
   "source": [
    "df.show()"
   ]
  },
  {
   "cell_type": "code",
   "execution_count": 36,
   "id": "a1a15944",
   "metadata": {},
   "outputs": [
    {
     "name": "stdout",
     "output_type": "stream",
     "text": [
      "+----+----------+------+\n",
      "| age|experience|Salary|\n",
      "+----+----------+------+\n",
      "|  30|        10| 30000|\n",
      "|  33|      null| 40000|\n",
      "|  23|         5| 70000|\n",
      "|  44|         4|  3400|\n",
      "|null|      null| 40000|\n",
      "|  36|         6|200000|\n",
      "|  87|         7| 30000|\n",
      "|  49|      null|  null|\n",
      "+----+----------+------+\n",
      "\n"
     ]
    }
   ],
   "source": [
    "df.drop(\"Name\").show()"
   ]
  },
  {
   "cell_type": "code",
   "execution_count": 37,
   "id": "7c23fa36",
   "metadata": {},
   "outputs": [
    {
     "name": "stdout",
     "output_type": "stream",
     "text": [
      "+-------+----+----------+------+\n",
      "|   Name| age|experience|Salary|\n",
      "+-------+----+----------+------+\n",
      "|  danny|  30|        10| 30000|\n",
      "|hyunjoo|  33|      null| 40000|\n",
      "| eileen|  23|         5| 70000|\n",
      "| hailey|  44|         4|  3400|\n",
      "|   null|null|      null| 40000|\n",
      "|    kim|  36|         6|200000|\n",
      "|   null|  87|         7| 30000|\n",
      "|   null|  49|      null|  null|\n",
      "+-------+----+----------+------+\n",
      "\n"
     ]
    }
   ],
   "source": [
    "df.show()"
   ]
  },
  {
   "cell_type": "code",
   "execution_count": 38,
   "id": "d7fcdb5f",
   "metadata": {},
   "outputs": [
    {
     "name": "stdout",
     "output_type": "stream",
     "text": [
      "+------+---+----------+------+\n",
      "|  Name|age|experience|Salary|\n",
      "+------+---+----------+------+\n",
      "| danny| 30|        10| 30000|\n",
      "|eileen| 23|         5| 70000|\n",
      "|hailey| 44|         4|  3400|\n",
      "|   kim| 36|         6|200000|\n",
      "+------+---+----------+------+\n",
      "\n"
     ]
    }
   ],
   "source": [
    "df.na.drop().show()"
   ]
  },
  {
   "cell_type": "code",
   "execution_count": 40,
   "id": "6864a2c4",
   "metadata": {},
   "outputs": [
    {
     "name": "stdout",
     "output_type": "stream",
     "text": [
      "+------+---+----------+------+\n",
      "|  Name|age|experience|Salary|\n",
      "+------+---+----------+------+\n",
      "| danny| 30|        10| 30000|\n",
      "|eileen| 23|         5| 70000|\n",
      "|hailey| 44|         4|  3400|\n",
      "|   kim| 36|         6|200000|\n",
      "+------+---+----------+------+\n",
      "\n"
     ]
    }
   ],
   "source": [
    "df.na.drop(how=\"any\").show()"
   ]
  },
  {
   "cell_type": "code",
   "execution_count": 41,
   "id": "143c86a8",
   "metadata": {},
   "outputs": [
    {
     "name": "stdout",
     "output_type": "stream",
     "text": [
      "+-------+----+----------+------+\n",
      "|   Name| age|experience|Salary|\n",
      "+-------+----+----------+------+\n",
      "|  danny|  30|        10| 30000|\n",
      "|hyunjoo|  33|      null| 40000|\n",
      "| eileen|  23|         5| 70000|\n",
      "| hailey|  44|         4|  3400|\n",
      "|   null|null|      null| 40000|\n",
      "|    kim|  36|         6|200000|\n",
      "|   null|  87|         7| 30000|\n",
      "|   null|  49|      null|  null|\n",
      "+-------+----+----------+------+\n",
      "\n"
     ]
    }
   ],
   "source": [
    "df.na.drop(how=\"all\").show()"
   ]
  },
  {
   "cell_type": "code",
   "execution_count": 42,
   "id": "3ff83887",
   "metadata": {},
   "outputs": [
    {
     "data": {
      "text/plain": [
       "[('Name', 'string'), ('age', 'int'), ('experience', 'int'), ('Salary', 'int')]"
      ]
     },
     "execution_count": 42,
     "metadata": {},
     "output_type": "execute_result"
    }
   ],
   "source": [
    "df.dtypes"
   ]
  },
  {
   "cell_type": "code",
   "execution_count": 43,
   "id": "d438b264",
   "metadata": {},
   "outputs": [
    {
     "data": {
      "text/plain": [
       "['Name', 'age', 'experience', 'Salary']"
      ]
     },
     "execution_count": 43,
     "metadata": {},
     "output_type": "execute_result"
    }
   ],
   "source": [
    "df.columns"
   ]
  },
  {
   "cell_type": "code",
   "execution_count": 48,
   "id": "8cf74b25",
   "metadata": {},
   "outputs": [
    {
     "name": "stdout",
     "output_type": "stream",
     "text": [
      "+-------+----+----------+------+\n",
      "|   Name| age|experience|Salary|\n",
      "+-------+----+----------+------+\n",
      "|  danny|  30|        10| 30000|\n",
      "|hyunjoo|  33|      null| 40000|\n",
      "| eileen|  23|         5| 70000|\n",
      "| hailey|  44|         4|  3400|\n",
      "|   null|null|      null| 40000|\n",
      "|    kim|  36|         6|200000|\n",
      "|   null|  87|         7| 30000|\n",
      "|   null|  49|      null|  null|\n",
      "+-------+----+----------+------+\n",
      "\n"
     ]
    }
   ],
   "source": [
    "df.na.drop(how=\"any\", thresh=1).show()"
   ]
  },
  {
   "cell_type": "code",
   "execution_count": 47,
   "id": "17e574f3",
   "metadata": {},
   "outputs": [
    {
     "name": "stdout",
     "output_type": "stream",
     "text": [
      "+-------+----+----------+------+\n",
      "|   Name| age|experience|Salary|\n",
      "+-------+----+----------+------+\n",
      "|  danny|  30|        10| 30000|\n",
      "|hyunjoo|  33|      null| 40000|\n",
      "| eileen|  23|         5| 70000|\n",
      "| hailey|  44|         4|  3400|\n",
      "|   null|null|      null| 40000|\n",
      "|    kim|  36|         6|200000|\n",
      "|   null|  87|         7| 30000|\n",
      "|   null|  49|      null|  null|\n",
      "+-------+----+----------+------+\n",
      "\n"
     ]
    }
   ],
   "source": [
    "df.show()"
   ]
  },
  {
   "cell_type": "code",
   "execution_count": 49,
   "id": "ef3bf11a",
   "metadata": {},
   "outputs": [
    {
     "name": "stdout",
     "output_type": "stream",
     "text": [
      "+------+---+----------+------+\n",
      "|  Name|age|experience|Salary|\n",
      "+------+---+----------+------+\n",
      "| danny| 30|        10| 30000|\n",
      "|eileen| 23|         5| 70000|\n",
      "|hailey| 44|         4|  3400|\n",
      "|   kim| 36|         6|200000|\n",
      "|  null| 87|         7| 30000|\n",
      "+------+---+----------+------+\n",
      "\n"
     ]
    }
   ],
   "source": [
    "df.na.drop(how=\"any\",  subset=[\"experience\"]).show()"
   ]
  },
  {
   "cell_type": "code",
   "execution_count": 55,
   "id": "fb129463",
   "metadata": {},
   "outputs": [
    {
     "name": "stdout",
     "output_type": "stream",
     "text": [
      "+-------------+----+----------+------+\n",
      "|         Name| age|experience|Salary|\n",
      "+-------------+----+----------+------+\n",
      "|        danny|  30|        10| 30000|\n",
      "|      hyunjoo|  33|      null| 40000|\n",
      "|       eileen|  23|         5| 70000|\n",
      "|       hailey|  44|         4|  3400|\n",
      "|missing value|null|      null| 40000|\n",
      "|          kim|  36|         6|200000|\n",
      "|missing value|  87|         7| 30000|\n",
      "|missing value|  49|      null|  null|\n",
      "+-------------+----+----------+------+\n",
      "\n"
     ]
    }
   ],
   "source": [
    "df.na.fill(\"missing value\").show()"
   ]
  },
  {
   "cell_type": "code",
   "execution_count": 56,
   "id": "a4566cbe",
   "metadata": {},
   "outputs": [
    {
     "name": "stdout",
     "output_type": "stream",
     "text": [
      "+-------+----+----------+------+\n",
      "|   Name| age|experience|Salary|\n",
      "+-------+----+----------+------+\n",
      "|  danny|  30|        10| 30000|\n",
      "|hyunjoo|  33|      null| 40000|\n",
      "| eileen|  23|         5| 70000|\n",
      "| hailey|  44|         4|  3400|\n",
      "|missing|null|      null| 40000|\n",
      "|    kim|  36|         6|200000|\n",
      "|missing|  87|         7| 30000|\n",
      "|missing|  49|      null|  null|\n",
      "+-------+----+----------+------+\n",
      "\n"
     ]
    }
   ],
   "source": [
    "df.na.fill(\"missing\",[\"name\"]).show()"
   ]
  },
  {
   "cell_type": "code",
   "execution_count": 57,
   "id": "a20a54b5",
   "metadata": {},
   "outputs": [
    {
     "name": "stdout",
     "output_type": "stream",
     "text": [
      "+-------+----+----------+------+\n",
      "|   Name| age|experience|Salary|\n",
      "+-------+----+----------+------+\n",
      "|  danny|  30|        10| 30000|\n",
      "|hyunjoo|  33|      null| 40000|\n",
      "| eileen|  23|         5| 70000|\n",
      "| hailey|  44|         4|  3400|\n",
      "|   null|null|      null| 40000|\n",
      "|    kim|  36|         6|200000|\n",
      "|   null|  87|         7| 30000|\n",
      "|   null|  49|      null|  null|\n",
      "+-------+----+----------+------+\n",
      "\n"
     ]
    }
   ],
   "source": [
    "df.show()"
   ]
  },
  {
   "cell_type": "code",
   "execution_count": 58,
   "id": "af4a8bfd",
   "metadata": {},
   "outputs": [
    {
     "data": {
      "text/plain": [
       "DataFrame[Name: string, age: int, experience: int, Salary: int]"
      ]
     },
     "execution_count": 58,
     "metadata": {},
     "output_type": "execute_result"
    }
   ],
   "source": [
    "df"
   ]
  },
  {
   "cell_type": "code",
   "execution_count": 59,
   "id": "2587185b",
   "metadata": {},
   "outputs": [
    {
     "name": "stdout",
     "output_type": "stream",
     "text": [
      "+-------+----+----------+------+\n",
      "|   Name| age|experience|Salary|\n",
      "+-------+----+----------+------+\n",
      "|  danny|  30|        10| 30000|\n",
      "|hyunjoo|  33|      null| 40000|\n",
      "| eileen|  23|         5| 70000|\n",
      "| hailey|  44|         4|  3400|\n",
      "|   null|null|      null| 40000|\n",
      "|    kim|  36|         6|200000|\n",
      "|   null|  87|         7| 30000|\n",
      "|   null|  49|      null|  null|\n",
      "+-------+----+----------+------+\n",
      "\n"
     ]
    }
   ],
   "source": [
    "df.show()"
   ]
  },
  {
   "cell_type": "code",
   "execution_count": 60,
   "id": "32894eaf",
   "metadata": {},
   "outputs": [],
   "source": [
    "from pyspark.ml.feature import Imputer"
   ]
  },
  {
   "cell_type": "code",
   "execution_count": 61,
   "id": "0e528ee5",
   "metadata": {},
   "outputs": [],
   "source": [
    "imputer = Imputer(\n",
    "inputCols = [\"age\", \"experience\", \"Salary\"],\n",
    "outputCols = [\"{}_imputed\".format(c) for c in ['age', 'experience', 'salary']]).setStrategy(\"mean\")"
   ]
  },
  {
   "cell_type": "code",
   "execution_count": 62,
   "id": "ddf27892",
   "metadata": {},
   "outputs": [
    {
     "name": "stdout",
     "output_type": "stream",
     "text": [
      "+-------+----+----------+------+-----------+------------------+--------------+\n",
      "|   Name| age|experience|Salary|age_imputed|experience_imputed|salary_imputed|\n",
      "+-------+----+----------+------+-----------+------------------+--------------+\n",
      "|  danny|  30|        10| 30000|         30|                10|         30000|\n",
      "|hyunjoo|  33|      null| 40000|         33|                 6|         40000|\n",
      "| eileen|  23|         5| 70000|         23|                 5|         70000|\n",
      "| hailey|  44|         4|  3400|         44|                 4|          3400|\n",
      "|   null|null|      null| 40000|         43|                 6|         40000|\n",
      "|    kim|  36|         6|200000|         36|                 6|        200000|\n",
      "|   null|  87|         7| 30000|         87|                 7|         30000|\n",
      "|   null|  49|      null|  null|         49|                 6|         59057|\n",
      "+-------+----+----------+------+-----------+------------------+--------------+\n",
      "\n"
     ]
    }
   ],
   "source": [
    "imputer.fit(df).transform(df).show()"
   ]
  },
  {
   "cell_type": "code",
   "execution_count": 63,
   "id": "fa75d27e",
   "metadata": {},
   "outputs": [],
   "source": [
    "from pyspark.ml.feature import Imputer"
   ]
  },
  {
   "cell_type": "code",
   "execution_count": 70,
   "id": "e54543d7",
   "metadata": {},
   "outputs": [],
   "source": [
    "imputer = Imputer(\n",
    "inputCols = [\"age\", \"experience\", \"Salary\"],\n",
    "outputCols = [\"{}_imputed\".format(c) for c in ['age', 'experience', 'salary']]).setStrategy(\"median\") #median"
   ]
  },
  {
   "cell_type": "code",
   "execution_count": 71,
   "id": "cd0d6d98",
   "metadata": {},
   "outputs": [
    {
     "name": "stdout",
     "output_type": "stream",
     "text": [
      "+-------+----+----------+------+-----------+------------------+--------------+\n",
      "|   Name| age|experience|Salary|age_imputed|experience_imputed|salary_imputed|\n",
      "+-------+----+----------+------+-----------+------------------+--------------+\n",
      "|  danny|  30|        10| 30000|         30|                10|         30000|\n",
      "|hyunjoo|  33|      null| 40000|         33|                 6|         40000|\n",
      "| eileen|  23|         5| 70000|         23|                 5|         70000|\n",
      "| hailey|  44|         4|  3400|         44|                 4|          3400|\n",
      "|   null|null|      null| 40000|         36|                 6|         40000|\n",
      "|    kim|  36|         6|200000|         36|                 6|        200000|\n",
      "|   null|  87|         7| 30000|         87|                 7|         30000|\n",
      "|   null|  49|      null|  null|         49|                 6|         40000|\n",
      "+-------+----+----------+------+-----------+------------------+--------------+\n",
      "\n"
     ]
    }
   ],
   "source": [
    "imputer.fit(df).transform(df).show()"
   ]
  },
  {
   "cell_type": "code",
   "execution_count": null,
   "id": "40299e2b",
   "metadata": {},
   "outputs": [],
   "source": []
  }
 ],
 "metadata": {
  "kernelspec": {
   "display_name": "Python 3 (ipykernel)",
   "language": "python",
   "name": "python3"
  },
  "language_info": {
   "codemirror_mode": {
    "name": "ipython",
    "version": 3
   },
   "file_extension": ".py",
   "mimetype": "text/x-python",
   "name": "python",
   "nbconvert_exporter": "python",
   "pygments_lexer": "ipython3",
   "version": "3.9.7"
  }
 },
 "nbformat": 4,
 "nbformat_minor": 5
}
