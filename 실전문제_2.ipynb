{
 "cells": [
  {
   "cell_type": "markdown",
   "id": "fb4a03c2",
   "metadata": {},
   "source": [
    "음계 : https://www.acmicpc.net/problem/2920\n",
    "블랙잭 : https://www.acmicpc.net/problem/2798\n",
    "스택수열 : https://www.acmicpc.net/problem/1874\n",
    "프린터 큐 : https://www.acmicpc.net/problem/1966\n",
    "키로거 : https://www.acmicpc.net/problem/5397\n",
    "\n",
    "Summary Ranges:   https://leetcode.com/problems/summary-ranges/"
   ]
  },
  {
   "cell_type": "markdown",
   "id": "fcbca0a5",
   "metadata": {},
   "source": [
    "## 음계"
   ]
  },
  {
   "cell_type": "code",
   "execution_count": 8,
   "id": "8ac8f147",
   "metadata": {},
   "outputs": [
    {
     "name": "stdout",
     "output_type": "stream",
     "text": [
      "1 2 3 4 5 6 7 8\n",
      "ascending\n"
     ]
    }
   ],
   "source": [
    "data = list(map(int, input().split()))\n",
    "\n",
    "ascending = True\n",
    "decending = True\n",
    "\n",
    "for i in range(1,8):\n",
    "    if data[i] > data[i-1]:\n",
    "        decending = False\n",
    "    elif data[i] < data[i-1]:\n",
    "        ascending = False\n",
    "        \n",
    "if ascending:\n",
    "    print(\"ascending\")\n",
    "elif descending:\n",
    "    print(\"descending\")\n",
    "else:\n",
    "    print(\"mixed\")"
   ]
  },
  {
   "cell_type": "code",
   "execution_count": null,
   "id": "ecd14303",
   "metadata": {},
   "outputs": [],
   "source": [
    "m = list(map(int,input().split(' ')))\n",
    "\n",
    "ascending = True\n",
    "descending = True\n",
    "\n",
    "for i in range(7):\n",
    "    if m[i+1] < m[i]:\n",
    "        ascending = False\n",
    "    elif m[i+1] > m[i]:\n",
    "        descending = False\n",
    "\n",
    "if ascending:\n",
    "    print(\"ascending\")\n",
    "elif descending:\n",
    "    print(\"descending\")\n",
    "else:\n",
    "    print(\"mixed\")"
   ]
  },
  {
   "cell_type": "markdown",
   "id": "93f2a998",
   "metadata": {},
   "source": [
    "## 블랙잭"
   ]
  },
  {
   "cell_type": "code",
   "execution_count": 17,
   "id": "0bd7a807",
   "metadata": {},
   "outputs": [
    {
     "name": "stdout",
     "output_type": "stream",
     "text": [
      "5 21\n",
      "3 4 5 6 7\n",
      "18\n"
     ]
    }
   ],
   "source": [
    "qty, m = list(map(int, input().split(' ')))\n",
    "data = list(map(int, input().split(' ')))\n",
    "\n",
    "result = 0\n",
    "length = len(data)\n",
    "\n",
    "count = 0\n",
    "\n",
    "for i in range(0, length):\n",
    "    for j in range(i+1, length):\n",
    "        for k in range(j+1, length):\n",
    "            sum_value = data[i] + data[j] + data[k]\n",
    "            if sum_value <= m:\n",
    "                result = max(result, sum_value)\n",
    "print(result)"
   ]
  },
  {
   "cell_type": "code",
   "execution_count": 16,
   "id": "1e6ea846",
   "metadata": {},
   "outputs": [
    {
     "name": "stdout",
     "output_type": "stream",
     "text": [
      "10 500\n",
      "93 181 245 214 315 36 185 138 216 295\n",
      "497\n"
     ]
    }
   ],
   "source": [
    "qty, target = list(map(int, input().split(' ')))\n",
    "\n",
    "data = list(map(int, input().split(' ')))\n",
    "\n",
    "max_total = 0\n",
    "for i in range(qty):\n",
    "    for j in range(i+1, qty):\n",
    "        for k in range(j+1, qty):\n",
    "            sum_temp = data[i] + data[j] + data[k]\n",
    "            if sum_temp <= target:\n",
    "                max_total = max(max_total, sum_temp)\n",
    "            \n",
    "\n",
    "print(max_total)\n",
    "    \n",
    "        "
   ]
  },
  {
   "cell_type": "markdown",
   "id": "54e5b440",
   "metadata": {},
   "source": [
    "## 스택수열"
   ]
  },
  {
   "cell_type": "code",
   "execution_count": null,
   "id": "dc7f4e81",
   "metadata": {},
   "outputs": [],
   "source": [
    "m = int(input())\n",
    "count =1\n",
    "\n",
    "array = []\n",
    "result = []\n",
    "for i in range(1, 1+m):\n",
    "    data = int(input())\n",
    "    while count <=  data:\n",
    "        result.append('+')\n",
    "        array.append(count)\n",
    "        count +=1\n",
    "    if data == array[-1]:\n",
    "        array.pop()\n",
    "        result.append('-')\n",
    "    else:\n",
    "        print('NO')\n",
    "        \n",
    "print('\\n'.join(result))\n",
    "        "
   ]
  },
  {
   "cell_type": "code",
   "execution_count": 17,
   "id": "c3a296b6",
   "metadata": {},
   "outputs": [
    {
     "name": "stdout",
     "output_type": "stream",
     "text": [
      "8\n",
      "4\n",
      "3\n",
      "6\n",
      "8\n",
      "7\n",
      "5\n",
      "2\n",
      "1\n",
      "+\n",
      "+\n",
      "+\n",
      "+\n",
      "-\n",
      "-\n",
      "+\n",
      "+\n",
      "-\n",
      "+\n",
      "+\n",
      "-\n",
      "-\n",
      "-\n",
      "-\n",
      "-\n"
     ]
    }
   ],
   "source": [
    "m = int(input())\n",
    "array = []\n",
    "result = []\n",
    "count = 1\n",
    "for i in range(m):\n",
    "    data = int(input())\n",
    "    while count <= data:\n",
    "        array.append(count)\n",
    "        result.append(\"+\")\n",
    "        count += 1\n",
    "    if array[-1] == data:\n",
    "        array.pop()\n",
    "        result.append(\"-\")\n",
    "    else:\n",
    "        print(\"NO\")\n",
    "        exit(0)\n",
    "        \n",
    "print('\\n'.join(result))\n",
    "        \n",
    "        "
   ]
  },
  {
   "cell_type": "markdown",
   "id": "39d9b0ec",
   "metadata": {},
   "source": [
    "### 프린트 큐"
   ]
  },
  {
   "cell_type": "code",
   "execution_count": 30,
   "id": "de90ba40",
   "metadata": {
    "scrolled": true
   },
   "outputs": [
    {
     "name": "stdout",
     "output_type": "stream",
     "text": [
      "1\n",
      "6 1\n",
      "1 1 1 1 9 2\n",
      "queue 9\n",
      "1\n",
      "queue[0][1] 4\n",
      "queue 2\n",
      "2\n",
      "queue[0][1] 5\n",
      "queue 1\n",
      "3\n",
      "queue[0][1] 0\n",
      "queue 1\n",
      "4\n",
      "queue[0][1] 1\n",
      "4\n"
     ]
    }
   ],
   "source": [
    "test_case = int(input())\n",
    "\n",
    "for _ in range(test_case):\n",
    "    qty, priority = list(map(int,input().split(\" \")))\n",
    "    queue = list(map(int,input().split(\" \")))\n",
    "    queue = [(i, idx) for idx, i in enumerate(queue)]\n",
    "\n",
    "    count = 0\n",
    "        \n",
    "    while True:\n",
    "        if queue[0][0] == max(queue, key=lambda x:x[0])[0]:\n",
    "            print(\"queue\", queue[0][0])\n",
    "            count += 1\n",
    "            print(count)\n",
    "            print(\"queue[0][1]\", queue[0][1])\n",
    "            if queue[0][1] == priority:\n",
    "                print(count)\n",
    "                break\n",
    "            else:\n",
    "                queue.pop(0) # 맨 앞을 뺌\n",
    "        else:\n",
    "            queue.append(queue.pop(0))\n",
    "            \n"
   ]
  },
  {
   "cell_type": "markdown",
   "id": "0b10ac10",
   "metadata": {},
   "source": [
    "### 키로거"
   ]
  },
  {
   "cell_type": "code",
   "execution_count": 43,
   "id": "bfcd6b5c",
   "metadata": {},
   "outputs": [
    {
     "name": "stdout",
     "output_type": "stream",
     "text": [
      "1\n",
      "<<BP<A>>Cd- \n",
      "BAPC \n"
     ]
    }
   ],
   "source": [
    "m = int(input())\n",
    "\n",
    "for _ in range(m):\n",
    "    left_stack=[]\n",
    "    right_stack=[]\n",
    "    \n",
    "    data = input()\n",
    "    for i in data:\n",
    "        if i == '-':\n",
    "            if left_stack:\n",
    "                left_stack.pop()\n",
    "        elif i == '<':\n",
    "            if left_stack:\n",
    "                right_stack.append(left_stack.pop()) \n",
    "        elif i == '>':\n",
    "            if right_stack:\n",
    "                left_stack.append(right_stack.pop())\n",
    "        else:\n",
    "            left_stack.append(i)\n",
    "\n",
    "    #right_stack.sort(reverse=True)\n",
    "\n",
    "    left_stack.extend(reversed(right_stack))\n",
    "\n",
    "    print(''.join(left_stack))"
   ]
  },
  {
   "cell_type": "code",
   "execution_count": null,
   "id": "b1dbbd0f",
   "metadata": {},
   "outputs": [],
   "source": []
  }
 ],
 "metadata": {
  "kernelspec": {
   "display_name": "Python 3 (ipykernel)",
   "language": "python",
   "name": "python3"
  },
  "language_info": {
   "codemirror_mode": {
    "name": "ipython",
    "version": 3
   },
   "file_extension": ".py",
   "mimetype": "text/x-python",
   "name": "python",
   "nbconvert_exporter": "python",
   "pygments_lexer": "ipython3",
   "version": "3.9.7"
  }
 },
 "nbformat": 4,
 "nbformat_minor": 5
}
