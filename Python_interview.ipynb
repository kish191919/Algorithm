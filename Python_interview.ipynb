{
 "cells": [
  {
   "cell_type": "code",
   "execution_count": 1,
   "id": "8826c6c6",
   "metadata": {},
   "outputs": [
    {
     "ename": "TypeError",
     "evalue": "unsupported operand type(s) for +: 'int' and 'str'",
     "output_type": "error",
     "traceback": [
      "\u001b[0;31m---------------------------------------------------------------------------\u001b[0m",
      "\u001b[0;31mTypeError\u001b[0m                                 Traceback (most recent call last)",
      "\u001b[0;32m/var/folders/5p/l3b0fr1x5wn7450vgnp88r080000gn/T/ipykernel_2987/54392328.py\u001b[0m in \u001b[0;36m<module>\u001b[0;34m\u001b[0m\n\u001b[0;32m----> 1\u001b[0;31m \u001b[0;36m1\u001b[0m \u001b[0;34m+\u001b[0m \u001b[0;34m\"2\"\u001b[0m\u001b[0;34m\u001b[0m\u001b[0;34m\u001b[0m\u001b[0m\n\u001b[0m",
      "\u001b[0;31mTypeError\u001b[0m: unsupported operand type(s) for +: 'int' and 'str'"
     ]
    }
   ],
   "source": [
    "1 + \"2\""
   ]
  },
  {
   "cell_type": "code",
   "execution_count": 2,
   "id": "38731207",
   "metadata": {},
   "outputs": [
    {
     "name": "stdout",
     "output_type": "stream",
     "text": [
      "3\n",
      "3\n"
     ]
    }
   ],
   "source": [
    "my_tuple= (1,2, 3)\n",
    "my_list =[1,2,3]\n",
    "\n",
    "print(my_tuple[2])\n",
    "print(my_list[2])"
   ]
  },
  {
   "cell_type": "code",
   "execution_count": 3,
   "id": "ea6adab8",
   "metadata": {},
   "outputs": [
    {
     "ename": "TypeError",
     "evalue": "'tuple' object does not support item assignment",
     "output_type": "error",
     "traceback": [
      "\u001b[0;31m---------------------------------------------------------------------------\u001b[0m",
      "\u001b[0;31mTypeError\u001b[0m                                 Traceback (most recent call last)",
      "\u001b[0;32m/var/folders/5p/l3b0fr1x5wn7450vgnp88r080000gn/T/ipykernel_2987/766980025.py\u001b[0m in \u001b[0;36m<module>\u001b[0;34m\u001b[0m\n\u001b[0;32m----> 1\u001b[0;31m \u001b[0mmy_tuple\u001b[0m\u001b[0;34m[\u001b[0m\u001b[0;36m2\u001b[0m\u001b[0;34m]\u001b[0m \u001b[0;34m=\u001b[0m \u001b[0;36m5\u001b[0m\u001b[0;34m\u001b[0m\u001b[0;34m\u001b[0m\u001b[0m\n\u001b[0m",
      "\u001b[0;31mTypeError\u001b[0m: 'tuple' object does not support item assignment"
     ]
    }
   ],
   "source": [
    "my_tuple[2] = 5"
   ]
  },
  {
   "cell_type": "code",
   "execution_count": 5,
   "id": "153c2ad3",
   "metadata": {},
   "outputs": [
    {
     "name": "stdout",
     "output_type": "stream",
     "text": [
      "[1, 2, 5]\n"
     ]
    }
   ],
   "source": [
    "my_list[2]= 5\n",
    "print(my_list)"
   ]
  },
  {
   "cell_type": "code",
   "execution_count": 11,
   "id": "b8b94c5c",
   "metadata": {},
   "outputs": [
    {
     "name": "stdout",
     "output_type": "stream",
     "text": [
      "['hello', 1, 4, 8, 'good']\n",
      "['morning', 1, 4, 8, 'good']\n",
      "good\n",
      "good\n",
      "[1, 4, 8]\n",
      "['morning', 1, 4, 8, 'good', 'apple', 'mango', 'banana']\n"
     ]
    }
   ],
   "source": [
    "list1=[\"hello\",1,4,8,\"good\"]\n",
    "print(list1)\n",
    "list1[0]=\"morning\"  # assigning values (\"hello\" is replaced with \"morning\")\n",
    "print(list1)\n",
    "print(list1[4])\n",
    "print(list1[-1]) # list also allow negative indexing\n",
    "print(list1[1:4]) # slicing\n",
    "list2=[\"apple\",\"mango\",\"banana\"]\n",
    "print(list1+list2) # list concatenation"
   ]
  },
  {
   "cell_type": "code",
   "execution_count": 25,
   "id": "aeb800cc",
   "metadata": {},
   "outputs": [
    {
     "data": {
      "text/plain": [
       "'morning'"
      ]
     },
     "execution_count": 25,
     "metadata": {},
     "output_type": "execute_result"
    }
   ],
   "source": [
    "list1.pop(0)"
   ]
  },
  {
   "cell_type": "code",
   "execution_count": 12,
   "id": "ac61698d",
   "metadata": {},
   "outputs": [
    {
     "name": "stdout",
     "output_type": "stream",
     "text": [
      "('good', 1, 2, 3, 'morning')\n",
      "good\n",
      "('good', 1, 2, 3, 'morning', 'orange', 'grapes')\n",
      "<class 'tuple'>\n"
     ]
    }
   ],
   "source": [
    "tuple1=(\"good\",1,2,3,\"morning\")\n",
    "print(tuple1)\n",
    "print(tuple1[0])  # accessing values using indexing\n",
    "#tuple1[1]=\"change\"  # a value cannot be changed as they are immutable\n",
    "tuple2=(\"orange\",\"grapes\")\n",
    "print(tuple1+tuple2)  # tuples can be concatenated\n",
    "tuple3=(1,2,3)\n",
    "print(type(tuple3))"
   ]
  },
  {
   "cell_type": "code",
   "execution_count": 22,
   "id": "a04703c9",
   "metadata": {
    "scrolled": true
   },
   "outputs": [
    {
     "name": "stdout",
     "output_type": "stream",
     "text": [
      "{1, 2, 3, 4, 5}\n",
      "{1, 2, 3, 4, 5, 8, 9}\n",
      "{1, 2, 3, 4, 5, 8, 9}\n",
      "{2, 5}\n",
      "{2, 5}\n",
      "{1, 2, 3, 4}\n",
      "{1, 3, 4}\n",
      "{1, 3, 4}\n",
      "{1, 2, 3, 4, 5, 8, 9}\n"
     ]
    }
   ],
   "source": [
    "set1={1,2,3,4,5}\n",
    "print(set1)\n",
    "#print(set1[0])\n",
    "set2={2,5,8,9}\n",
    "#print(set1+set2)\n",
    "print(set1 | set2)\n",
    "print(set.union(set1,set2))\n",
    "print(set1 & set2)\n",
    "print(set.intersection(set1,set2))\n",
    "set3 = {1,1,1,2,3,4,4,4}\n",
    "print(set3)\n",
    "print(set1 - set2)\n",
    "print(set.difference(set1, set2))\n",
    "set3 |= set2\n",
    "print(set3)"
   ]
  },
  {
   "cell_type": "code",
   "execution_count": null,
   "id": "3ce6bf54",
   "metadata": {},
   "outputs": [],
   "source": []
  },
  {
   "cell_type": "code",
   "execution_count": 26,
   "id": "51c22719",
   "metadata": {},
   "outputs": [
    {
     "name": "stdout",
     "output_type": "stream",
     "text": [
      "['apple', 'banana', 'grapes', 'strawberry']\n",
      "['apple', 'banana', 'grapes']\n",
      "['apple', 'banana']\n"
     ]
    }
   ],
   "source": [
    "list1=[\"apple\",\"banana\",\"grapes\"]\n",
    "list1.append(\"strawberry\")   # strawberry is added to the list\n",
    "print(list1)\n",
    "list1.pop()  # removes the last element from the list\n",
    "print(list1)\n",
    "list1.pop()\n",
    "print(list1)"
   ]
  },
  {
   "cell_type": "code",
   "execution_count": 27,
   "id": "6f27afe6",
   "metadata": {},
   "outputs": [
    {
     "name": "stdout",
     "output_type": "stream",
     "text": [
      "(1, 2, 3, 4)\n"
     ]
    }
   ],
   "source": [
    "tuple1=(1,2,3,4)\n",
    "# tuple1.pop()    tuple cannot be modified\n",
    "# tuple1.append()  tuple cannot be modified\n",
    "print(tuple1)"
   ]
  },
  {
   "cell_type": "code",
   "execution_count": 28,
   "id": "92b98971",
   "metadata": {},
   "outputs": [
    {
     "name": "stdout",
     "output_type": "stream",
     "text": [
      "{'air', 'food', 'shelter', 'water'}\n",
      "{'water', 'clothes', 'shelter', 'air', 'food'}\n",
      "{'clothes', 'shelter', 'air', 'food'}\n"
     ]
    }
   ],
   "source": [
    "set1={\"water\",\"air\",\"food\"}\n",
    "set1.add(\"shelter\")   # adds an element to the set at random position\n",
    "print(set1)\n",
    "set1.add(\"clothes\")\n",
    "print(set1)\n",
    "set1.pop()  # removes random element from the set\n",
    "print(set1)"
   ]
  },
  {
   "cell_type": "code",
   "execution_count": 31,
   "id": "abb0a46d",
   "metadata": {},
   "outputs": [
    {
     "name": "stdout",
     "output_type": "stream",
     "text": [
      "{'fruit1': 'apple', 'fruit2': 'banana', 'veg1': 'apple', 'veg2': 'brinjal'}\n",
      "{'fruit1': 'apple', 'fruit2': 'banana', 'veg1': 'apple', 'veg2': 'brinjal', 'veg3': 'chilli'}\n",
      "{'fruit1': 'apple', 'fruit2': 'banana', 'veg1': 'apple', 'veg3': 'chilli'}\n"
     ]
    }
   ],
   "source": [
    "dict1={\"fruit1\":\"apple\",\"fruit2\":\"banana\",\"veg1\":\"tomato\"}\n",
    "dict1.update({\"veg1\":\"apple\"})\n",
    "\n",
    "dict1.update({\"veg2\":\"brinjal\"})\n",
    "print(dict1)\n",
    "dict1.update({\"veg3\":\"chilli\"})  # updates the dictionary at the end\n",
    "print(dict1)\n",
    "dict1.pop(\"veg2\")\n",
    "print(dict1)"
   ]
  },
  {
   "cell_type": "code",
   "execution_count": null,
   "id": "73869f2c",
   "metadata": {},
   "outputs": [],
   "source": []
  },
  {
   "cell_type": "code",
   "execution_count": null,
   "id": "7d04ec13",
   "metadata": {},
   "outputs": [],
   "source": []
  },
  {
   "cell_type": "code",
   "execution_count": 32,
   "id": "888305ca",
   "metadata": {},
   "outputs": [
    {
     "name": "stdout",
     "output_type": "stream",
     "text": [
      "danny Ki\n",
      "30\n"
     ]
    }
   ],
   "source": [
    "class Student:\n",
    "    def __init__(self,name, age):\n",
    "        self.name = name\n",
    "        self.age = age\n",
    "        \n",
    "danny = Student(\"danny Ki\", 30)\n",
    "print(danny.name)\n",
    "print(danny.age)"
   ]
  },
  {
   "cell_type": "code",
   "execution_count": 33,
   "id": "12673363",
   "metadata": {},
   "outputs": [
    {
     "name": "stdout",
     "output_type": "stream",
     "text": [
      "1\n",
      "3\n",
      "1\n",
      "3\n",
      "1\n"
     ]
    }
   ],
   "source": [
    "pat = [1, 3, 2, 1, 2, 3, 1, 0, 1, 3]\n",
    "\n",
    "for p in pat:\n",
    "    if p==0:\n",
    "        current = p\n",
    "        break\n",
    "    elif p% 2 ==0:\n",
    "        continue\n",
    "    print(p)\n",
    "\n",
    "\n"
   ]
  },
  {
   "cell_type": "code",
   "execution_count": null,
   "id": "1e075607",
   "metadata": {},
   "outputs": [],
   "source": []
  }
 ],
 "metadata": {
  "kernelspec": {
   "display_name": "Python 3 (ipykernel)",
   "language": "python",
   "name": "python3"
  },
  "language_info": {
   "codemirror_mode": {
    "name": "ipython",
    "version": 3
   },
   "file_extension": ".py",
   "mimetype": "text/x-python",
   "name": "python",
   "nbconvert_exporter": "python",
   "pygments_lexer": "ipython3",
   "version": "3.9.7"
  }
 },
 "nbformat": 4,
 "nbformat_minor": 5
}
