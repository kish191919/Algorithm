{
 "cells": [
  {
   "cell_type": "markdown",
   "id": "6190107b",
   "metadata": {},
   "source": [
    "## 코인 갯수"
   ]
  },
  {
   "cell_type": "code",
   "execution_count": 5,
   "id": "5d765b54",
   "metadata": {},
   "outputs": [
    {
     "name": "stdout",
     "output_type": "stream",
     "text": [
      "6\n"
     ]
    }
   ],
   "source": [
    "n = 1260\n",
    "count = 0\n",
    "coin = [500,100,50,10]\n",
    "\n",
    "for i in coin:\n",
    "    qty = n // i\n",
    "    count += qty\n",
    "    n -= qty * i\n",
    "print(count)"
   ]
  },
  {
   "cell_type": "code",
   "execution_count": 4,
   "id": "9adbb987",
   "metadata": {},
   "outputs": [
    {
     "name": "stdout",
     "output_type": "stream",
     "text": [
      "6\n"
     ]
    }
   ],
   "source": [
    "n = 1260\n",
    "count = 0\n",
    "coins = [500,100,50,10]\n",
    "\n",
    "for coin in coins:\n",
    "    count += n // coin\n",
    "    n %= coin\n",
    "print(count)"
   ]
  },
  {
   "cell_type": "markdown",
   "id": "1402d6d0",
   "metadata": {},
   "source": [
    "## 1 만들기"
   ]
  },
  {
   "cell_type": "code",
   "execution_count": 10,
   "id": "31f5b41a",
   "metadata": {},
   "outputs": [
    {
     "name": "stdout",
     "output_type": "stream",
     "text": [
      "24 1\n",
      "8 2\n",
      "7 3\n",
      "6 4\n",
      "2 5\n",
      "1 6\n"
     ]
    }
   ],
   "source": [
    "n = 25\n",
    "k = 3 \n",
    "count = 0\n",
    "\n",
    "while n != 1:\n",
    "    \n",
    "    if n % k != 0:\n",
    "        count += 1\n",
    "        n -= 1\n",
    "        print(n, count)\n",
    "    else:\n",
    "        count += 1\n",
    "        n = n // k\n",
    "        print(n, count)\n",
    "\n",
    "\n",
    "        \n"
   ]
  },
  {
   "cell_type": "code",
   "execution_count": 12,
   "id": "c4748723",
   "metadata": {},
   "outputs": [
    {
     "name": "stdout",
     "output_type": "stream",
     "text": [
      "25 3\n",
      "24 1\n",
      "8 2\n",
      "6 4\n",
      "2 5\n",
      "0 7\n",
      "6\n"
     ]
    }
   ],
   "source": [
    "n,k = map(int, input().split())\n",
    "result = 0\n",
    "\n",
    "while True:\n",
    "    target = (n//k) * k\n",
    "    result += (n - target)\n",
    "    n = target\n",
    "    print(n, result)\n",
    "    if n < k:\n",
    "        break\n",
    "    result += 1\n",
    "    n //= k\n",
    "    print(n, result)\n",
    "print(result-1)"
   ]
  },
  {
   "cell_type": "code",
   "execution_count": 4,
   "id": "e210fdb4",
   "metadata": {},
   "outputs": [
    {
     "name": "stdout",
     "output_type": "stream",
     "text": [
      "25 3\n",
      "7\n"
     ]
    }
   ],
   "source": [
    "n, k = map(int, input().split())\n",
    "result = 0\n",
    "\n",
    "while True:\n",
    "    target = (n//k)*k\n",
    "    result += (n - target)\n",
    "    n = target\n",
    "    if n < k:\n",
    "        break\n",
    "    n //= k\n",
    "    result += 1\n",
    "print(result)\n",
    "    "
   ]
  },
  {
   "cell_type": "markdown",
   "id": "68f60f0f",
   "metadata": {},
   "source": [
    "## 곱하기 혹은 더하기 문제"
   ]
  },
  {
   "cell_type": "code",
   "execution_count": 22,
   "id": "6e5a0560",
   "metadata": {},
   "outputs": [
    {
     "name": "stdout",
     "output_type": "stream",
     "text": [
      "0123\n",
      "1\n",
      "3\n",
      "9\n",
      "9\n"
     ]
    }
   ],
   "source": [
    "n =input()\n",
    "result = int(n[0])\n",
    "\n",
    "for i in range(1,len(n)):\n",
    "    if (int(i) in [0,1]) or (result in [0,1]):\n",
    "        result += int(i)\n",
    "        print(result)\n",
    "    else:\n",
    "        result *= int(i)\n",
    "        print(result)\n",
    "print(result)"
   ]
  },
  {
   "cell_type": "code",
   "execution_count": 16,
   "id": "fa66d4b6",
   "metadata": {},
   "outputs": [
    {
     "name": "stdout",
     "output_type": "stream",
     "text": [
      "0123\n",
      "1\n",
      "3\n",
      "9\n",
      "9\n"
     ]
    }
   ],
   "source": [
    "data = input()\n",
    "\n",
    "result = int(data[0])\n",
    "\n",
    "for i in range(1, len(data)):\n",
    "    num = int(data[i])\n",
    "    if num <= 1or result <=1:\n",
    "        result += num\n",
    "        print(result)\n",
    "    else:\n",
    "        result *= num\n",
    "        print(result)\n",
    "print(result)"
   ]
  },
  {
   "cell_type": "markdown",
   "id": "e91d46f3",
   "metadata": {},
   "source": [
    "## 모험가 길드"
   ]
  },
  {
   "cell_type": "code",
   "execution_count": 28,
   "id": "a1a63ddc",
   "metadata": {},
   "outputs": [
    {
     "name": "stdout",
     "output_type": "stream",
     "text": [
      "5\n",
      "1 2 2 3 2\n",
      "2\n"
     ]
    }
   ],
   "source": [
    "n = int(input())\n",
    "arr = list(map(int,input().split()))\n",
    "\n",
    "arr.sort()\n",
    "\n",
    "result =0 # 총 그불의 수\n",
    "count =0 # 현재 그룹에 포함된 모험가수\n",
    "\n",
    "for i in arr:\n",
    "    count += 1\n",
    "    if count >= i:\n",
    "        result += 1\n",
    "        count = 0\n",
    "print(result)\n",
    "          "
   ]
  },
  {
   "cell_type": "code",
   "execution_count": null,
   "id": "63f1395a",
   "metadata": {},
   "outputs": [],
   "source": []
  }
 ],
 "metadata": {
  "kernelspec": {
   "display_name": "Python 3 (ipykernel)",
   "language": "python",
   "name": "python3"
  },
  "language_info": {
   "codemirror_mode": {
    "name": "ipython",
    "version": 3
   },
   "file_extension": ".py",
   "mimetype": "text/x-python",
   "name": "python",
   "nbconvert_exporter": "python",
   "pygments_lexer": "ipython3",
   "version": "3.9.7"
  }
 },
 "nbformat": 4,
 "nbformat_minor": 5
}
