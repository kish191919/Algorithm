{
 "cells": [
  {
   "cell_type": "markdown",
   "id": "04d0d4b9",
   "metadata": {},
   "source": [
    "- 순차 탐색 : 리스트 안에 있는 특정한 데이터를 찾기 위해 앞에서 부터 데이터를 하나씩 확인\n",
    "- 이진 탐색 : 정렬되어 있는 리스트에서 탐색 범위를 절반씩 좁혀가며 데이터를 탐색하는 방법\n",
    "    - 이진 탐색은 시작점, 끝점, 중간점을 이용하여 탐색 범위를 설정"
   ]
  },
  {
   "cell_type": "code",
   "execution_count": 2,
   "id": "d19cc7b2",
   "metadata": {},
   "outputs": [
    {
     "name": "stdout",
     "output_type": "stream",
     "text": [
      "10 7\n",
      "1 3 5 7 9 11 13 14 17 19\n",
      "4\n"
     ]
    }
   ],
   "source": [
    "# 이진 탐색 소스코드 구현 (재귀 함수)\n",
    "def binary_search(array, target, start, end):\n",
    "    if start > end:\n",
    "        return None\n",
    "    mid = (start + end) // 2\n",
    "    # 찾은 경우 중간점 인덱스 반환\n",
    "    if array[mid] == target:\n",
    "        return mid\n",
    "    elif array[mid] > target:\n",
    "        return binary_search(array, target, start, mid-1)\n",
    "    else:\n",
    "        return binary_search(array, target, mid +1, end)\n",
    "    \n",
    "n, target = list(map(int, input().split()))\n",
    "\n",
    "array = list(map(int, input().split()))\n",
    "\n",
    "result = binary_search(array, target, 0, n-1)\n",
    "if result == None:\n",
    "    print(\"원소가 존재하지 않습니다.\")\n",
    "else:\n",
    "    print(result + 1)"
   ]
  },
  {
   "cell_type": "code",
   "execution_count": 3,
   "id": "c280169c",
   "metadata": {},
   "outputs": [],
   "source": [
    "from bisect import bisect_left, bisect_right"
   ]
  },
  {
   "cell_type": "code",
   "execution_count": 4,
   "id": "eb92a9ac",
   "metadata": {},
   "outputs": [
    {
     "name": "stdout",
     "output_type": "stream",
     "text": [
      "2\n",
      "4\n"
     ]
    }
   ],
   "source": [
    "a = [1,2,4,4,8]\n",
    "x = 4\n",
    "print(bisect_left(a,4))\n",
    "print(bisect_right(a,4))"
   ]
  },
  {
   "cell_type": "markdown",
   "id": "a0c35871",
   "metadata": {},
   "source": [
    "### 값이 특정 범위에 속하는 데이터 개수 구하기"
   ]
  },
  {
   "cell_type": "code",
   "execution_count": 5,
   "id": "f4115ba3",
   "metadata": {},
   "outputs": [],
   "source": [
    "from bisect import bisect_left, bisect_right"
   ]
  },
  {
   "cell_type": "code",
   "execution_count": 6,
   "id": "0b5b3d51",
   "metadata": {},
   "outputs": [
    {
     "name": "stdout",
     "output_type": "stream",
     "text": [
      "2\n",
      "8\n"
     ]
    }
   ],
   "source": [
    "def count_by_range(a, left_value, right_value):\n",
    "    right_index = bisect_right(a, right_value)\n",
    "    left_index = bisect_left(a, left_value)\n",
    "    return right_index - left_index\n",
    "\n",
    "a = [1,2,3,3,3,3,4,4,8,9]\n",
    "\n",
    "print(count_by_range(a, 4,4))\n",
    "print(count_by_range(a, -1,4))"
   ]
  },
  {
   "cell_type": "markdown",
   "id": "2e5ec231",
   "metadata": {},
   "source": [
    "### 파라메트릭 서치 (Parametric Search)\n",
    "- 최적화 문제를 결정 문제 ( 예 또는 아니오) 로 바꾸어 해결하는 기법\n",
    "    - 예시 : 특정한 조건을 만족하는 가장 알맞은 값을 빠르게 찾는 최적화 문제\n",
    "- 일반적인 코딩 테스트에서 파라메트릭 서치 문제는 이진 탐색을 이용하여 해결"
   ]
  },
  {
   "cell_type": "markdown",
   "id": "b6ce2f24",
   "metadata": {},
   "source": [
    "### 떡뽁이 떡 만들기"
   ]
  },
  {
   "cell_type": "code",
   "execution_count": 8,
   "id": "c44d5eae",
   "metadata": {},
   "outputs": [
    {
     "name": "stdout",
     "output_type": "stream",
     "text": [
      "5 6\n",
      "5 6 7 8 9\n",
      "6\n"
     ]
    }
   ],
   "source": [
    "# 떡의 개수 (n), 요청한 떡의 길이 m\n",
    "n , m = list(map(int, input().split( )))\n",
    "\n",
    "# 각 떡의 개별 높이 정보\n",
    "array = list(map(int, input().split()))\n",
    "\n",
    "start = 0\n",
    "end = max(array)\n",
    "\n",
    "result= 0\n",
    "while (start <= end):\n",
    "    total = 0\n",
    "    mid = (start + end) // 2\n",
    "    for x in array:\n",
    "        if x > mid:\n",
    "            total += x -mid\n",
    "    if total < m :\n",
    "        end = mid -1\n",
    "    else:\n",
    "        result = mid\n",
    "        start = mid + 1\n",
    "        \n",
    "print(result)"
   ]
  },
  {
   "cell_type": "code",
   "execution_count": null,
   "id": "040b9da1",
   "metadata": {},
   "outputs": [],
   "source": []
  }
 ],
 "metadata": {
  "kernelspec": {
   "display_name": "Python 3 (ipykernel)",
   "language": "python",
   "name": "python3"
  },
  "language_info": {
   "codemirror_mode": {
    "name": "ipython",
    "version": 3
   },
   "file_extension": ".py",
   "mimetype": "text/x-python",
   "name": "python",
   "nbconvert_exporter": "python",
   "pygments_lexer": "ipython3",
   "version": "3.9.7"
  }
 },
 "nbformat": 4,
 "nbformat_minor": 5
}
