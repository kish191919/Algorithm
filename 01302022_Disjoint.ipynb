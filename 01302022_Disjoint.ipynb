{
 "cells": [
  {
   "cell_type": "code",
   "execution_count": 1,
   "id": "23d9ed5f",
   "metadata": {},
   "outputs": [],
   "source": [
    "class UnionFind:\n",
    "    def __init__(self, size):\n",
    "        self.root = [i for i in range(size)]\n",
    "        \n",
    "    def find(self, x):\n",
    "        return self.root[x]\n",
    "    \n",
    "    def union(self, x, y):\n",
    "        rootX=self.find(x)\n",
    "        rootY=self.find(y)\n",
    "        \n",
    "        if rootX != rootY:\n",
    "            for i in range(len(self.root)):\n",
    "                if self.root[i] == rootY:\n",
    "                    self.root[i] = rootX\n",
    "                    \n",
    "    def connected(self, x, y):\n",
    "        return self.find(x)==self.find(y)\n",
    "    "
   ]
  },
  {
   "cell_type": "code",
   "execution_count": 8,
   "id": "0f5e6f63",
   "metadata": {},
   "outputs": [
    {
     "name": "stdout",
     "output_type": "stream",
     "text": [
      "[0, 1, 2, 3, 4, 5, 6, 7, 8, 9]\n"
     ]
    }
   ],
   "source": [
    "uf = UnionFind(10)\n",
    "print(uf.root)"
   ]
  },
  {
   "cell_type": "code",
   "execution_count": 12,
   "id": "f055d38b",
   "metadata": {},
   "outputs": [],
   "source": [
    "uf.union(1, 2)"
   ]
  },
  {
   "cell_type": "code",
   "execution_count": 13,
   "id": "b5eee791",
   "metadata": {},
   "outputs": [
    {
     "name": "stdout",
     "output_type": "stream",
     "text": [
      "[0, 1, 1, 3, 4, 5, 6, 7, 8, 9]\n"
     ]
    }
   ],
   "source": [
    "print(uf.root)"
   ]
  },
  {
   "cell_type": "code",
   "execution_count": 14,
   "id": "6b8fcb06",
   "metadata": {},
   "outputs": [],
   "source": [
    "uf.union(2,5)"
   ]
  },
  {
   "cell_type": "code",
   "execution_count": 15,
   "id": "b60fb2a1",
   "metadata": {},
   "outputs": [
    {
     "name": "stdout",
     "output_type": "stream",
     "text": [
      "[0, 1, 1, 3, 4, 1, 6, 7, 8, 9]\n"
     ]
    }
   ],
   "source": [
    "print(uf.root)"
   ]
  },
  {
   "cell_type": "code",
   "execution_count": 16,
   "id": "dd3ee0e0",
   "metadata": {},
   "outputs": [],
   "source": [
    "uf.union(5,6)"
   ]
  },
  {
   "cell_type": "code",
   "execution_count": 17,
   "id": "65661e66",
   "metadata": {
    "scrolled": true
   },
   "outputs": [
    {
     "name": "stdout",
     "output_type": "stream",
     "text": [
      "[0, 1, 1, 3, 4, 1, 1, 7, 8, 9]\n"
     ]
    }
   ],
   "source": [
    "print(uf.root)"
   ]
  },
  {
   "cell_type": "code",
   "execution_count": 18,
   "id": "51fe4c02",
   "metadata": {},
   "outputs": [],
   "source": [
    "uf.union(6,7)"
   ]
  },
  {
   "cell_type": "code",
   "execution_count": 19,
   "id": "b60455a0",
   "metadata": {
    "scrolled": true
   },
   "outputs": [
    {
     "name": "stdout",
     "output_type": "stream",
     "text": [
      "[0, 1, 1, 3, 4, 1, 1, 1, 8, 9]\n"
     ]
    }
   ],
   "source": [
    "print(uf.root)"
   ]
  },
  {
   "cell_type": "code",
   "execution_count": 20,
   "id": "f6b4604a",
   "metadata": {},
   "outputs": [
    {
     "data": {
      "text/plain": [
       "True"
      ]
     },
     "execution_count": 20,
     "metadata": {},
     "output_type": "execute_result"
    }
   ],
   "source": [
    "uf.connected(1,5)"
   ]
  },
  {
   "cell_type": "code",
   "execution_count": 21,
   "id": "20d4eb42",
   "metadata": {},
   "outputs": [
    {
     "data": {
      "text/plain": [
       "False"
      ]
     },
     "execution_count": 21,
     "metadata": {},
     "output_type": "execute_result"
    }
   ],
   "source": [
    "uf.connected(0,1)"
   ]
  },
  {
   "cell_type": "code",
   "execution_count": null,
   "id": "560c263e",
   "metadata": {},
   "outputs": [],
   "source": [
    "class UnionFind:\n",
    "    def __init__(self, size):\n",
    "        self.root = [i for i in range(size)]\n",
    "        \n",
    "        \n",
    "    def find(self, x):\n",
    "        while x != "
   ]
  }
 ],
 "metadata": {
  "kernelspec": {
   "display_name": "Python 3 (ipykernel)",
   "language": "python",
   "name": "python3"
  },
  "language_info": {
   "codemirror_mode": {
    "name": "ipython",
    "version": 3
   },
   "file_extension": ".py",
   "mimetype": "text/x-python",
   "name": "python",
   "nbconvert_exporter": "python",
   "pygments_lexer": "ipython3",
   "version": "3.9.7"
  }
 },
 "nbformat": 4,
 "nbformat_minor": 5
}
