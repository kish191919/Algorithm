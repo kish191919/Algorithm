{
 "cells": [
  {
   "cell_type": "markdown",
   "id": "a76f7d7f",
   "metadata": {},
   "source": [
    "## 음표"
   ]
  },
  {
   "cell_type": "code",
   "execution_count": 3,
   "id": "3140b59a",
   "metadata": {},
   "outputs": [
    {
     "name": "stdout",
     "output_type": "stream",
     "text": [
      "1 2 3 4 5 6 7 8 9\n",
      "ascending\n"
     ]
    }
   ],
   "source": [
    "data = list(map(int, input().split(' ')))\n",
    "\n",
    "ascending = True\n",
    "descending = True\n",
    "\n",
    "for i in range(1,8):\n",
    "    if data[i] > data[i-1]:\n",
    "        descending = False\n",
    "    elif data[i] < data[i-1]:\n",
    "        ascending = False\n",
    "\n",
    "if ascending:\n",
    "    print('ascending')\n",
    "elif descending:\n",
    "    print('descending')\n",
    "else:\n",
    "    print('mixed')"
   ]
  },
  {
   "cell_type": "markdown",
   "id": "5c2c666c",
   "metadata": {},
   "source": [
    "블랙잭"
   ]
  },
  {
   "cell_type": "code",
   "execution_count": 9,
   "id": "b4fe24ca",
   "metadata": {},
   "outputs": [
    {
     "name": "stdout",
     "output_type": "stream",
     "text": [
      "10 500\n",
      "93 181 245 214 315 36 185 138 216 295\n",
      "497\n"
     ]
    }
   ],
   "source": [
    "qty, target = list(map(int, input().split(' ')))\n",
    "card = list(map(int, input().split(' ')))\n",
    "\n",
    "max_sum = 0\n",
    "for i in range(qty):\n",
    "    for j in range(i+1,qty):\n",
    "        for k in range(j+1, qty):\n",
    "            sum_total = card[i] + card[j] + card[k]\n",
    "            if sum_total <= target:\n",
    "                max_sum = max(sum_total, max_sum)\n",
    "                \n",
    "print(max_sum)"
   ]
  },
  {
   "cell_type": "code",
   "execution_count": null,
   "id": "1d680394",
   "metadata": {},
   "outputs": [],
   "source": []
  }
 ],
 "metadata": {
  "kernelspec": {
   "display_name": "Python 3 (ipykernel)",
   "language": "python",
   "name": "python3"
  },
  "language_info": {
   "codemirror_mode": {
    "name": "ipython",
    "version": 3
   },
   "file_extension": ".py",
   "mimetype": "text/x-python",
   "name": "python",
   "nbconvert_exporter": "python",
   "pygments_lexer": "ipython3",
   "version": "3.9.7"
  }
 },
 "nbformat": 4,
 "nbformat_minor": 5
}
