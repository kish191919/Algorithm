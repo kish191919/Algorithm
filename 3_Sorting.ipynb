{
 "cells": [
  {
   "cell_type": "markdown",
   "id": "c9b59e49",
   "metadata": {},
   "source": [
    "### 선택 정렬"
   ]
  },
  {
   "cell_type": "markdown",
   "id": "b448ae57",
   "metadata": {},
   "source": [
    "O(n2) 횟수"
   ]
  },
  {
   "cell_type": "code",
   "execution_count": 2,
   "id": "d8bce9f4",
   "metadata": {},
   "outputs": [
    {
     "name": "stdout",
     "output_type": "stream",
     "text": [
      "[0, 1, 2, 3, 4, 5, 6, 7, 8, 9]\n"
     ]
    }
   ],
   "source": [
    "array = [7,5,9,0,3,1,6,2,4,8]\n",
    "\n",
    "for i in range(len(array)):\n",
    "    min_index = i\n",
    "    for j in range(i + 1, len(array)):\n",
    "        if array[min_index] > array[j]:\n",
    "            min_index = j\n",
    "    array[i], array[min_index] = array[min_index], array[i] # 스와프\n",
    "\n",
    "print(array)\n"
   ]
  },
  {
   "cell_type": "markdown",
   "id": "a36352e3",
   "metadata": {},
   "source": [
    "### 삽입 정렬"
   ]
  },
  {
   "cell_type": "markdown",
   "id": "f2d649f1",
   "metadata": {},
   "source": [
    "- 처리되지 않은 데이터를 적절한 위치에 삽입\n",
    "- O(n2) 횟수\n",
    "- 현재 리스트의 데이터가 거의 정렬되어 있으며 매우 빠르게 동작함"
   ]
  },
  {
   "cell_type": "code",
   "execution_count": 6,
   "id": "46162613",
   "metadata": {},
   "outputs": [
    {
     "name": "stdout",
     "output_type": "stream",
     "text": [
      "[0, 1, 2, 3, 4, 5, 6, 7, 8, 9]\n"
     ]
    }
   ],
   "source": [
    "array = [7,5,9,0,3,1,6,2,4,8]\n",
    "\n",
    "for i in range(1, len(array)):\n",
    "    for j in range(i,0,-1 ):\n",
    "        if array[j] < array[j-1]:\n",
    "            array[j], array[j-1] = array[j-1], array[j]\n",
    "        else:\n",
    "            break\n",
    "print(array)"
   ]
  },
  {
   "cell_type": "markdown",
   "id": "0d2ddbb5",
   "metadata": {},
   "source": [
    "### 퀵 정렬\n",
    "- 기중 데이터를 설정하고 그 기준보다 큰 데이터와 작은 데이터의 위치를 바꾸는 방법\n",
    "- 첫 번째 데이터를 기준 데이터로 설정함\n",
    "- 너비 * 높이 = N x logN = NlogN"
   ]
  },
  {
   "cell_type": "code",
   "execution_count": 9,
   "id": "ef5d0bf4",
   "metadata": {},
   "outputs": [
    {
     "name": "stdout",
     "output_type": "stream",
     "text": [
      "[0, 1, 2, 3, 4, 5, 6, 7, 9, 8]\n"
     ]
    }
   ],
   "source": [
    "array = [7,5,9,0,3,1,6,2,4,8]\n",
    "\n",
    "def quick_sort(array, start, end):\n",
    "    if start >= end:\n",
    "        return\n",
    "    pivot = start\n",
    "    left = start + 1\n",
    "    right = end\n",
    "    \n",
    "    while(left < right):\n",
    "        while(left <= end and array[left] <= array[pivot] ):\n",
    "            left += 1\n",
    "        while(right > start and array[right] >= array[pivot]):\n",
    "            right -= 1\n",
    "        if(left > right):\n",
    "            array[right], array[pivot] = array[pivot], array[right]\n",
    "        else:\n",
    "            array[left], array[right] = array[right], array[left]\n",
    "    quick_sort(array, start, right -1)\n",
    "    quick_sort(array, right +1, end)\n",
    "\n",
    "quick_sort(array, 0, len(array)-1)\n",
    "print(array)"
   ]
  },
  {
   "cell_type": "code",
   "execution_count": 7,
   "id": "ca227c22",
   "metadata": {},
   "outputs": [
    {
     "name": "stdout",
     "output_type": "stream",
     "text": [
      "10\n"
     ]
    }
   ],
   "source": [
    "print(len(array))"
   ]
  },
  {
   "cell_type": "markdown",
   "id": "96aac141",
   "metadata": {},
   "source": [
    "### 계수 정렬"
   ]
  },
  {
   "cell_type": "code",
   "execution_count": 17,
   "id": "162305d9",
   "metadata": {},
   "outputs": [
    {
     "name": "stdout",
     "output_type": "stream",
     "text": [
      "0 0 1 1 2 2 3 4 5 5 6 7 8 9 9 "
     ]
    }
   ],
   "source": [
    "array = [7,5,9,0,3,1,6,2,9,1,4,8,0,5,2]\n",
    "\n",
    "\n",
    "count = ([0] * (max(array)+1))\n",
    "         \n",
    "for i in range(len(array)):\n",
    "    count[array[i]] += 1\n",
    "\n",
    "for i in range(len(count)):\n",
    "    for j in range(count[i]):\n",
    "        print(i, end=' ')"
   ]
  },
  {
   "cell_type": "code",
   "execution_count": null,
   "id": "8b732085",
   "metadata": {},
   "outputs": [],
   "source": []
  },
  {
   "cell_type": "code",
   "execution_count": 2,
   "id": "4c0f03c1",
   "metadata": {},
   "outputs": [],
   "source": [
    "import subprocess\n",
    "import os\n",
    "import logging"
   ]
  },
  {
   "cell_type": "code",
   "execution_count": 13,
   "id": "cc4ab1f9",
   "metadata": {},
   "outputs": [
    {
     "data": {
      "text/plain": [
       "CompletedProcess(args=['ls'], returncode=0, stdout='1_Greedy.ipynb\\n1_pyspark_setup.ipynb\\n1_알고리즘.ipynb\\n2_DFS_BFS.ipynb\\n2_pyspark_add.ipynb\\n3_Sorting.ipynb\\n3_pyspark_missing.ipynb\\n4_pyspark_filter.ipynb\\n5_pyspark_groupby.ipynb\\n6_pyspark_ML.ipynb\\n7_pyspark_tips.ipynb\\n8_Pyspark_Demo.ipynb\\nDemo.ipynb\\nUntitled.ipynb\\n__pycache__\\ntest.py\\ntest1.csv\\ntest2.csv\\ntest3.csv\\ntest4.csv\\ntest_1.py\\ntips.csv\\n')"
      ]
     },
     "execution_count": 13,
     "metadata": {},
     "output_type": "execute_result"
    }
   ],
   "source": [
    "ushell = False\n",
    "subprocess.run(['ls'], universal_newlines=True, stdout=subprocess.PIPE, stderr=subprocess.STDOUT, shell=ushell)"
   ]
  },
  {
   "cell_type": "code",
   "execution_count": 35,
   "id": "96780a5d",
   "metadata": {},
   "outputs": [],
   "source": [
    "cmd = \"rm remove1.py\"\n",
    "inarg = cmd.split()"
   ]
  },
  {
   "cell_type": "code",
   "execution_count": 36,
   "id": "575a3911",
   "metadata": {},
   "outputs": [
    {
     "data": {
      "text/plain": [
       "CompletedProcess(args=['rm', 'remove1.py'], returncode=1, stdout=b'', stderr=b'rm: remove1.py: No such file or directory\\n')"
      ]
     },
     "execution_count": 36,
     "metadata": {},
     "output_type": "execute_result"
    }
   ],
   "source": [
    "result = subprocess.run(inarg, stdout=subprocess.PIPE, stderr=subprocess.PIPE)\n",
    "result"
   ]
  },
  {
   "cell_type": "code",
   "execution_count": 37,
   "id": "6af039bc",
   "metadata": {},
   "outputs": [
    {
     "data": {
      "text/plain": [
       "b''"
      ]
     },
     "execution_count": 37,
     "metadata": {},
     "output_type": "execute_result"
    }
   ],
   "source": [
    "result.stdout"
   ]
  },
  {
   "cell_type": "code",
   "execution_count": 38,
   "id": "e9584d68",
   "metadata": {},
   "outputs": [
    {
     "data": {
      "text/plain": [
       "b'rm: remove1.py: No such file or directory\\n'"
      ]
     },
     "execution_count": 38,
     "metadata": {},
     "output_type": "execute_result"
    }
   ],
   "source": [
    "result.stderr"
   ]
  },
  {
   "cell_type": "code",
   "execution_count": 40,
   "id": "b014ffe6",
   "metadata": {},
   "outputs": [
    {
     "name": "stderr",
     "output_type": "stream",
     "text": [
      "ERROR:root:cmd is rm remove1.py \n",
      "ERROR:root:b''\n"
     ]
    }
   ],
   "source": [
    "if result.returncode != 0:\n",
    "    logging.error(\"cmd is %s \",str(cmd))\n",
    "    logging.error(result.stdout)"
   ]
  },
  {
   "cell_type": "code",
   "execution_count": 45,
   "id": "5910c2f4",
   "metadata": {},
   "outputs": [],
   "source": [
    "logging.info(\"----\", str(cmd))"
   ]
  },
  {
   "cell_type": "code",
   "execution_count": 43,
   "id": "b8946ee1",
   "metadata": {},
   "outputs": [
    {
     "name": "stderr",
     "output_type": "stream",
     "text": [
      "ERROR:root:<class 'subprocess.SubprocessError'>\n"
     ]
    }
   ],
   "source": [
    "logging.error(subprocess.SubprocessError)"
   ]
  },
  {
   "cell_type": "code",
   "execution_count": 23,
   "id": "3cc797b6",
   "metadata": {
    "scrolled": true
   },
   "outputs": [
    {
     "name": "stdout",
     "output_type": "stream",
     "text": [
      "1_Greedy.ipynb\n",
      "1_pyspark_setup.ipynb\n",
      "1_알고리즘.ipynb\n",
      "2_DFS_BFS.ipynb\n",
      "2_pyspark_add.ipynb\n",
      "3_Sorting.ipynb\n",
      "3_pyspark_missing.ipynb\n",
      "4_pyspark_filter.ipynb\n",
      "5_pyspark_groupby.ipynb\n",
      "6_pyspark_ML.ipynb\n",
      "7_pyspark_tips.ipynb\n",
      "8_Pyspark_Demo.ipynb\n",
      "Demo.ipynb\n",
      "Untitled.ipynb\n",
      "__pycache__\n",
      "remove.py\n",
      "test.py\n",
      "test1.csv\n",
      "test2.csv\n",
      "test3.csv\n",
      "test4.csv\n",
      "test_1.py\n",
      "tips.csv\n"
     ]
    },
    {
     "data": {
      "text/plain": [
       "0"
      ]
     },
     "execution_count": 23,
     "metadata": {},
     "output_type": "execute_result"
    }
   ],
   "source": [
    "os.system('ls')"
   ]
  },
  {
   "cell_type": "code",
   "execution_count": null,
   "id": "66d4d2c3",
   "metadata": {},
   "outputs": [],
   "source": []
  }
 ],
 "metadata": {
  "kernelspec": {
   "display_name": "Python 3 (ipykernel)",
   "language": "python",
   "name": "python3"
  },
  "language_info": {
   "codemirror_mode": {
    "name": "ipython",
    "version": 3
   },
   "file_extension": ".py",
   "mimetype": "text/x-python",
   "name": "python",
   "nbconvert_exporter": "python",
   "pygments_lexer": "ipython3",
   "version": "3.9.7"
  }
 },
 "nbformat": 4,
 "nbformat_minor": 5
}
