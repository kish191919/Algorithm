{
 "cells": [
  {
   "cell_type": "code",
   "execution_count": 1,
   "id": "836c3cce",
   "metadata": {},
   "outputs": [
    {
     "name": "stderr",
     "output_type": "stream",
     "text": [
      "22/01/19 04:27:16 WARN NativeCodeLoader: Unable to load native-hadoop library for your platform... using builtin-java classes where applicable\n",
      "Using Spark's default log4j profile: org/apache/spark/log4j-defaults.properties\n",
      "Setting default log level to \"WARN\".\n",
      "To adjust logging level use sc.setLogLevel(newLevel). For SparkR, use setLogLevel(newLevel).\n"
     ]
    }
   ],
   "source": [
    "from pyspark.sql import SparkSession\n",
    "spark = SparkSession.builder.appName(\"dataframe\").getOrCreate()"
   ]
  },
  {
   "cell_type": "code",
   "execution_count": 2,
   "id": "38723c3e",
   "metadata": {},
   "outputs": [
    {
     "name": "stdout",
     "output_type": "stream",
     "text": [
      "+-------+----+----------+------+\n",
      "|   Name| age|experience|Salary|\n",
      "+-------+----+----------+------+\n",
      "|  danny|  30|        10| 30000|\n",
      "|hyunjoo|  33|      null| 40000|\n",
      "| eileen|  23|         5| 70000|\n",
      "| hailey|  44|         4|  3400|\n",
      "|   null|null|      null| 40000|\n",
      "|    kim|  36|         6|200000|\n",
      "|   null|  87|         7| 30000|\n",
      "|   null|  49|      null|  null|\n",
      "+-------+----+----------+------+\n",
      "\n"
     ]
    }
   ],
   "source": [
    "df = spark.read.csv(\"test2.csv\", header=True, inferSchema=True)\n",
    "df.show()"
   ]
  },
  {
   "cell_type": "code",
   "execution_count": 3,
   "id": "7f2f5bda",
   "metadata": {},
   "outputs": [
    {
     "data": {
      "text/plain": [
       "['Name', 'age', 'experience', 'Salary']"
      ]
     },
     "execution_count": 3,
     "metadata": {},
     "output_type": "execute_result"
    }
   ],
   "source": [
    "df.columns"
   ]
  },
  {
   "cell_type": "code",
   "execution_count": 4,
   "id": "a9683b96",
   "metadata": {},
   "outputs": [
    {
     "data": {
      "text/plain": [
       "[('Name', 'string'), ('age', 'int'), ('experience', 'int'), ('Salary', 'int')]"
      ]
     },
     "execution_count": 4,
     "metadata": {},
     "output_type": "execute_result"
    }
   ],
   "source": [
    "df.dtypes"
   ]
  },
  {
   "cell_type": "code",
   "execution_count": 6,
   "id": "3c2e9e87",
   "metadata": {},
   "outputs": [
    {
     "name": "stdout",
     "output_type": "stream",
     "text": [
      "+-------+-----+------------------+------------------+------------------+\n",
      "|summary| Name|               age|        experience|            Salary|\n",
      "+-------+-----+------------------+------------------+------------------+\n",
      "|  count|    5|                 7|                 5|                 7|\n",
      "|   mean| null|43.142857142857146|               6.4|59057.142857142855|\n",
      "| stddev| null| 21.17725644355733|2.3021728866442674|65188.620099494285|\n",
      "|    min|danny|                23|                 4|              3400|\n",
      "|    max|  kim|                87|                10|            200000|\n",
      "+-------+-----+------------------+------------------+------------------+\n",
      "\n"
     ]
    }
   ],
   "source": [
    "df.describe().show()"
   ]
  },
  {
   "cell_type": "code",
   "execution_count": 7,
   "id": "70bd0a6b",
   "metadata": {},
   "outputs": [
    {
     "name": "stdout",
     "output_type": "stream",
     "text": [
      "+-------+----+----------+------+-------+\n",
      "|   Name| age|experience|Salary|age two|\n",
      "+-------+----+----------+------+-------+\n",
      "|  danny|  30|        10| 30000|     32|\n",
      "|hyunjoo|  33|      null| 40000|     35|\n",
      "| eileen|  23|         5| 70000|     25|\n",
      "| hailey|  44|         4|  3400|     46|\n",
      "|   null|null|      null| 40000|   null|\n",
      "|    kim|  36|         6|200000|     38|\n",
      "|   null|  87|         7| 30000|     89|\n",
      "|   null|  49|      null|  null|     51|\n",
      "+-------+----+----------+------+-------+\n",
      "\n"
     ]
    }
   ],
   "source": [
    "df = df.withColumn(\"age two\", df[\"age\"]+2)\n",
    "df.show()"
   ]
  },
  {
   "cell_type": "code",
   "execution_count": 8,
   "id": "64a9066c",
   "metadata": {},
   "outputs": [
    {
     "name": "stdout",
     "output_type": "stream",
     "text": [
      "+-------+----+----------+------+-----+\n",
      "|   Name| age|experience|Salary|age 2|\n",
      "+-------+----+----------+------+-----+\n",
      "|  danny|  30|        10| 30000|   32|\n",
      "|hyunjoo|  33|      null| 40000|   35|\n",
      "| eileen|  23|         5| 70000|   25|\n",
      "| hailey|  44|         4|  3400|   46|\n",
      "|   null|null|      null| 40000| null|\n",
      "|    kim|  36|         6|200000|   38|\n",
      "|   null|  87|         7| 30000|   89|\n",
      "|   null|  49|      null|  null|   51|\n",
      "+-------+----+----------+------+-----+\n",
      "\n"
     ]
    }
   ],
   "source": [
    "df = df.withColumnRenamed(\"age two\", \"age 2\")\n",
    "df.show()"
   ]
  },
  {
   "cell_type": "code",
   "execution_count": 9,
   "id": "24a1b1ca",
   "metadata": {},
   "outputs": [
    {
     "data": {
      "text/plain": [
       "[Row(Name='danny', age=30, experience=10, Salary=30000, age 2=32),\n",
       " Row(Name='hyunjoo', age=33, experience=None, Salary=40000, age 2=35),\n",
       " Row(Name='eileen', age=23, experience=5, Salary=70000, age 2=25),\n",
       " Row(Name='hailey', age=44, experience=4, Salary=3400, age 2=46),\n",
       " Row(Name=None, age=None, experience=None, Salary=40000, age 2=None)]"
      ]
     },
     "execution_count": 9,
     "metadata": {},
     "output_type": "execute_result"
    }
   ],
   "source": [
    "df.head(5)"
   ]
  },
  {
   "cell_type": "code",
   "execution_count": 10,
   "id": "3028954b",
   "metadata": {},
   "outputs": [
    {
     "name": "stdout",
     "output_type": "stream",
     "text": [
      "danny is my name\n",
      "hyunjoo is my name\n",
      "eileen is my name\n",
      "hailey is my name\n",
      "None is my name\n"
     ]
    },
    {
     "data": {
      "text/plain": [
       "[None, None, None, None, None]"
      ]
     },
     "execution_count": 10,
     "metadata": {},
     "output_type": "execute_result"
    }
   ],
   "source": [
    "[print(\"{} is my name\".format(c[\"Name\"])) for c in df.head(5)]"
   ]
  },
  {
   "cell_type": "code",
   "execution_count": 11,
   "id": "2618e732",
   "metadata": {},
   "outputs": [
    {
     "name": "stdout",
     "output_type": "stream",
     "text": [
      "+-------+----+----------+------+\n",
      "|   Name| age|experience|Salary|\n",
      "+-------+----+----------+------+\n",
      "|  danny|  30|        10| 30000|\n",
      "|hyunjoo|  33|      null| 40000|\n",
      "| eileen|  23|         5| 70000|\n",
      "| hailey|  44|         4|  3400|\n",
      "|   null|null|      null| 40000|\n",
      "|    kim|  36|         6|200000|\n",
      "|   null|  87|         7| 30000|\n",
      "|   null|  49|      null|  null|\n",
      "+-------+----+----------+------+\n",
      "\n"
     ]
    }
   ],
   "source": [
    "df = df.drop(\"age 2\")\n",
    "df.show()"
   ]
  },
  {
   "cell_type": "code",
   "execution_count": 12,
   "id": "bc24e303",
   "metadata": {},
   "outputs": [
    {
     "name": "stdout",
     "output_type": "stream",
     "text": [
      "+-------+----+----------+------+\n",
      "|   Name| age|experience|Salary|\n",
      "+-------+----+----------+------+\n",
      "|  danny|  30|        10| 30000|\n",
      "|hyunjoo|  33|      null| 40000|\n",
      "| eileen|  23|         5| 70000|\n",
      "| hailey|  44|         4|  3400|\n",
      "|missing|null|      null| 40000|\n",
      "|    kim|  36|         6|200000|\n",
      "|missing|  87|         7| 30000|\n",
      "|missing|  49|      null|  null|\n",
      "+-------+----+----------+------+\n",
      "\n"
     ]
    }
   ],
   "source": [
    "df.na.fill(\"missing\").show()"
   ]
  },
  {
   "cell_type": "code",
   "execution_count": 14,
   "id": "33a608df",
   "metadata": {},
   "outputs": [
    {
     "name": "stdout",
     "output_type": "stream",
     "text": [
      "+-------+----+----------+------+\n",
      "|   Name| age|experience|Salary|\n",
      "+-------+----+----------+------+\n",
      "|  danny|  30|        10| 30000|\n",
      "|hyunjoo|  33|      1000| 40000|\n",
      "| eileen|  23|         5| 70000|\n",
      "| hailey|  44|         4|  3400|\n",
      "|   null|1000|      1000| 40000|\n",
      "|    kim|  36|         6|200000|\n",
      "|   null|  87|         7| 30000|\n",
      "|   null|  49|      1000|  1000|\n",
      "+-------+----+----------+------+\n",
      "\n"
     ]
    }
   ],
   "source": [
    "df.na.fill(1000).show()"
   ]
  },
  {
   "cell_type": "code",
   "execution_count": 15,
   "id": "7efa396a",
   "metadata": {},
   "outputs": [
    {
     "name": "stdout",
     "output_type": "stream",
     "text": [
      "+-------+----+----------+------+\n",
      "|   Name| age|experience|Salary|\n",
      "+-------+----+----------+------+\n",
      "|  danny|  30|        10| 30000|\n",
      "|hyunjoo|  33|      null| 40000|\n",
      "| eileen|  23|         5| 70000|\n",
      "| hailey|  44|         4|  3400|\n",
      "|   null|1000|      null| 40000|\n",
      "|    kim|  36|         6|200000|\n",
      "|   null|  87|         7| 30000|\n",
      "|   null|  49|      null|  null|\n",
      "+-------+----+----------+------+\n",
      "\n"
     ]
    }
   ],
   "source": [
    "df.na.fill(1000,[\"age\"]).show()"
   ]
  },
  {
   "cell_type": "code",
   "execution_count": 16,
   "id": "23b2cd2d",
   "metadata": {},
   "outputs": [
    {
     "name": "stdout",
     "output_type": "stream",
     "text": [
      "+------+---+----------+------+\n",
      "|  Name|age|experience|Salary|\n",
      "+------+---+----------+------+\n",
      "| danny| 30|        10| 30000|\n",
      "|eileen| 23|         5| 70000|\n",
      "|hailey| 44|         4|  3400|\n",
      "|   kim| 36|         6|200000|\n",
      "+------+---+----------+------+\n",
      "\n"
     ]
    }
   ],
   "source": [
    "df.na.drop(how=\"any\").show()"
   ]
  },
  {
   "cell_type": "code",
   "execution_count": 18,
   "id": "bc4c73f2",
   "metadata": {},
   "outputs": [
    {
     "name": "stdout",
     "output_type": "stream",
     "text": [
      "+-------+---+----------+------+\n",
      "|   Name|age|experience|Salary|\n",
      "+-------+---+----------+------+\n",
      "|  danny| 30|        10| 30000|\n",
      "|hyunjoo| 33|      null| 40000|\n",
      "| eileen| 23|         5| 70000|\n",
      "| hailey| 44|         4|  3400|\n",
      "|    kim| 36|         6|200000|\n",
      "|   null| 87|         7| 30000|\n",
      "|   null| 49|      null|  null|\n",
      "+-------+---+----------+------+\n",
      "\n"
     ]
    }
   ],
   "source": [
    "df.na.drop(how=\"any\", subset=[\"age\"]).show()"
   ]
  },
  {
   "cell_type": "code",
   "execution_count": 19,
   "id": "cd478a7e",
   "metadata": {},
   "outputs": [
    {
     "name": "stdout",
     "output_type": "stream",
     "text": [
      "+-------+----+----------+------+\n",
      "|   Name| age|experience|Salary|\n",
      "+-------+----+----------+------+\n",
      "|  danny|  30|        10| 30000|\n",
      "|hyunjoo|  33|      null| 40000|\n",
      "| eileen|  23|         5| 70000|\n",
      "| hailey|  44|         4|  3400|\n",
      "|   null|null|      null| 40000|\n",
      "|    kim|  36|         6|200000|\n",
      "|   null|  87|         7| 30000|\n",
      "|   null|  49|      null|  null|\n",
      "+-------+----+----------+------+\n",
      "\n"
     ]
    }
   ],
   "source": [
    "df.show()"
   ]
  },
  {
   "cell_type": "code",
   "execution_count": 21,
   "id": "e0366bd3",
   "metadata": {},
   "outputs": [
    {
     "name": "stdout",
     "output_type": "stream",
     "text": [
      "+---+------+\n",
      "|age|Salary|\n",
      "+---+------+\n",
      "| 44|  3400|\n",
      "| 87| 30000|\n",
      "| 49|  null|\n",
      "+---+------+\n",
      "\n"
     ]
    }
   ],
   "source": [
    "df.filter(\"age > 40\").select([\"age\", \"Salary\"]).show()"
   ]
  },
  {
   "cell_type": "code",
   "execution_count": 24,
   "id": "9d63dd6f",
   "metadata": {},
   "outputs": [
    {
     "name": "stdout",
     "output_type": "stream",
     "text": [
      "+----+---+----------+------+\n",
      "|Name|age|experience|Salary|\n",
      "+----+---+----------+------+\n",
      "|null| 87|         7| 30000|\n",
      "+----+---+----------+------+\n",
      "\n"
     ]
    }
   ],
   "source": [
    "df.filter((df[\"age\"]>40) &\n",
    "         (df[\"Salary\"] >5000)).show()"
   ]
  },
  {
   "cell_type": "code",
   "execution_count": 25,
   "id": "c5532e3e",
   "metadata": {},
   "outputs": [
    {
     "name": "stdout",
     "output_type": "stream",
     "text": [
      "+-------+---+----------+------+\n",
      "|   Name|age|experience|Salary|\n",
      "+-------+---+----------+------+\n",
      "|  danny| 30|        10| 30000|\n",
      "|hyunjoo| 33|      null| 40000|\n",
      "| eileen| 23|         5| 70000|\n",
      "|    kim| 36|         6|200000|\n",
      "+-------+---+----------+------+\n",
      "\n"
     ]
    }
   ],
   "source": [
    "df.filter(~(df[\"age\"]>40) &\n",
    "         (df[\"Salary\"] >5000)).show()"
   ]
  },
  {
   "cell_type": "code",
   "execution_count": 28,
   "id": "25ababa0",
   "metadata": {},
   "outputs": [
    {
     "name": "stdout",
     "output_type": "stream",
     "text": [
      "+------+---+----------+------+\n",
      "|  Name|age|experience|Salary|\n",
      "+------+---+----------+------+\n",
      "|hailey| 44|         4|  3400|\n",
      "+------+---+----------+------+\n",
      "\n"
     ]
    }
   ],
   "source": [
    "df.filter((df[\"age\"]>40) &\n",
    "         ~(df[\"Salary\"] >5000)).show()"
   ]
  },
  {
   "cell_type": "code",
   "execution_count": 29,
   "id": "8f0041ef",
   "metadata": {},
   "outputs": [
    {
     "name": "stdout",
     "output_type": "stream",
     "text": [
      "+-------+----------+------+\n",
      "|   Name|Department|Salary|\n",
      "+-------+----------+------+\n",
      "|  danny|  big data| 30000|\n",
      "|hyunjoo|     admin| 40000|\n",
      "| eileen|  big data| 70000|\n",
      "| hailey|        it|  3400|\n",
      "|   john|        it| 40000|\n",
      "|    kim|  big data|200000|\n",
      "|  nadal|        it| 30000|\n",
      "+-------+----------+------+\n",
      "\n"
     ]
    }
   ],
   "source": [
    "df = spark.read.csv(\"test3.csv\", header = True, inferSchema = True)\n",
    "df.show()"
   ]
  },
  {
   "cell_type": "code",
   "execution_count": 30,
   "id": "481a27a1",
   "metadata": {},
   "outputs": [
    {
     "data": {
      "text/html": [
       "\n",
       "            <div>\n",
       "                <p><b>SparkSession - in-memory</b></p>\n",
       "                \n",
       "        <div>\n",
       "            <p><b>SparkContext</b></p>\n",
       "\n",
       "            <p><a href=\"http://192.168.1.8:4040\">Spark UI</a></p>\n",
       "\n",
       "            <dl>\n",
       "              <dt>Version</dt>\n",
       "                <dd><code>v3.1.2</code></dd>\n",
       "              <dt>Master</dt>\n",
       "                <dd><code>local[*]</code></dd>\n",
       "              <dt>AppName</dt>\n",
       "                <dd><code>dataframe</code></dd>\n",
       "            </dl>\n",
       "        </div>\n",
       "        \n",
       "            </div>\n",
       "        "
      ],
      "text/plain": [
       "<pyspark.sql.session.SparkSession at 0x7fc65ee909a0>"
      ]
     },
     "execution_count": 30,
     "metadata": {},
     "output_type": "execute_result"
    }
   ],
   "source": [
    "spark"
   ]
  },
  {
   "cell_type": "code",
   "execution_count": 31,
   "id": "c4ae2583",
   "metadata": {},
   "outputs": [
    {
     "name": "stdout",
     "output_type": "stream",
     "text": [
      "root\n",
      " |-- Name: string (nullable = true)\n",
      " |-- Department: string (nullable = true)\n",
      " |-- Salary: integer (nullable = true)\n",
      "\n"
     ]
    }
   ],
   "source": [
    "df.printSchema()"
   ]
  },
  {
   "cell_type": "markdown",
   "id": "d552d6fa",
   "metadata": {},
   "source": [
    "### Groupby"
   ]
  },
  {
   "cell_type": "code",
   "execution_count": 33,
   "id": "04cd619e",
   "metadata": {},
   "outputs": [
    {
     "data": {
      "text/plain": [
       "DataFrame[Name: string, sum(Salary): bigint]"
      ]
     },
     "execution_count": 33,
     "metadata": {},
     "output_type": "execute_result"
    }
   ],
   "source": [
    "df.groupBy(\"Name\").sum()"
   ]
  },
  {
   "cell_type": "code",
   "execution_count": 34,
   "id": "d2b23bbf",
   "metadata": {},
   "outputs": [
    {
     "name": "stdout",
     "output_type": "stream",
     "text": [
      "+-------+-----------+\n",
      "|   Name|sum(Salary)|\n",
      "+-------+-----------+\n",
      "|  nadal|      30000|\n",
      "|hyunjoo|      40000|\n",
      "|    kim|     200000|\n",
      "|   john|      40000|\n",
      "|  danny|      30000|\n",
      "| eileen|      70000|\n",
      "| hailey|       3400|\n",
      "+-------+-----------+\n",
      "\n"
     ]
    }
   ],
   "source": [
    "df.groupBy(\"Name\").sum().show()"
   ]
  },
  {
   "cell_type": "code",
   "execution_count": 35,
   "id": "4e5b2c7f",
   "metadata": {},
   "outputs": [
    {
     "name": "stdout",
     "output_type": "stream",
     "text": [
      "+----------+-----------+\n",
      "|Department|max(Salary)|\n",
      "+----------+-----------+\n",
      "|  big data|     200000|\n",
      "|        it|      40000|\n",
      "|     admin|      40000|\n",
      "+----------+-----------+\n",
      "\n"
     ]
    }
   ],
   "source": [
    "df.groupBy(\"Department\").max().show()"
   ]
  },
  {
   "cell_type": "code",
   "execution_count": 36,
   "id": "adde2772",
   "metadata": {},
   "outputs": [
    {
     "name": "stdout",
     "output_type": "stream",
     "text": [
      "+----------+-----------+\n",
      "|Department|sum(Salary)|\n",
      "+----------+-----------+\n",
      "|  big data|     300000|\n",
      "|        it|      73400|\n",
      "|     admin|      40000|\n",
      "+----------+-----------+\n",
      "\n"
     ]
    }
   ],
   "source": [
    "df.groupBy(\"Department\").sum().show()"
   ]
  },
  {
   "cell_type": "code",
   "execution_count": 37,
   "id": "aa92b42f",
   "metadata": {},
   "outputs": [
    {
     "name": "stdout",
     "output_type": "stream",
     "text": [
      "+----------+------------------+\n",
      "|Department|       avg(Salary)|\n",
      "+----------+------------------+\n",
      "|  big data|          100000.0|\n",
      "|        it|24466.666666666668|\n",
      "|     admin|           40000.0|\n",
      "+----------+------------------+\n",
      "\n"
     ]
    }
   ],
   "source": [
    "df.groupBy(\"Department\").mean().show()"
   ]
  },
  {
   "cell_type": "code",
   "execution_count": 38,
   "id": "629f865a",
   "metadata": {},
   "outputs": [
    {
     "name": "stdout",
     "output_type": "stream",
     "text": [
      "+----------+-----+\n",
      "|Department|count|\n",
      "+----------+-----+\n",
      "|  big data|    3|\n",
      "|        it|    3|\n",
      "|     admin|    1|\n",
      "+----------+-----+\n",
      "\n"
     ]
    }
   ],
   "source": [
    "df.groupBy(\"Department\").count().show()"
   ]
  },
  {
   "cell_type": "code",
   "execution_count": 39,
   "id": "e4c91705",
   "metadata": {},
   "outputs": [
    {
     "data": {
      "text/plain": [
       "DataFrame[sum(Salary): bigint]"
      ]
     },
     "execution_count": 39,
     "metadata": {},
     "output_type": "execute_result"
    }
   ],
   "source": [
    "df.agg({\"Salary\":\"sum\"})"
   ]
  },
  {
   "cell_type": "code",
   "execution_count": 40,
   "id": "8e7eee4f",
   "metadata": {},
   "outputs": [
    {
     "name": "stdout",
     "output_type": "stream",
     "text": [
      "+-----------+\n",
      "|sum(Salary)|\n",
      "+-----------+\n",
      "|     413400|\n",
      "+-----------+\n",
      "\n"
     ]
    }
   ],
   "source": [
    "df.agg({\"Salary\":\"sum\"}).show()"
   ]
  },
  {
   "cell_type": "code",
   "execution_count": 43,
   "id": "aa02dac8",
   "metadata": {},
   "outputs": [
    {
     "name": "stdout",
     "output_type": "stream",
     "text": [
      "+---------------+\n",
      "|sum(Department)|\n",
      "+---------------+\n",
      "|           null|\n",
      "+---------------+\n",
      "\n"
     ]
    }
   ],
   "source": [
    "df.agg({\"Department\":\"sum\"}).show()  # string"
   ]
  },
  {
   "cell_type": "code",
   "execution_count": null,
   "id": "bbfa6fea",
   "metadata": {},
   "outputs": [],
   "source": []
  }
 ],
 "metadata": {
  "kernelspec": {
   "display_name": "Python 3 (ipykernel)",
   "language": "python",
   "name": "python3"
  },
  "language_info": {
   "codemirror_mode": {
    "name": "ipython",
    "version": 3
   },
   "file_extension": ".py",
   "mimetype": "text/x-python",
   "name": "python",
   "nbconvert_exporter": "python",
   "pygments_lexer": "ipython3",
   "version": "3.9.7"
  }
 },
 "nbformat": 4,
 "nbformat_minor": 5
}
