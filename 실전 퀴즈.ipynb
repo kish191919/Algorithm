{
 "cells": [
  {
   "cell_type": "code",
   "execution_count": 2,
   "id": "0e34203e",
   "metadata": {},
   "outputs": [],
   "source": [
    "#Definition for singly-linked list.\n",
    "class ListNode:\n",
    "    def __init__(self, val=0, next=None):\n",
    "        self.val = val\n",
    "        self.next = next\n",
    "\n",
    "class Solution:\n",
    "    def addTwoNumbers(self, l1, l2, c=0):\n",
    "        \n",
    "        val = l1.val + l2.val + c\n",
    "        c = val // 10\n",
    "        print(val)\n",
    "        print(c)\n",
    "        ret = ListNode(val % 10)\n",
    "        print(ret)\n",
    "        print(l1.next)\n",
    "        print(l2.next)\n",
    "        \n",
    "        if (l1.next != None or l2.next !=None or c !=0):\n",
    "            if l1.next == None:\n",
    "                l1.next=ListNode(0)\n",
    "            if l2.next == None:\n",
    "                l2.next =ListNode(0)\n",
    "            ret.next = self.addTwoNumbers(l1.next, l2.next, c)\n",
    "            print(ret)\n",
    "        return ret"
   ]
  },
  {
   "cell_type": "markdown",
   "id": "633bdae8",
   "metadata": {},
   "source": [
    "https://leetcode.com/problems/add-two-numbers-ii/solution/"
   ]
  },
  {
   "cell_type": "code",
   "execution_count": null,
   "id": "aafe4737",
   "metadata": {},
   "outputs": [],
   "source": [
    "\n",
    "\n",
    "# Definition for singly-linked list.\n",
    "# class ListNode:\n",
    "#     def __init__(self, val=0, next=None):\n",
    "#         self.val = val\n",
    "#         self.next = next\n",
    "class Solution:\n",
    "    \n",
    "    def reversList(self, head):\n",
    "        last = None\n",
    "        \n",
    "        while head:\n",
    "            temp = head.next\n",
    "            head.next = last\n",
    "            \n",
    "            last = head\n",
    "            head = temp\n",
    "            \n",
    "        return last\n",
    "    \n",
    "    \n",
    "    def addTwoNumbers(self, l1: Optional[ListNode], l2: Optional[ListNode]) -> Optional[ListNode]:\n",
    "        \n",
    "        l1 = self.reversList(l1)\n",
    "        l2 = self.reversList(l2)\n",
    "        \n",
    "        head = None\n",
    "        carry = 0\n",
    "        \n",
    "        while l1 or l2:\n",
    "            x1 = l1.val if l1 else 0\n",
    "            x2 = l2.val if l2 else 0\n",
    "            \n",
    "            \n",
    "            val = (carry + x1 + x2) % 10\n",
    "            carry = (carry + x1 + x2) // 10\n",
    "            \n",
    "            curr = ListNode(val)\n",
    "            curr.next = head\n",
    "            head = curr\n",
    "            \n",
    "            l1 = l1.next if l1 else None\n",
    "            l2 = l2.next if l2 else None\n",
    "        if carry:\n",
    "            curr = ListNode(carry)\n",
    "            curr.next = head\n",
    "            head = curr\n",
    "            \n",
    "        return head"
   ]
  }
 ],
 "metadata": {
  "kernelspec": {
   "display_name": "Python 3 (ipykernel)",
   "language": "python",
   "name": "python3"
  },
  "language_info": {
   "codemirror_mode": {
    "name": "ipython",
    "version": 3
   },
   "file_extension": ".py",
   "mimetype": "text/x-python",
   "name": "python",
   "nbconvert_exporter": "python",
   "pygments_lexer": "ipython3",
   "version": "3.9.7"
  }
 },
 "nbformat": 4,
 "nbformat_minor": 5
}
