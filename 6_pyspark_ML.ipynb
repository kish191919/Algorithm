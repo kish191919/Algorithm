{
 "cells": [
  {
   "cell_type": "code",
   "execution_count": 1,
   "id": "b2bc7e9e",
   "metadata": {},
   "outputs": [],
   "source": [
    "from pyspark.sql import SparkSession"
   ]
  },
  {
   "cell_type": "code",
   "execution_count": 4,
   "id": "90fdc1a3",
   "metadata": {},
   "outputs": [
    {
     "name": "stderr",
     "output_type": "stream",
     "text": [
      "22/01/19 04:58:52 WARN NativeCodeLoader: Unable to load native-hadoop library for your platform... using builtin-java classes where applicable\n",
      "Using Spark's default log4j profile: org/apache/spark/log4j-defaults.properties\n",
      "Setting default log level to \"WARN\".\n",
      "To adjust logging level use sc.setLogLevel(newLevel). For SparkR, use setLogLevel(newLevel).\n",
      "22/01/19 04:58:53 WARN Utils: Service 'SparkUI' could not bind on port 4040. Attempting port 4041.\n"
     ]
    }
   ],
   "source": [
    "spark = SparkSession.builder.appName(\"Missing\").getOrCreate()"
   ]
  },
  {
   "cell_type": "code",
   "execution_count": 7,
   "id": "9d7d4a49",
   "metadata": {},
   "outputs": [
    {
     "name": "stdout",
     "output_type": "stream",
     "text": [
      "+-------+---+----------+------+\n",
      "|   Name|age|experience|Salary|\n",
      "+-------+---+----------+------+\n",
      "|  danny| 30|        10| 30000|\n",
      "|hyunjoo| 33|      null| 40000|\n",
      "| eileen| 23|         5| 70000|\n",
      "| hailey| 44|         4|  3400|\n",
      "|   john| 22|         3| 40000|\n",
      "|    kim| 36|         6|200000|\n",
      "|   kim2| 87|         7| 30000|\n",
      "|   lora| 49|        15|152020|\n",
      "+-------+---+----------+------+\n",
      "\n"
     ]
    }
   ],
   "source": [
    "train = spark.read.csv(\"test4.csv\", header=True, inferSchema=True)\n",
    "train.show()"
   ]
  },
  {
   "cell_type": "code",
   "execution_count": 8,
   "id": "50264284",
   "metadata": {},
   "outputs": [
    {
     "name": "stdout",
     "output_type": "stream",
     "text": [
      "root\n",
      " |-- Name: string (nullable = true)\n",
      " |-- age: integer (nullable = true)\n",
      " |-- experience: integer (nullable = true)\n",
      " |-- Salary: integer (nullable = true)\n",
      "\n"
     ]
    }
   ],
   "source": [
    "train.printSchema()"
   ]
  },
  {
   "cell_type": "code",
   "execution_count": 9,
   "id": "bc895c59",
   "metadata": {},
   "outputs": [
    {
     "data": {
      "text/plain": [
       "['Name', 'age', 'experience', 'Salary']"
      ]
     },
     "execution_count": 9,
     "metadata": {},
     "output_type": "execute_result"
    }
   ],
   "source": [
    "train.columns"
   ]
  },
  {
   "cell_type": "code",
   "execution_count": 11,
   "id": "6f8f7b5e",
   "metadata": {},
   "outputs": [
    {
     "data": {
      "text/plain": [
       "[('Name', 'string'), ('age', 'int'), ('experience', 'int'), ('Salary', 'int')]"
      ]
     },
     "execution_count": 11,
     "metadata": {},
     "output_type": "execute_result"
    }
   ],
   "source": [
    "\n",
    "train.dtypes"
   ]
  },
  {
   "cell_type": "markdown",
   "id": "51d45347",
   "metadata": {},
   "source": [
    "[age, experience] --->new feature ----> indenpendent feature"
   ]
  },
  {
   "cell_type": "code",
   "execution_count": 27,
   "id": "bc6aea8a",
   "metadata": {},
   "outputs": [
    {
     "name": "stdout",
     "output_type": "stream",
     "text": [
      "+-------+---+----------+------+\n",
      "|   Name|age|experience|Salary|\n",
      "+-------+---+----------+------+\n",
      "|  danny| 30|        10| 30000|\n",
      "|hyunjoo| 33|      null| 40000|\n",
      "| eileen| 23|         5| 70000|\n",
      "| hailey| 44|         4|  3400|\n",
      "|   john| 22|         3| 40000|\n",
      "|    kim| 36|         6|200000|\n",
      "|   kim2| 87|         7| 30000|\n",
      "|   lora| 49|        15|152020|\n",
      "+-------+---+----------+------+\n",
      "\n"
     ]
    }
   ],
   "source": [
    "train.show()"
   ]
  },
  {
   "cell_type": "code",
   "execution_count": 33,
   "id": "0a2a3fe5",
   "metadata": {},
   "outputs": [],
   "source": [
    "from pyspark.ml.feature import Imputer\n",
    "imputer = Imputer(inputCol='experience',\n",
    "                  outputCol='experience_imputed').setStrategy(\"mean\")"
   ]
  },
  {
   "cell_type": "code",
   "execution_count": 46,
   "id": "aa147b76",
   "metadata": {},
   "outputs": [
    {
     "name": "stdout",
     "output_type": "stream",
     "text": [
      "+-------+---+----------+------+------------------+\n",
      "|   Name|age|experience|Salary|experience_imputed|\n",
      "+-------+---+----------+------+------------------+\n",
      "|  danny| 30|        10| 30000|                10|\n",
      "|hyunjoo| 33|      null| 40000|                 7|\n",
      "| eileen| 23|         5| 70000|                 5|\n",
      "| hailey| 44|         4|  3400|                 4|\n",
      "|   john| 22|         3| 40000|                 3|\n",
      "|    kim| 36|         6|200000|                 6|\n",
      "|   kim2| 87|         7| 30000|                 7|\n",
      "|   lora| 49|        15|152020|                15|\n",
      "+-------+---+----------+------+------------------+\n",
      "\n"
     ]
    }
   ],
   "source": [
    "df = imputer.fit(train).transform(train)\n",
    "df.show()"
   ]
  },
  {
   "cell_type": "code",
   "execution_count": 47,
   "id": "0b558140",
   "metadata": {},
   "outputs": [
    {
     "name": "stdout",
     "output_type": "stream",
     "text": [
      "+-------+---+------+------------------+\n",
      "|   Name|age|Salary|experience_imputed|\n",
      "+-------+---+------+------------------+\n",
      "|  danny| 30| 30000|                10|\n",
      "|hyunjoo| 33| 40000|                 7|\n",
      "| eileen| 23| 70000|                 5|\n",
      "| hailey| 44|  3400|                 4|\n",
      "|   john| 22| 40000|                 3|\n",
      "|    kim| 36|200000|                 6|\n",
      "|   kim2| 87| 30000|                 7|\n",
      "|   lora| 49|152020|                15|\n",
      "+-------+---+------+------------------+\n",
      "\n"
     ]
    }
   ],
   "source": [
    "df =df.drop(\"experience\")\n",
    "df.show()"
   ]
  },
  {
   "cell_type": "code",
   "execution_count": 54,
   "id": "1987e6b5",
   "metadata": {},
   "outputs": [],
   "source": [
    "from pyspark.ml.feature import VectorAssembler\n",
    "featureassember = VectorAssembler(inputCols=[\"age\",\"experience_imputed\"],\n",
    "                                outputCol=\"Independent\")"
   ]
  },
  {
   "cell_type": "code",
   "execution_count": 55,
   "id": "b8a00f75",
   "metadata": {},
   "outputs": [
    {
     "data": {
      "text/plain": [
       "VectorAssembler_8e7796f2b37f"
      ]
     },
     "execution_count": 55,
     "metadata": {},
     "output_type": "execute_result"
    }
   ],
   "source": [
    "featureassember"
   ]
  },
  {
   "cell_type": "code",
   "execution_count": 56,
   "id": "e60f526c",
   "metadata": {},
   "outputs": [
    {
     "name": "stdout",
     "output_type": "stream",
     "text": [
      "+-------+---+------+------------------+-----------+\n",
      "|   Name|age|Salary|experience_imputed|Independent|\n",
      "+-------+---+------+------------------+-----------+\n",
      "|  danny| 30| 30000|                10|[30.0,10.0]|\n",
      "|hyunjoo| 33| 40000|                 7| [33.0,7.0]|\n",
      "| eileen| 23| 70000|                 5| [23.0,5.0]|\n",
      "| hailey| 44|  3400|                 4| [44.0,4.0]|\n",
      "|   john| 22| 40000|                 3| [22.0,3.0]|\n",
      "|    kim| 36|200000|                 6| [36.0,6.0]|\n",
      "|   kim2| 87| 30000|                 7| [87.0,7.0]|\n",
      "|   lora| 49|152020|                15|[49.0,15.0]|\n",
      "+-------+---+------+------------------+-----------+\n",
      "\n"
     ]
    }
   ],
   "source": [
    "output = featureassember.transform(df)\n",
    "output.show()"
   ]
  },
  {
   "cell_type": "code",
   "execution_count": 58,
   "id": "e5dfe725",
   "metadata": {},
   "outputs": [
    {
     "data": {
      "text/plain": [
       "['Name', 'age', 'Salary', 'experience_imputed', 'Independent']"
      ]
     },
     "execution_count": 58,
     "metadata": {},
     "output_type": "execute_result"
    }
   ],
   "source": [
    "\n",
    "output.columns"
   ]
  },
  {
   "cell_type": "code",
   "execution_count": 59,
   "id": "a4762014",
   "metadata": {},
   "outputs": [
    {
     "name": "stdout",
     "output_type": "stream",
     "text": [
      "+-----------+------+\n",
      "|Independent|Salary|\n",
      "+-----------+------+\n",
      "|[30.0,10.0]| 30000|\n",
      "| [33.0,7.0]| 40000|\n",
      "| [23.0,5.0]| 70000|\n",
      "| [44.0,4.0]|  3400|\n",
      "| [22.0,3.0]| 40000|\n",
      "| [36.0,6.0]|200000|\n",
      "| [87.0,7.0]| 30000|\n",
      "|[49.0,15.0]|152020|\n",
      "+-----------+------+\n",
      "\n"
     ]
    }
   ],
   "source": [
    "finalized_df = output.select([\"Independent\",\"Salary\"])\n",
    "finalized_df.show()"
   ]
  },
  {
   "cell_type": "code",
   "execution_count": 60,
   "id": "57527e62",
   "metadata": {},
   "outputs": [],
   "source": [
    "from pyspark.ml.regression import LinearRegression"
   ]
  },
  {
   "cell_type": "code",
   "execution_count": 62,
   "id": "e9842e16",
   "metadata": {},
   "outputs": [
    {
     "name": "stderr",
     "output_type": "stream",
     "text": [
      "22/01/19 05:29:35 WARN Instrumentation: [1f616092] regParam is zero, which might cause numerical instability and overfitting.\n",
      "22/01/19 05:29:35 WARN BLAS: Failed to load implementation from: com.github.fommil.netlib.NativeSystemBLAS\n",
      "22/01/19 05:29:35 WARN BLAS: Failed to load implementation from: com.github.fommil.netlib.NativeRefBLAS\n",
      "22/01/19 05:29:35 WARN LAPACK: Failed to load implementation from: com.github.fommil.netlib.NativeSystemLAPACK\n",
      "22/01/19 05:29:35 WARN LAPACK: Failed to load implementation from: com.github.fommil.netlib.NativeRefLAPACK\n"
     ]
    }
   ],
   "source": [
    "train_df, test_df = finalized_df.randomSplit([0.75,0.25])\n",
    "regressor = LinearRegression(featuresCol = \"Independent\", labelCol=\"Salary\")\n",
    "regressor=regressor.fit(train_df)"
   ]
  },
  {
   "cell_type": "code",
   "execution_count": 63,
   "id": "14b3325c",
   "metadata": {},
   "outputs": [
    {
     "data": {
      "text/plain": [
       "LinearRegressionModel: uid=LinearRegression_d36087d983e1, numFeatures=2"
      ]
     },
     "execution_count": 63,
     "metadata": {},
     "output_type": "execute_result"
    }
   ],
   "source": [
    "regressor"
   ]
  },
  {
   "cell_type": "code",
   "execution_count": 65,
   "id": "1e5035a3",
   "metadata": {},
   "outputs": [
    {
     "data": {
      "text/plain": [
       "DenseVector([889.2075, 5731.4454])"
      ]
     },
     "execution_count": 65,
     "metadata": {},
     "output_type": "execute_result"
    }
   ],
   "source": [
    "regressor.coefficients"
   ]
  },
  {
   "cell_type": "code",
   "execution_count": 66,
   "id": "f585b2c3",
   "metadata": {},
   "outputs": [
    {
     "data": {
      "text/plain": [
       "5443.649715996512"
      ]
     },
     "execution_count": 66,
     "metadata": {},
     "output_type": "execute_result"
    }
   ],
   "source": [
    "regressor.intercept"
   ]
  },
  {
   "cell_type": "code",
   "execution_count": 67,
   "id": "740e229b",
   "metadata": {},
   "outputs": [
    {
     "data": {
      "text/plain": [
       "<pyspark.ml.regression.LinearRegressionSummary at 0x7f8d65014ac0>"
      ]
     },
     "execution_count": 67,
     "metadata": {},
     "output_type": "execute_result"
    }
   ],
   "source": [
    "pred = regressor.evaluate(test_df)\n",
    "pred"
   ]
  },
  {
   "cell_type": "code",
   "execution_count": 68,
   "id": "25d4e116",
   "metadata": {},
   "outputs": [
    {
     "name": "stdout",
     "output_type": "stream",
     "text": [
      "+-----------+------+-----------------+\n",
      "|Independent|Salary|       prediction|\n",
      "+-----------+------+-----------------+\n",
      "| [87.0,7.0]| 30000|122924.8212102104|\n",
      "+-----------+------+-----------------+\n",
      "\n"
     ]
    }
   ],
   "source": [
    "pred.predictions.show()"
   ]
  },
  {
   "cell_type": "code",
   "execution_count": 69,
   "id": "e52cc06f",
   "metadata": {},
   "outputs": [
    {
     "name": "stdout",
     "output_type": "stream",
     "text": [
      "+-------+---+------+------------------+\n",
      "|   Name|age|Salary|experience_imputed|\n",
      "+-------+---+------+------------------+\n",
      "|  danny| 30| 30000|                10|\n",
      "|hyunjoo| 33| 40000|                 7|\n",
      "| eileen| 23| 70000|                 5|\n",
      "| hailey| 44|  3400|                 4|\n",
      "|   john| 22| 40000|                 3|\n",
      "|    kim| 36|200000|                 6|\n",
      "|   kim2| 87| 30000|                 7|\n",
      "|   lora| 49|152020|                15|\n",
      "+-------+---+------+------------------+\n",
      "\n"
     ]
    }
   ],
   "source": [
    "df.show()"
   ]
  },
  {
   "cell_type": "code",
   "execution_count": 70,
   "id": "f821ee0b",
   "metadata": {},
   "outputs": [
    {
     "data": {
      "text/plain": [
       "92924.8212102104"
      ]
     },
     "execution_count": 70,
     "metadata": {},
     "output_type": "execute_result"
    }
   ],
   "source": [
    "pred.meanAbsoluteError"
   ]
  },
  {
   "cell_type": "code",
   "execution_count": 71,
   "id": "209c0496",
   "metadata": {},
   "outputs": [
    {
     "data": {
      "text/plain": [
       "8635022396.94957"
      ]
     },
     "execution_count": 71,
     "metadata": {},
     "output_type": "execute_result"
    }
   ],
   "source": [
    "pred.meanSquaredError"
   ]
  },
  {
   "cell_type": "code",
   "execution_count": null,
   "id": "fdf3a514",
   "metadata": {},
   "outputs": [],
   "source": []
  }
 ],
 "metadata": {
  "kernelspec": {
   "display_name": "Python 3 (ipykernel)",
   "language": "python",
   "name": "python3"
  },
  "language_info": {
   "codemirror_mode": {
    "name": "ipython",
    "version": 3
   },
   "file_extension": ".py",
   "mimetype": "text/x-python",
   "name": "python",
   "nbconvert_exporter": "python",
   "pygments_lexer": "ipython3",
   "version": "3.9.7"
  }
 },
 "nbformat": 4,
 "nbformat_minor": 5
}
